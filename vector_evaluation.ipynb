{
 "cells": [
  {
   "cell_type": "code",
   "execution_count": 131,
   "metadata": {},
   "outputs": [],
   "source": [
    "import glob\n",
    "import os\n",
    "import re\n",
    "import pickle\n",
    "from io import StringIO\n",
    "from collections import defaultdict\n",
    "\n",
    "import numpy as np\n",
    "import pandas as pd\n",
    "import matplotlib\n",
    "import matplotlib.pyplot as plt\n",
    "\n",
    "import torch\n",
    "from scipy.spatial import distance\n",
    "from sklearn.manifold import TSNE\n",
    "from sklearn.decomposition import PCA\n",
    "\n",
    "\n",
    "%matplotlib inline"
   ]
  },
  {
   "cell_type": "code",
   "execution_count": 173,
   "metadata": {},
   "outputs": [
    {
     "data": {
      "text/plain": [
       "476"
      ]
     },
     "execution_count": 173,
     "metadata": {},
     "output_type": "execute_result"
    }
   ],
   "source": [
    "input_lines = []\n",
    "with open('model_data/data/all_data2.csv') as f:\n",
    "    for line in f:\n",
    "        input_lines.append(line)\n",
    "           \n",
    "len(input_lines)"
   ]
  },
  {
   "cell_type": "code",
   "execution_count": null,
   "metadata": {},
   "outputs": [],
   "source": []
  },
  {
   "cell_type": "code",
   "execution_count": 174,
   "metadata": {},
   "outputs": [
    {
     "data": {
      "text/plain": [
       "['sklearn_labels.csv',\n",
       " 'all_data_model.dbow_numnoisewords.2_vecdim.100_batchsize.32_lr.0.001000_epoch.95_loss.0.755801.csv',\n",
       " 'caret.csv',\n",
       " 'numpy_labels.csv',\n",
       " 'numpy.csv',\n",
       " 'all_labels.csv',\n",
       " 'all_data2.csv',\n",
       " 'sklearn.csv',\n",
       " 'all_data.csv',\n",
       " 'scipy_labels.csv',\n",
       " 'scipy.csv',\n",
       " 'caret_labels.csv',\n",
       " 'all_data2_model.dbow_numnoisewords.2_vecdim.100_batchsize.32_lr.0.001000_epoch.95_loss.0.6850212.csv',\n",
       " 'all_data_model.dbow_numnoisewords.2_vecdim.100_batchsize.32_lr.0.001000_epoch.99_loss.0.6853602.csv',\n",
       " 'all_data_model.dbow_numnoisewords.2_vecdim.100_batchsize.32_lr.0.001000_epoch.97_loss.0.750086.csv']"
      ]
     },
     "execution_count": 174,
     "metadata": {},
     "output_type": "execute_result"
    }
   ],
   "source": [
    "os.listdir(\"model_data/data\")"
   ]
  },
  {
   "cell_type": "code",
   "execution_count": 175,
   "metadata": {},
   "outputs": [
    {
     "data": {
      "text/plain": [
       "476"
      ]
     },
     "execution_count": 175,
     "metadata": {},
     "output_type": "execute_result"
    }
   ],
   "source": [
    "output_lines = []\n",
    "with open('model_data/data/all_data2_model.dbow_numnoisewords.2_vecdim.100_batchsize.32_lr.0.001000_epoch.95_loss.0.6850212.csv') as f:\n",
    "    for line in f:\n",
    "        output_lines.append(line)\n",
    "    \n",
    "len(output_lines)"
   ]
  },
  {
   "cell_type": "code",
   "execution_count": 176,
   "metadata": {},
   "outputs": [
    {
     "data": {
      "text/plain": [
       "(461, 100)"
      ]
     },
     "execution_count": 176,
     "metadata": {},
     "output_type": "execute_result"
    }
   ],
   "source": [
    "matched = []\n",
    "for line_idx in range(len(output_lines)):\n",
    "    matched.append((input_lines[line_idx], output_lines[line_idx]))\n",
    "\n",
    "matched_no_header = matched[1:]\n",
    "    \n",
    "matched_clean_idxs = [re.match(\".*[A-Z].*\", x[1]) is None for x in matched_no_header]\n",
    "matched_clean = [x for x in matched_no_header if not re.match(\".*[A-Z].*\", x[1])]\n",
    "matched_clean_vectors = [x[1].split(\",\") for x in matched_clean]\n",
    "\n",
    "vec_matrix = np.array(matched_clean_vectors)\n",
    "vec_matrix.shape"
   ]
  },
  {
   "cell_type": "code",
   "execution_count": 177,
   "metadata": {},
   "outputs": [],
   "source": [
    "def topNMatches(idx, matrix, n=5):\n",
    "    \n",
    "    distances = distance.cdist([matrix[idx]], matrix, \"cosine\")[0]\n",
    "\n",
    "    ind = np.argpartition(distances, n+1)[:(n+1)]\n",
    "    sorted_ind = ind[np.argsort(distances[ind])][1:]\n",
    "    min_distances = distances[sorted_ind]\n",
    "    max_similarity = [1 - x for x in min_distances]\n",
    "    \n",
    "    return (max_similarity, sorted_ind)"
   ]
  },
  {
   "cell_type": "code",
   "execution_count": 178,
   "metadata": {},
   "outputs": [],
   "source": [
    "similarity, idxs = topNMatches(5, vec_matrix)"
   ]
  },
  {
   "cell_type": "code",
   "execution_count": 179,
   "metadata": {},
   "outputs": [
    {
     "data": {
      "text/plain": [
       "array([117, 114,  85, 328, 105])"
      ]
     },
     "execution_count": 179,
     "metadata": {},
     "output_type": "execute_result"
    }
   ],
   "source": [
    "idxs"
   ]
  },
  {
   "cell_type": "code",
   "execution_count": 180,
   "metadata": {},
   "outputs": [],
   "source": [
    "target = matched[5]\n",
    "matches = [matched[i] for i in idxs]"
   ]
  },
  {
   "cell_type": "code",
   "execution_count": 125,
   "metadata": {},
   "outputs": [
    {
     "data": {
      "text/plain": [
       "100"
      ]
     },
     "execution_count": 125,
     "metadata": {},
     "output_type": "execute_result"
    }
   ],
   "source": []
  },
  {
   "cell_type": "code",
   "execution_count": 185,
   "metadata": {},
   "outputs": [],
   "source": [
    "rankings = defaultdict(list)\n",
    "for idx in range(vec_matrix.shape[0]):\n",
    "    rankings[idx] = list(topNMatches(idx, vec_matrix, n=5))"
   ]
  },
  {
   "cell_type": "code",
   "execution_count": 186,
   "metadata": {},
   "outputs": [],
   "source": [
    "with open('vector_recommendations.pkl', 'wb') as f:\n",
    "    pickle.dump(rankings, f)"
   ]
  },
  {
   "cell_type": "code",
   "execution_count": 191,
   "metadata": {},
   "outputs": [
    {
     "data": {
      "text/plain": [
       "[[0.67439562825821,\n",
       "  0.6737601544244304,\n",
       "  0.6719078491473625,\n",
       "  0.6682759849569109,\n",
       "  0.6626707744505367],\n",
       " array([390, 385, 387, 162, 388])]"
      ]
     },
     "execution_count": 191,
     "metadata": {},
     "output_type": "execute_result"
    }
   ],
   "source": [
    "rankings[8]"
   ]
  },
  {
   "cell_type": "code",
   "execution_count": null,
   "metadata": {},
   "outputs": [],
   "source": []
  },
  {
   "cell_type": "code",
   "execution_count": null,
   "metadata": {},
   "outputs": [],
   "source": []
  },
  {
   "cell_type": "markdown",
   "metadata": {},
   "source": [
    "## tsne"
   ]
  },
  {
   "cell_type": "code",
   "execution_count": 85,
   "metadata": {},
   "outputs": [
    {
     "name": "stderr",
     "output_type": "stream",
     "text": [
      "<ipython-input-85-ad41dcf565ed>:11: UserWarning:\n",
      "\n",
      "Matplotlib is currently using module://ipykernel.pylab.backend_inline, which is a non-GUI backend, so cannot show the figure.\n",
      "\n"
     ]
    },
    {
     "data": {
      "image/png": "[encoded data removed]",
      "text/plain": [
       "<Figure size 1080x972 with 1 Axes>"
      ]
     },
     "metadata": {
      "needs_background": "light"
     },
     "output_type": "display_data"
    }
   ],
   "source": [
    "doc_pca = PCA(n_components=5).fit_transform(vec_matrix)\n",
    "tsne = TSNE(n_components=2, perplexity=5).fit_transform(doc_pca)\n",
    "\n",
    "\n",
    "fig, ax = plt.subplots()\n",
    "ax.scatter(tsne[:,0], tsne[:,1],s=3)\n",
    "# for x, y, token in zip(tsne[:,0],tsne[:,1],mft):\n",
    "#     ax.annotate(token, xy=(x,y), size=10)\n",
    "\n",
    "fig.set_size_inches(15,13.5)\n",
    "fig.show()\n",
    "\n"
   ]
  },
  {
   "cell_type": "code",
   "execution_count": 86,
   "metadata": {},
   "outputs": [],
   "source": [
    "import plotly.express as px"
   ]
  },
  {
   "cell_type": "code",
   "execution_count": 87,
   "metadata": {},
   "outputs": [],
   "source": [
    "tsne_df = pd.DataFrame(tsne, columns=['x', 'y'])"
   ]
  },
  {
   "cell_type": "code",
   "execution_count": 88,
   "metadata": {},
   "outputs": [],
   "source": [
    "\n",
    "\n",
    "fig2 = px.scatter(tsne_df, x=\"x\", y=\"y\",\n",
    "#                  size=\"population\", color=\"continent\", hover_name=\"country\",\n",
    "                  size_max=60)"
   ]
  },
  {
   "cell_type": "code",
   "execution_count": 89,
   "metadata": {},
   "outputs": [
    {
     "data": {
      "application/vnd.plotly.v1+json": {
       "config": {
        "plotlyServerURL": "https://plot.ly"
       },
       "data": [
        {
         "hovertemplate": "x=%{x}<br>y=%{y}<extra></extra>",
         "legendgroup": "",
         "marker": {
          "color": "#636efa",
          "symbol": "circle"
         },
         "mode": "markers",
         "name": "",
         "orientation": "v",
         "showlegend": false,
         "type": "scatter",
         "x": [
          25.728511810302734,
          23.12775993347168,
          25.073015213012695,
          26.519821166992188,
          36.965057373046875,
          4.652074813842773,
          -16.646141052246094,
          24.443010330200195,
          41.34932327270508,
          17.603681564331055,
          24.721708297729492,
          17.566526412963867,
          45.675804138183594,
          31.98655128479004,
          -21.61494255065918,
          24.25528335571289,
          24.172426223754883,
          -0.29479989409446716,
          9.541126251220703,
          17.49117660522461,
          32.72306823730469,
          33.234519958496094,
          24.04085350036621,
          25.09331703186035,
          6.071749687194824,
          9.09376049041748,
          30.066251754760742,
          10.688270568847656,
          37.29462432861328,
          35.16575241088867,
          12.090653419494629,
          34.07964324951172,
          31.174291610717773,
          37.214717864990234,
          40.16612243652344,
          12.630170822143555,
          25.464641571044922,
          37.716068267822266,
          37.460601806640625,
          34.350242614746094,
          36.08296203613281,
          25.294973373413086,
          33.79408645629883,
          -2.130748987197876,
          36.54226303100586,
          32.90909194946289,
          36.081199645996094,
          40.56191635131836,
          7.299603462219238,
          -0.5082921385765076,
          4.471426010131836,
          -2.719817876815796,
          4.379337787628174,
          7.410096168518066,
          23.142507553100586,
          60.99042510986328,
          6.039086818695068,
          1.7059441804885864,
          0.3685000538825989,
          24.724075317382812,
          21.228713989257812,
          22.219755172729492,
          10.606437683105469,
          -35.310691833496094,
          15.702829360961914,
          61.0112190246582,
          22.93539810180664,
          25.670024871826172,
          -3.444366455078125,
          23.21393585205078,
          25.870685577392578,
          21.614110946655273,
          31.021440505981445,
          36.45248031616211,
          41.72429275512695,
          25.556434631347656,
          41.968868255615234,
          -34.31364440917969,
          -9.06624984741211,
          -9.526147842407227,
          -7.624096393585205,
          -27.133886337280273,
          -26.38546371459961,
          -23.21247673034668,
          -35.703651428222656,
          -14.550199508666992,
          -24.639291763305664,
          -33.55467987060547,
          -28.367328643798828,
          -32.62550735473633,
          -29.795032501220703,
          -19.11219024658203,
          -17.3728084564209,
          -9.41239070892334,
          -10.692902565002441,
          -14.713973045349121,
          -27.284086227416992,
          -6.26499605178833,
          -23.63250160217285,
          -15.946684837341309,
          -14.887167930603027,
          -12.681434631347656,
          -10.562728881835938,
          -16.947181701660156,
          -11.380829811096191,
          -10.939366340637207,
          -14.989171981811523,
          -14.842076301574707,
          -8.396607398986816,
          -24.6910343170166,
          -7.819914817810059,
          -13.709071159362793,
          -10.340784072875977,
          -14.25219440460205,
          -16.25470733642578,
          -16.835397720336914,
          -11.164347648620605,
          -11.742416381835938,
          -36.27059555053711,
          -11.900513648986816,
          -19.020315170288086,
          -29.32530975341797,
          -33.62580490112305,
          -24.03146743774414,
          -11.031439781188965,
          -18.878681182861328,
          -10.58154582977295,
          -10.857561111450195,
          -24.001771926879883,
          -26.71570587158203,
          -31.434391021728516,
          -31.415119171142578,
          13.255953788757324,
          -32.96961212158203,
          -33.226497650146484,
          -21.2641544342041,
          -30.9901123046875,
          21.591655731201172,
          -38.41066360473633,
          -28.55240249633789,
          -34.77922439575195,
          -29.0958251953125,
          -37.9051628112793,
          -34.87437438964844,
          -35.576778411865234,
          -30.410308837890625,
          -34.06093215942383,
          -28.413433074951172,
          -15.666694641113281,
          -9.165767669677734,
          18.13813018798828,
          12.700855255126953,
          -0.3640453815460205,
          -10.428766250610352,
          6.537873268127441,
          19.291305541992188,
          -9.183677673339844,
          -35.23310852050781,
          12.99011516571045,
          -54.18962097167969,
          -32.7601318359375,
          17.996736526489258,
          53.59926223754883,
          34.412567138671875,
          15.162907600402832,
          10.649892807006836,
          5.553590297698975,
          -2.533629894256592,
          8.555134773254395,
          15.825797080993652,
          44.68238830566406,
          38.80559539794922,
          12.08427619934082,
          22.594341278076172,
          42.54088592529297,
          -13.125054359436035,
          26.91744613647461,
          4.979323387145996,
          -16.432981491088867,
          40.34959411621094,
          -0.6282615065574646,
          22.51806640625,
          6.745402812957764,
          30.397520065307617,
          3.6981072425842285,
          2.926746129989624,
          36.68170166015625,
          -8.653544425964355,
          25.73995590209961,
          -6.012798309326172,
          3.265824317932129,
          -28.886608123779297,
          -17.167007446289062,
          7.405720233917236,
          2.40409779548645,
          6.482633113861084,
          -34.02708053588867,
          6.503764629364014,
          39.55952835083008,
          -11.830486297607422,
          -0.6526691317558289,
          41.47591018676758,
          7.3489484786987305,
          41.4511604309082,
          17.99444007873535,
          -10.333157539367676,
          10.37672233581543,
          37.253997802734375,
          6.030693531036377,
          29.14464569091797,
          20.111682891845703,
          5.473392486572266,
          -30.08064842224121,
          -9.439059257507324,
          54.440040588378906,
          18.665241241455078,
          -16.636428833007812,
          -13.930367469787598,
          -26.473264694213867,
          37.14579772949219,
          -28.049129486083984,
          -7.096373081207275,
          2.4445769786834717,
          8.826881408691406,
          45.496150970458984,
          6.184957027435303,
          -4.424113750457764,
          5.225194454193115,
          22.16119384765625,
          -12.882640838623047,
          20.408742904663086,
          -43.58170700073242,
          13.801234245300293,
          -29.384315490722656,
          -33.3873291015625,
          9.582551002502441,
          -25.914878845214844,
          -7.594740867614746,
          39.916500091552734,
          -35.42583084106445,
          9.340567588806152,
          6.55902624130249,
          26.8749942779541,
          -4.553877353668213,
          8.319865226745605,
          10.75838851928711,
          6.769481182098389,
          -33.73951721191406,
          -18.403656005859375,
          21.337749481201172,
          25.933422088623047,
          11.295851707458496,
          21.897668838500977,
          21.51054573059082,
          20.404253005981445,
          6.238799095153809,
          15.670947074890137,
          -40.79636764526367,
          -55.27554702758789,
          30.151941299438477,
          -43.13465118408203,
          22.260459899902344,
          13.492218017578125,
          -1.8610360622406006,
          -50.38933181762695,
          -46.53719711303711,
          -34.63258361816406,
          11.969736099243164,
          18.469703674316406,
          27.815820693969727,
          30.586288452148438,
          -37.952598571777344,
          -8.835708618164062,
          -2.963498115539551,
          10.31978988647461,
          16.960744857788086,
          -9.52208137512207,
          47.304779052734375,
          -17.6257266998291,
          12.581007957458496,
          32.02803039550781,
          46.25836181640625,
          -6.3202805519104,
          -38.22138595581055,
          46.39560317993164,
          8.39880084991455,
          11.60952091217041,
          -34.099422454833984,
          -10.58495044708252,
          -46.289939880371094,
          27.166767120361328,
          61.84012985229492,
          39.257850646972656,
          -15.2736234664917,
          -13.12070083618164,
          37.73273468017578,
          -38.38186264038086,
          -62.323158264160156,
          -38.1537971496582,
          -38.35684585571289,
          59.823116302490234,
          39.5343132019043,
          45.641910552978516,
          36.235843658447266,
          34.824310302734375,
          36.702632904052734,
          45.73464584350586,
          -9.192887306213379,
          41.6663703918457,
          37.57456588745117,
          45.68684387207031,
          2.1666738986968994,
          -16.470046997070312,
          48.52772903442383,
          27.665882110595703,
          -16.44303321838379,
          38.43828582763672,
          -9.924503326416016,
          -30.591732025146484,
          -57.15346908569336,
          21.01600456237793,
          -42.346221923828125,
          -16.79857635498047,
          20.382225036621094,
          -12.146331787109375,
          -17.181554794311523,
          61.848358154296875,
          47.85709762573242,
          60.874088287353516,
          46.767845153808594,
          30.185901641845703,
          -11.927072525024414,
          56.250972747802734,
          20.380168914794922,
          32.830108642578125,
          39.782142639160156,
          54.25266647338867,
          62.149169921875,
          32.95960998535156,
          37.376773834228516,
          30.143644332885742,
          36.02823257446289,
          38.21668243408203,
          12.827595710754395,
          36.68952178955078,
          18.750322341918945,
          53.426658630371094,
          56.8702507019043,
          57.665313720703125,
          54.131996154785156,
          58.1964225769043,
          58.50611877441406,
          18.75621795654297,
          9.679972648620605,
          45.086158752441406,
          28.804269790649414,
          -60.09021759033203,
          -52.60442352294922,
          -2.5450336933135986,
          -45.21306228637695,
          31.482358932495117,
          -61.01461410522461,
          -52.0395622253418,
          -3.4877774715423584,
          -44.234046936035156,
          31.133394241333008,
          -60.77088165283203,
          -51.49874496459961,
          -2.137449264526367,
          -41.91303634643555,
          30.156150817871094,
          -59.13352584838867,
          -53.0892333984375,
          -2.0863752365112305,
          -42.48878860473633,
          29.43959617614746,
          -59.845272064208984,
          -51.052486419677734,
          -0.4226716458797455,
          -45.41254806518555,
          -37.108802795410156,
          -46.93587112426758,
          -48.30006790161133,
          -36.9613151550293,
          -47.994441986083984,
          -49.53517532348633,
          -36.04179382324219,
          -47.31013107299805,
          -49.305789947509766,
          -26.21601676940918,
          -7.155320644378662,
          -10.097306251525879,
          -12.776802062988281,
          -20.869874954223633,
          -6.233047962188721,
          -9.440268516540527,
          -18.081890106201172,
          -19.095911026000977,
          -13.165608406066895,
          36.264835357666016,
          -4.979550838470459,
          -9.624624252319336,
          -13.706341743469238,
          -10.73940372467041,
          25.52048683166504,
          -30.376176834106445,
          -7.913294792175293,
          -12.163625717163086,
          -2.993481159210205,
          -26.234865188598633,
          -5.2164626121521,
          -26.865827560424805,
          -24.30002212524414,
          -26.139633178710938,
          -21.964473724365234,
          28.457841873168945,
          -11.840287208557129,
          -21.5106258392334,
          -25.25076675415039,
          -12.250483512878418,
          -45.07001495361328,
          -21.25748062133789,
          -20.287229537963867,
          -19.93340492248535,
          -7.54385232925415,
          -15.385982513427734,
          -21.457286834716797,
          -11.243695259094238,
          -18.657127380371094,
          -17.952377319335938,
          -14.508299827575684,
          -9.3287935256958,
          -17.64494514465332,
          -27.688732147216797,
          -30.2112979888916,
          25.935871124267578,
          -18.65396499633789,
          -6.902006149291992,
          -58.16628646850586,
          -10.427685737609863,
          -17.65066909790039,
          -25.388416290283203,
          5.030549049377441,
          3.842339038848877,
          -8.50777530670166,
          -13.80052375793457,
          27.82887077331543,
          -6.160133361816406,
          -10.775651931762695,
          -5.448819160461426,
          -13.181327819824219,
          -27.85083770751953,
          -26.852779388427734,
          23.340627670288086,
          -3.5244853496551514,
          -1.7070516347885132,
          -25.791696548461914,
          -29.269794464111328
         ],
         "xaxis": "x",
         "y": [
          -29.300447463989258,
          -37.66606140136719,
          -22.705596923828125,
          1.1633021831512451,
          -22.138896942138672,
          -34.21895980834961,
          -66.95245361328125,
          -24.817323684692383,
          -22.24664878845215,
          -43.0740852355957,
          -23.8746395111084,
          -41.19247817993164,
          -4.058839321136475,
          -22.30252456665039,
          -32.97835922241211,
          -30.923093795776367,
          -17.311471939086914,
          -27.492626190185547,
          -31.690872192382812,
          -41.84550857543945,
          -37.058074951171875,
          -20.989957809448242,
          -36.32468795776367,
          -30.41859245300293,
          -28.54756736755371,
          -31.15927505493164,
          -35.91358947753906,
          -32.49033737182617,
          -38.08615493774414,
          -20.844406127929688,
          -33.31229019165039,
          -16.013118743896484,
          -36.1880989074707,
          -15.315483093261719,
          -23.15856170654297,
          -40.6583366394043,
          -43.85410690307617,
          -37.96900939941406,
          -16.843486785888672,
          -20.94906234741211,
          -39.06679916381836,
          -44.40129470825195,
          -37.80011749267578,
          -26.52369499206543,
          -42.760231018066406,
          -19.697938919067383,
          -40.08091354370117,
          -23.390748977661133,
          -32.66434097290039,
          -31.132171630859375,
          -33.228553771972656,
          -31.282665252685547,
          -35.30033874511719,
          -29.43145751953125,
          -32.330841064453125,
          3.089627981185913,
          -38.07514190673828,
          -35.219520568847656,
          -28.809492111206055,
          -37.906211853027344,
          -34.45244216918945,
          -43.09071731567383,
          -30.162160873413086,
          -29.426864624023438,
          -41.15928268432617,
          2.519174337387085,
          -45.35867691040039,
          -38.9265022277832,
          -4.492448806762695,
          -38.860355377197266,
          -35.12275314331055,
          -43.533206939697266,
          -23.51407814025879,
          -43.29518508911133,
          -18.68532943725586,
          -22.24394989013672,
          -19.23561668395996,
          -61.30362319946289,
          -83.27880096435547,
          -78.32123565673828,
          -79.08253479003906,
          -71.418212890625,
          -71.31890869140625,
          -70.45825958251953,
          -59.384342193603516,
          -68.61122131347656,
          -68.61624908447266,
          -61.01251983642578,
          -64.52960968017578,
          -62.28246307373047,
          -64.0935287475586,
          -86.02267456054688,
          -73.78112030029297,
          -86.8204116821289,
          -85.19628143310547,
          -75.91486358642578,
          -65.26624298095703,
          -79.1063461303711,
          -71.79124450683594,
          -74.6466064453125,
          -81.02933502197266,
          -86.88194274902344,
          -82.45816040039062,
          -81.39927673339844,
          -77.70046997070312,
          -68.40447235107422,
          -78.2236328125,
          -79.09212493896484,
          -81.35453033447266,
          -72.78632354736328,
          -77.14263153076172,
          -88.6226806640625,
          -77.73673248291016,
          -81.28425598144531,
          -68.24717712402344,
          -68.77123260498047,
          -87.01976013183594,
          -88.83412170410156,
          -58.760501861572266,
          -89.86034393310547,
          -86.40892791748047,
          -63.704994201660156,
          -62.356201171875,
          -69.66155242919922,
          -75.60587310791016,
          -80.62625122070312,
          -68.27749633789062,
          -84.68341827392578,
          -24.861352920532227,
          -24.14852523803711,
          -32.356807708740234,
          -19.61467933654785,
          -41.086219787597656,
          -32.061893463134766,
          -20.177932739257812,
          -25.572160720825195,
          -19.704391479492188,
          -38.14389419555664,
          -29.702299118041992,
          -31.836538314819336,
          -22.3461971282959,
          -33.332054138183594,
          -29.630374908447266,
          -29.826927185058594,
          -22.031808853149414,
          -31.811357498168945,
          -23.04168128967285,
          -32.95549774169922,
          10.73642635345459,
          24.130674362182617,
          51.198020935058594,
          18.354345321655273,
          51.5376091003418,
          45.298526763916016,
          54.07265090942383,
          33.34840393066406,
          42.81769561767578,
          29.7099552154541,
          46.87889099121094,
          9.167702674865723,
          31.018903732299805,
          50.55867385864258,
          15.918238639831543,
          -3.2039363384246826,
          17.87316131591797,
          15.10116958618164,
          33.77370071411133,
          45.318721771240234,
          11.459728240966797,
          18.24444580078125,
          27.972999572753906,
          24.379159927368164,
          18.927589416503906,
          27.844066619873047,
          26.9783878326416,
          58.51835250854492,
          30.12915802001953,
          46.30939865112305,
          12.543087005615234,
          26.77190589904785,
          43.24396514892578,
          21.47687339782715,
          28.569856643676758,
          19.961719512939453,
          9.329434394836426,
          23.95391273498535,
          22.25922393798828,
          26.68947410583496,
          19.56247329711914,
          -22.445356369018555,
          50.492576599121094,
          34.671180725097656,
          11.432631492614746,
          11.500593185424805,
          10.525657653808594,
          12.1783447265625,
          31.89738655090332,
          52.464786529541016,
          33.19847869873047,
          26.64030647277832,
          53.70474624633789,
          36.79719543457031,
          24.627717971801758,
          36.38535690307617,
          49.155677795410156,
          26.216073989868164,
          20.991365432739258,
          32.66643524169922,
          32.770179748535156,
          9.008140563964844,
          54.5799674987793,
          46.0300407409668,
          34.248817443847656,
          25.42317008972168,
          17.388978958129883,
          47.65264892578125,
          11.303849220275879,
          27.441743850708008,
          37.12199020385742,
          23.273880004882812,
          34.960166931152344,
          27.342710494995117,
          23.84387969970703,
          20.495012283325195,
          4.0037760734558105,
          31.349287033081055,
          30.91061019897461,
          31.109697341918945,
          26.643569946289062,
          27.04947853088379,
          41.287906646728516,
          40.13111877441406,
          41.83953094482422,
          46.996673583984375,
          33.886531829833984,
          50.3236083984375,
          37.81815719604492,
          56.19008255004883,
          32.518165588378906,
          30.334335327148438,
          14.191386222839355,
          26.202051162719727,
          18.757511138916016,
          30.23358917236328,
          19.354755401611328,
          21.61887550354004,
          51.86518859863281,
          34.51470184326172,
          55.023887634277344,
          42.932289123535156,
          29.707317352294922,
          15.389262199401855,
          23.718408584594727,
          24.697261810302734,
          24.431774139404297,
          30.024362564086914,
          41.28273391723633,
          33.79710006713867,
          8.313033103942871,
          4.728938579559326,
          40.87312698364258,
          22.51972198486328,
          41.03862380981445,
          44.10566711425781,
          38.523616790771484,
          35.51008605957031,
          45.69207763671875,
          47.019073486328125,
          40.828643798828125,
          7.897162437438965,
          6.244964599609375,
          32.43263626098633,
          44.0751953125,
          52.8675651550293,
          51.29793167114258,
          19.052902221679688,
          42.080780029296875,
          27.421010971069336,
          54.04692077636719,
          44.439327239990234,
          -3.298250436782837,
          24.858983993530273,
          27.994930267333984,
          49.45186233520508,
          2.227067708969116,
          30.522445678710938,
          42.58604431152344,
          35.897640228271484,
          57.96043395996094,
          16.772884368896484,
          2.5726659297943115,
          10.95430850982666,
          3.896320343017578,
          48.77302932739258,
          59.59614944458008,
          -12.899252891540527,
          51.208736419677734,
          3.502286911010742,
          46.92921447753906,
          50.260284423828125,
          13.438692092895508,
          3.1264095306396484,
          -3.0349557399749756,
          3.954162359237671,
          -3.6066019535064697,
          3.1222119331359863,
          -4.914016246795654,
          57.38172912597656,
          27.052038192749023,
          -13.799471855163574,
          2.608077049255371,
          7.855990409851074,
          49.33207702636719,
          25.462730407714844,
          3.4397573471069336,
          50.312896728515625,
          21.004226684570312,
          44.8272590637207,
          46.67046356201172,
          8.696236610412598,
          41.888031005859375,
          42.00023651123047,
          51.76930618286133,
          32.246856689453125,
          58.597084045410156,
          53.08708190917969,
          13.237981796264648,
          2.0550758838653564,
          4.690878391265869,
          26.052221298217773,
          8.18258285522461,
          46.47780227661133,
          16.715173721313477,
          54.99842071533203,
          -3.0822198390960693,
          23.496389389038086,
          18.71199607849121,
          10.742523193359375,
          10.088075637817383,
          33.66520309448242,
          20.44636344909668,
          35.32662582397461,
          3.4896352291107178,
          42.838321685791016,
          31.77246856689453,
          52.60795974731445,
          11.035283088684082,
          12.155433654785156,
          10.839808464050293,
          11.161282539367676,
          12.528388023376465,
          11.806791305541992,
          33.94681930541992,
          10.703742027282715,
          27.47298240661621,
          11.312217712402344,
          3.95550537109375,
          5.386488437652588,
          41.9141845703125,
          36.251487731933594,
          9.570757865905762,
          4.326012134552002,
          6.554783344268799,
          43.36684036254883,
          36.07466125488281,
          10.735213279724121,
          5.341842174530029,
          5.24688196182251,
          52.758331298828125,
          34.0711784362793,
          12.26016616821289,
          4.60930061340332,
          6.497317314147949,
          43.21540069580078,
          34.59625244140625,
          15.098489761352539,
          5.568709373474121,
          6.264615535736084,
          52.20314025878906,
          36.978546142578125,
          45.5894775390625,
          14.703099250793457,
          36.99802780151367,
          46.355224609375,
          14.401333808898926,
          37.235565185546875,
          45.600223541259766,
          13.944236755371094,
          36.481117248535156,
          -2.541541576385498,
          -35.96639633178711,
          -34.73751449584961,
          -8.929483413696289,
          -29.789548873901367,
          -35.76153564453125,
          -34.53734588623047,
          0.5221949219703674,
          -24.027271270751953,
          -9.944391250610352,
          21.03378677368164,
          -4.699133396148682,
          -20.955869674682617,
          -7.520905017852783,
          -16.674924850463867,
          0.36685481667518616,
          3.374504804611206,
          -36.238014221191406,
          -12.425552368164062,
          -25.667726516723633,
          1.016772747039795,
          -27.226211547851562,
          -24.645198822021484,
          1.2224639654159546,
          0.05057502165436745,
          -24.769363403320312,
          16.556560516357422,
          -18.949525833129883,
          -32.3853645324707,
          -19.637670516967773,
          -7.876437664031982,
          13.418975830078125,
          -0.6257396340370178,
          -25.216670989990234,
          -1.0198264122009277,
          -4.796323299407959,
          -25.718666076660156,
          -29.249534606933594,
          -7.898834228515625,
          -3.0473716259002686,
          -24.362159729003906,
          -26.08243751525879,
          -14.111565589904785,
          2.047898054122925,
          2.7268314361572266,
          2.592970848083496,
          -35.95702362060547,
          -0.3302527368068695,
          -28.315288543701172,
          9.488492965698242,
          -15.569083213806152,
          -22.947900772094727,
          -19.06147003173828,
          26.170316696166992,
          8.141048431396484,
          -23.638208389282227,
          -19.59011459350586,
          30.492265701293945,
          -4.801666259765625,
          -14.976167678833008,
          -22.86225700378418,
          -6.635542392730713,
          -30.078657150268555,
          -1.6241544485092163,
          -16.778987884521484,
          -24.833065032958984,
          -31.600116729736328,
          -3.5686588287353516,
          3.123525857925415
         ],
         "yaxis": "y"
        }
       ],
       "layout": {
        "legend": {
         "tracegroupgap": 0
        },
        "margin": {
         "t": 60
        },
        "template": {
         "data": {
          "bar": [
           {
            "error_x": {
             "color": "#2a3f5f"
            },
            "error_y": {
             "color": "#2a3f5f"
            },
            "marker": {
             "line": {
              "color": "#E5ECF6",
              "width": 0.5
             }
            },
            "type": "bar"
           }
          ],
          "barpolar": [
           {
            "marker": {
             "line": {
              "color": "#E5ECF6",
              "width": 0.5
             }
            },
            "type": "barpolar"
           }
          ],
          "carpet": [
           {
            "aaxis": {
             "endlinecolor": "#2a3f5f",
             "gridcolor": "white",
             "linecolor": "white",
             "minorgridcolor": "white",
             "startlinecolor": "#2a3f5f"
            },
            "baxis": {
             "endlinecolor": "#2a3f5f",
             "gridcolor": "white",
             "linecolor": "white",
             "minorgridcolor": "white",
             "startlinecolor": "#2a3f5f"
            },
            "type": "carpet"
           }
          ],
          "choropleth": [
           {
            "colorbar": {
             "outlinewidth": 0,
             "ticks": ""
            },
            "type": "choropleth"
           }
          ],
          "contour": [
           {
            "colorbar": {
             "outlinewidth": 0,
             "ticks": ""
            },
            "colorscale": [
             [
              0,
              "#0d0887"
             ],
             [
              0.1111111111111111,
              "#46039f"
             ],
             [
              0.2222222222222222,
              "#7201a8"
             ],
             [
              0.3333333333333333,
              "#9c179e"
             ],
             [
              0.4444444444444444,
              "#bd3786"
             ],
             [
              0.5555555555555556,
              "#d8576b"
             ],
             [
              0.6666666666666666,
              "#ed7953"
             ],
             [
              0.7777777777777778,
              "#fb9f3a"
             ],
             [
              0.8888888888888888,
              "#fdca26"
             ],
             [
              1,
              "#f0f921"
             ]
            ],
            "type": "contour"
           }
          ],
          "contourcarpet": [
           {
            "colorbar": {
             "outlinewidth": 0,
             "ticks": ""
            },
            "type": "contourcarpet"
           }
          ],
          "heatmap": [
           {
            "colorbar": {
             "outlinewidth": 0,
             "ticks": ""
            },
            "colorscale": [
             [
              0,
              "#0d0887"
             ],
             [
              0.1111111111111111,
              "#46039f"
             ],
             [
              0.2222222222222222,
              "#7201a8"
             ],
             [
              0.3333333333333333,
              "#9c179e"
             ],
             [
              0.4444444444444444,
              "#bd3786"
             ],
             [
              0.5555555555555556,
              "#d8576b"
             ],
             [
              0.6666666666666666,
              "#ed7953"
             ],
             [
              0.7777777777777778,
              "#fb9f3a"
             ],
             [
              0.8888888888888888,
              "#fdca26"
             ],
             [
              1,
              "#f0f921"
             ]
            ],
            "type": "heatmap"
           }
          ],
          "heatmapgl": [
           {
            "colorbar": {
             "outlinewidth": 0,
             "ticks": ""
            },
            "colorscale": [
             [
              0,
              "#0d0887"
             ],
             [
              0.1111111111111111,
              "#46039f"
             ],
             [
              0.2222222222222222,
              "#7201a8"
             ],
             [
              0.3333333333333333,
              "#9c179e"
             ],
             [
              0.4444444444444444,
              "#bd3786"
             ],
             [
              0.5555555555555556,
              "#d8576b"
             ],
             [
              0.6666666666666666,
              "#ed7953"
             ],
             [
              0.7777777777777778,
              "#fb9f3a"
             ],
             [
              0.8888888888888888,
              "#fdca26"
             ],
             [
              1,
              "#f0f921"
             ]
            ],
            "type": "heatmapgl"
           }
          ],
          "histogram": [
           {
            "marker": {
             "colorbar": {
              "outlinewidth": 0,
              "ticks": ""
             }
            },
            "type": "histogram"
           }
          ],
          "histogram2d": [
           {
            "colorbar": {
             "outlinewidth": 0,
             "ticks": ""
            },
            "colorscale": [
             [
              0,
              "#0d0887"
             ],
             [
              0.1111111111111111,
              "#46039f"
             ],
             [
              0.2222222222222222,
              "#7201a8"
             ],
             [
              0.3333333333333333,
              "#9c179e"
             ],
             [
              0.4444444444444444,
              "#bd3786"
             ],
             [
              0.5555555555555556,
              "#d8576b"
             ],
             [
              0.6666666666666666,
              "#ed7953"
             ],
             [
              0.7777777777777778,
              "#fb9f3a"
             ],
             [
              0.8888888888888888,
              "#fdca26"
             ],
             [
              1,
              "#f0f921"
             ]
            ],
            "type": "histogram2d"
           }
          ],
          "histogram2dcontour": [
           {
            "colorbar": {
             "outlinewidth": 0,
             "ticks": ""
            },
            "colorscale": [
             [
              0,
              "#0d0887"
             ],
             [
              0.1111111111111111,
              "#46039f"
             ],
             [
              0.2222222222222222,
              "#7201a8"
             ],
             [
              0.3333333333333333,
              "#9c179e"
             ],
             [
              0.4444444444444444,
              "#bd3786"
             ],
             [
              0.5555555555555556,
              "#d8576b"
             ],
             [
              0.6666666666666666,
              "#ed7953"
             ],
             [
              0.7777777777777778,
              "#fb9f3a"
             ],
             [
              0.8888888888888888,
              "#fdca26"
             ],
             [
              1,
              "#f0f921"
             ]
            ],
            "type": "histogram2dcontour"
           }
          ],
          "mesh3d": [
           {
            "colorbar": {
             "outlinewidth": 0,
             "ticks": ""
            },
            "type": "mesh3d"
           }
          ],
          "parcoords": [
           {
            "line": {
             "colorbar": {
              "outlinewidth": 0,
              "ticks": ""
             }
            },
            "type": "parcoords"
           }
          ],
          "pie": [
           {
            "automargin": true,
            "type": "pie"
           }
          ],
          "scatter": [
           {
            "marker": {
             "colorbar": {
              "outlinewidth": 0,
              "ticks": ""
             }
            },
            "type": "scatter"
           }
          ],
          "scatter3d": [
           {
            "line": {
             "colorbar": {
              "outlinewidth": 0,
              "ticks": ""
             }
            },
            "marker": {
             "colorbar": {
              "outlinewidth": 0,
              "ticks": ""
             }
            },
            "type": "scatter3d"
           }
          ],
          "scattercarpet": [
           {
            "marker": {
             "colorbar": {
              "outlinewidth": 0,
              "ticks": ""
             }
            },
            "type": "scattercarpet"
           }
          ],
          "scattergeo": [
           {
            "marker": {
             "colorbar": {
              "outlinewidth": 0,
              "ticks": ""
             }
            },
            "type": "scattergeo"
           }
          ],
          "scattergl": [
           {
            "marker": {
             "colorbar": {
              "outlinewidth": 0,
              "ticks": ""
             }
            },
            "type": "scattergl"
           }
          ],
          "scattermapbox": [
           {
            "marker": {
             "colorbar": {
              "outlinewidth": 0,
              "ticks": ""
             }
            },
            "type": "scattermapbox"
           }
          ],
          "scatterpolar": [
           {
            "marker": {
             "colorbar": {
              "outlinewidth": 0,
              "ticks": ""
             }
            },
            "type": "scatterpolar"
           }
          ],
          "scatterpolargl": [
           {
            "marker": {
             "colorbar": {
              "outlinewidth": 0,
              "ticks": ""
             }
            },
            "type": "scatterpolargl"
           }
          ],
          "scatterternary": [
           {
            "marker": {
             "colorbar": {
              "outlinewidth": 0,
              "ticks": ""
             }
            },
            "type": "scatterternary"
           }
          ],
          "surface": [
           {
            "colorbar": {
             "outlinewidth": 0,
             "ticks": ""
            },
            "colorscale": [
             [
              0,
              "#0d0887"
             ],
             [
              0.1111111111111111,
              "#46039f"
             ],
             [
              0.2222222222222222,
              "#7201a8"
             ],
             [
              0.3333333333333333,
              "#9c179e"
             ],
             [
              0.4444444444444444,
              "#bd3786"
             ],
             [
              0.5555555555555556,
              "#d8576b"
             ],
             [
              0.6666666666666666,
              "#ed7953"
             ],
             [
              0.7777777777777778,
              "#fb9f3a"
             ],
             [
              0.8888888888888888,
              "#fdca26"
             ],
             [
              1,
              "#f0f921"
             ]
            ],
            "type": "surface"
           }
          ],
          "table": [
           {
            "cells": {
             "fill": {
              "color": "#EBF0F8"
             },
             "line": {
              "color": "white"
             }
            },
            "header": {
             "fill": {
              "color": "#C8D4E3"
             },
             "line": {
              "color": "white"
             }
            },
            "type": "table"
           }
          ]
         },
         "layout": {
          "annotationdefaults": {
           "arrowcolor": "#2a3f5f",
           "arrowhead": 0,
           "arrowwidth": 1
          },
          "coloraxis": {
           "colorbar": {
            "outlinewidth": 0,
            "ticks": ""
           }
          },
          "colorscale": {
           "diverging": [
            [
             0,
             "#8e0152"
            ],
            [
             0.1,
             "#c51b7d"
            ],
            [
             0.2,
             "#de77ae"
            ],
            [
             0.3,
             "#f1b6da"
            ],
            [
             0.4,
             "#fde0ef"
            ],
            [
             0.5,
             "#f7f7f7"
            ],
            [
             0.6,
             "#e6f5d0"
            ],
            [
             0.7,
             "#b8e186"
            ],
            [
             0.8,
             "#7fbc41"
            ],
            [
             0.9,
             "#4d9221"
            ],
            [
             1,
             "#276419"
            ]
           ],
           "sequential": [
            [
             0,
             "#0d0887"
            ],
            [
             0.1111111111111111,
             "#46039f"
            ],
            [
             0.2222222222222222,
             "#7201a8"
            ],
            [
             0.3333333333333333,
             "#9c179e"
            ],
            [
             0.4444444444444444,
             "#bd3786"
            ],
            [
             0.5555555555555556,
             "#d8576b"
            ],
            [
             0.6666666666666666,
             "#ed7953"
            ],
            [
             0.7777777777777778,
             "#fb9f3a"
            ],
            [
             0.8888888888888888,
             "#fdca26"
            ],
            [
             1,
             "#f0f921"
            ]
           ],
           "sequentialminus": [
            [
             0,
             "#0d0887"
            ],
            [
             0.1111111111111111,
             "#46039f"
            ],
            [
             0.2222222222222222,
             "#7201a8"
            ],
            [
             0.3333333333333333,
             "#9c179e"
            ],
            [
             0.4444444444444444,
             "#bd3786"
            ],
            [
             0.5555555555555556,
             "#d8576b"
            ],
            [
             0.6666666666666666,
             "#ed7953"
            ],
            [
             0.7777777777777778,
             "#fb9f3a"
            ],
            [
             0.8888888888888888,
             "#fdca26"
            ],
            [
             1,
             "#f0f921"
            ]
           ]
          },
          "colorway": [
           "#636efa",
           "#EF553B",
           "#00cc96",
           "#ab63fa",
           "#FFA15A",
           "#19d3f3",
           "#FF6692",
           "#B6E880",
           "#FF97FF",
           "#FECB52"
          ],
          "font": {
           "color": "#2a3f5f"
          },
          "geo": {
           "bgcolor": "white",
           "lakecolor": "white",
           "landcolor": "#E5ECF6",
           "showlakes": true,
           "showland": true,
           "subunitcolor": "white"
          },
          "hoverlabel": {
           "align": "left"
          },
          "hovermode": "closest",
          "mapbox": {
           "style": "light"
          },
          "paper_bgcolor": "white",
          "plot_bgcolor": "#E5ECF6",
          "polar": {
           "angularaxis": {
            "gridcolor": "white",
            "linecolor": "white",
            "ticks": ""
           },
           "bgcolor": "#E5ECF6",
           "radialaxis": {
            "gridcolor": "white",
            "linecolor": "white",
            "ticks": ""
           }
          },
          "scene": {
           "xaxis": {
            "backgroundcolor": "#E5ECF6",
            "gridcolor": "white",
            "gridwidth": 2,
            "linecolor": "white",
            "showbackground": true,
            "ticks": "",
            "zerolinecolor": "white"
           },
           "yaxis": {
            "backgroundcolor": "#E5ECF6",
            "gridcolor": "white",
            "gridwidth": 2,
            "linecolor": "white",
            "showbackground": true,
            "ticks": "",
            "zerolinecolor": "white"
           },
           "zaxis": {
            "backgroundcolor": "#E5ECF6",
            "gridcolor": "white",
            "gridwidth": 2,
            "linecolor": "white",
            "showbackground": true,
            "ticks": "",
            "zerolinecolor": "white"
           }
          },
          "shapedefaults": {
           "line": {
            "color": "#2a3f5f"
           }
          },
          "ternary": {
           "aaxis": {
            "gridcolor": "white",
            "linecolor": "white",
            "ticks": ""
           },
           "baxis": {
            "gridcolor": "white",
            "linecolor": "white",
            "ticks": ""
           },
           "bgcolor": "#E5ECF6",
           "caxis": {
            "gridcolor": "white",
            "linecolor": "white",
            "ticks": ""
           }
          },
          "title": {
           "x": 0.05
          },
          "xaxis": {
           "automargin": true,
           "gridcolor": "white",
           "linecolor": "white",
           "ticks": "",
           "title": {
            "standoff": 15
           },
           "zerolinecolor": "white",
           "zerolinewidth": 2
          },
          "yaxis": {
           "automargin": true,
           "gridcolor": "white",
           "linecolor": "white",
           "ticks": "",
           "title": {
            "standoff": 15
           },
           "zerolinecolor": "white",
           "zerolinewidth": 2
          }
         }
        },
        "xaxis": {
         "anchor": "y",
         "domain": [
          0,
          1
         ],
         "title": {
          "text": "x"
         }
        },
        "yaxis": {
         "anchor": "x",
         "domain": [
          0,
          1
         ],
         "title": {
          "text": "y"
         }
        }
       }
      },
      "text/html": [
       "<div>\n",
       "        \n",
       "        \n",
       "            <div id=\"1391aede-3d49-443c-9da2-8fc971270e75\" class=\"plotly-graph-div\" style=\"height:525px; width:100%;\"></div>\n",
       "            <script type=\"text/javascript\">\n",
       "                require([\"plotly\"], function(Plotly) {\n",
       "                    window.PLOTLYENV=window.PLOTLYENV || {};\n",
       "                    \n",
       "                if (document.getElementById(\"1391aede-3d49-443c-9da2-8fc971270e75\")) {\n",
       "                    Plotly.newPlot(\n",
       "                        '1391aede-3d49-443c-9da2-8fc971270e75',\n",
       "                        [{\"hovertemplate\": \"x=%{x}<br>y=%{y}<extra></extra>\", \"legendgroup\": \"\", \"marker\": {\"color\": \"#636efa\", \"symbol\": \"circle\"}, \"mode\": \"markers\", \"name\": \"\", \"orientation\": \"v\", \"showlegend\": false, \"type\": \"scatter\", \"x\": [25.728511810302734, 23.12775993347168, 25.073015213012695, 26.519821166992188, 36.965057373046875, 4.652074813842773, -16.646141052246094, 24.443010330200195, 41.34932327270508, 17.603681564331055, 24.721708297729492, 17.566526412963867, 45.675804138183594, 31.98655128479004, -21.61494255065918, 24.25528335571289, 24.172426223754883, -0.29479989409446716, 9.541126251220703, 17.49117660522461, 32.72306823730469, 33.234519958496094, 24.04085350036621, 25.09331703186035, 6.071749687194824, 9.09376049041748, 30.066251754760742, 10.688270568847656, 37.29462432861328, 35.16575241088867, 12.090653419494629, 34.07964324951172, 31.174291610717773, 37.214717864990234, 40.16612243652344, 12.630170822143555, 25.464641571044922, 37.716068267822266, 37.460601806640625, 34.350242614746094, 36.08296203613281, 25.294973373413086, 33.79408645629883, -2.130748987197876, 36.54226303100586, 32.90909194946289, 36.081199645996094, 40.56191635131836, 7.299603462219238, -0.5082921385765076, 4.471426010131836, -2.719817876815796, 4.379337787628174, 7.410096168518066, 23.142507553100586, 60.99042510986328, 6.039086818695068, 1.7059441804885864, 0.3685000538825989, 24.724075317382812, 21.228713989257812, 22.219755172729492, 10.606437683105469, -35.310691833496094, 15.702829360961914, 61.0112190246582, 22.93539810180664, 25.670024871826172, -3.444366455078125, 23.21393585205078, 25.870685577392578, 21.614110946655273, 31.021440505981445, 36.45248031616211, 41.72429275512695, 25.556434631347656, 41.968868255615234, -34.31364440917969, -9.06624984741211, -9.526147842407227, -7.624096393585205, -27.133886337280273, -26.38546371459961, -23.21247673034668, -35.703651428222656, -14.550199508666992, -24.639291763305664, -33.55467987060547, -28.367328643798828, -32.62550735473633, -29.795032501220703, -19.11219024658203, -17.3728084564209, -9.41239070892334, -10.692902565002441, -14.713973045349121, -27.284086227416992, -6.26499605178833, -23.63250160217285, -15.946684837341309, -14.887167930603027, -12.681434631347656, -10.562728881835938, -16.947181701660156, -11.380829811096191, -10.939366340637207, -14.989171981811523, -14.842076301574707, -8.396607398986816, -24.6910343170166, -7.819914817810059, -13.709071159362793, -10.340784072875977, -14.25219440460205, -16.25470733642578, -16.835397720336914, -11.164347648620605, -11.742416381835938, -36.27059555053711, -11.900513648986816, -19.020315170288086, -29.32530975341797, -33.62580490112305, -24.03146743774414, -11.031439781188965, -18.878681182861328, -10.58154582977295, -10.857561111450195, -24.001771926879883, -26.71570587158203, -31.434391021728516, -31.415119171142578, 13.255953788757324, -32.96961212158203, -33.226497650146484, -21.2641544342041, -30.9901123046875, 21.591655731201172, -38.41066360473633, -28.55240249633789, -34.77922439575195, -29.0958251953125, -37.9051628112793, -34.87437438964844, -35.576778411865234, -30.410308837890625, -34.06093215942383, -28.413433074951172, -15.666694641113281, -9.165767669677734, 18.13813018798828, 12.700855255126953, -0.3640453815460205, -10.428766250610352, 6.537873268127441, 19.291305541992188, -9.183677673339844, -35.23310852050781, 12.99011516571045, -54.18962097167969, -32.7601318359375, 17.996736526489258, 53.59926223754883, 34.412567138671875, 15.162907600402832, 10.649892807006836, 5.553590297698975, -2.533629894256592, 8.555134773254395, 15.825797080993652, 44.68238830566406, 38.80559539794922, 12.08427619934082, 22.594341278076172, 42.54088592529297, -13.125054359436035, 26.91744613647461, 4.979323387145996, -16.432981491088867, 40.34959411621094, -0.6282615065574646, 22.51806640625, 6.745402812957764, 30.397520065307617, 3.6981072425842285, 2.926746129989624, 36.68170166015625, -8.653544425964355, 25.73995590209961, -6.012798309326172, 3.265824317932129, -28.886608123779297, -17.167007446289062, 7.405720233917236, 2.40409779548645, 6.482633113861084, -34.02708053588867, 6.503764629364014, 39.55952835083008, -11.830486297607422, -0.6526691317558289, 41.47591018676758, 7.3489484786987305, 41.4511604309082, 17.99444007873535, -10.333157539367676, 10.37672233581543, 37.253997802734375, 6.030693531036377, 29.14464569091797, 20.111682891845703, 5.473392486572266, -30.08064842224121, -9.439059257507324, 54.440040588378906, 18.665241241455078, -16.636428833007812, -13.930367469787598, -26.473264694213867, 37.14579772949219, -28.049129486083984, -7.096373081207275, 2.4445769786834717, 8.826881408691406, 45.496150970458984, 6.184957027435303, -4.424113750457764, 5.225194454193115, 22.16119384765625, -12.882640838623047, 20.408742904663086, -43.58170700073242, 13.801234245300293, -29.384315490722656, -33.3873291015625, 9.582551002502441, -25.914878845214844, -7.594740867614746, 39.916500091552734, -35.42583084106445, 9.340567588806152, 6.55902624130249, 26.8749942779541, -4.553877353668213, 8.319865226745605, 10.75838851928711, 6.769481182098389, -33.73951721191406, -18.403656005859375, 21.337749481201172, 25.933422088623047, 11.295851707458496, 21.897668838500977, 21.51054573059082, 20.404253005981445, 6.238799095153809, 15.670947074890137, -40.79636764526367, -55.27554702758789, 30.151941299438477, -43.13465118408203, 22.260459899902344, 13.492218017578125, -1.8610360622406006, -50.38933181762695, -46.53719711303711, -34.63258361816406, 11.969736099243164, 18.469703674316406, 27.815820693969727, 30.586288452148438, -37.952598571777344, -8.835708618164062, -2.963498115539551, 10.31978988647461, 16.960744857788086, -9.52208137512207, 47.304779052734375, -17.6257266998291, 12.581007957458496, 32.02803039550781, 46.25836181640625, -6.3202805519104, -38.22138595581055, 46.39560317993164, 8.39880084991455, 11.60952091217041, -34.099422454833984, -10.58495044708252, -46.289939880371094, 27.166767120361328, 61.84012985229492, 39.257850646972656, -15.2736234664917, -13.12070083618164, 37.73273468017578, -38.38186264038086, -62.323158264160156, -38.1537971496582, -38.35684585571289, 59.823116302490234, 39.5343132019043, 45.641910552978516, 36.235843658447266, 34.824310302734375, 36.702632904052734, 45.73464584350586, -9.192887306213379, 41.6663703918457, 37.57456588745117, 45.68684387207031, 2.1666738986968994, -16.470046997070312, 48.52772903442383, 27.665882110595703, -16.44303321838379, 38.43828582763672, -9.924503326416016, -30.591732025146484, -57.15346908569336, 21.01600456237793, -42.346221923828125, -16.79857635498047, 20.382225036621094, -12.146331787109375, -17.181554794311523, 61.848358154296875, 47.85709762573242, 60.874088287353516, 46.767845153808594, 30.185901641845703, -11.927072525024414, 56.250972747802734, 20.380168914794922, 32.830108642578125, 39.782142639160156, 54.25266647338867, 62.149169921875, 32.95960998535156, 37.376773834228516, 30.143644332885742, 36.02823257446289, 38.21668243408203, 12.827595710754395, 36.68952178955078, 18.750322341918945, 53.426658630371094, 56.8702507019043, 57.665313720703125, 54.131996154785156, 58.1964225769043, 58.50611877441406, 18.75621795654297, 9.679972648620605, 45.086158752441406, 28.804269790649414, -60.09021759033203, -52.60442352294922, -2.5450336933135986, -45.21306228637695, 31.482358932495117, -61.01461410522461, -52.0395622253418, -3.4877774715423584, -44.234046936035156, 31.133394241333008, -60.77088165283203, -51.49874496459961, -2.137449264526367, -41.91303634643555, 30.156150817871094, -59.13352584838867, -53.0892333984375, -2.0863752365112305, -42.48878860473633, 29.43959617614746, -59.845272064208984, -51.052486419677734, -0.4226716458797455, -45.41254806518555, -37.108802795410156, -46.93587112426758, -48.30006790161133, -36.9613151550293, -47.994441986083984, -49.53517532348633, -36.04179382324219, -47.31013107299805, -49.305789947509766, -26.21601676940918, -7.155320644378662, -10.097306251525879, -12.776802062988281, -20.869874954223633, -6.233047962188721, -9.440268516540527, -18.081890106201172, -19.095911026000977, -13.165608406066895, 36.264835357666016, -4.979550838470459, -9.624624252319336, -13.706341743469238, -10.73940372467041, 25.52048683166504, -30.376176834106445, -7.913294792175293, -12.163625717163086, -2.993481159210205, -26.234865188598633, -5.2164626121521, -26.865827560424805, -24.30002212524414, -26.139633178710938, -21.964473724365234, 28.457841873168945, -11.840287208557129, -21.5106258392334, -25.25076675415039, -12.250483512878418, -45.07001495361328, -21.25748062133789, -20.287229537963867, -19.93340492248535, -7.54385232925415, -15.385982513427734, -21.457286834716797, -11.243695259094238, -18.657127380371094, -17.952377319335938, -14.508299827575684, -9.3287935256958, -17.64494514465332, -27.688732147216797, -30.2112979888916, 25.935871124267578, -18.65396499633789, -6.902006149291992, -58.16628646850586, -10.427685737609863, -17.65066909790039, -25.388416290283203, 5.030549049377441, 3.842339038848877, -8.50777530670166, -13.80052375793457, 27.82887077331543, -6.160133361816406, -10.775651931762695, -5.448819160461426, -13.181327819824219, -27.85083770751953, -26.852779388427734, 23.340627670288086, -3.5244853496551514, -1.7070516347885132, -25.791696548461914, -29.269794464111328], \"xaxis\": \"x\", \"y\": [-29.300447463989258, -37.66606140136719, -22.705596923828125, 1.1633021831512451, -22.138896942138672, -34.21895980834961, -66.95245361328125, -24.817323684692383, -22.24664878845215, -43.0740852355957, -23.8746395111084, -41.19247817993164, -4.058839321136475, -22.30252456665039, -32.97835922241211, -30.923093795776367, -17.311471939086914, -27.492626190185547, -31.690872192382812, -41.84550857543945, -37.058074951171875, -20.989957809448242, -36.32468795776367, -30.41859245300293, -28.54756736755371, -31.15927505493164, -35.91358947753906, -32.49033737182617, -38.08615493774414, -20.844406127929688, -33.31229019165039, -16.013118743896484, -36.1880989074707, -15.315483093261719, -23.15856170654297, -40.6583366394043, -43.85410690307617, -37.96900939941406, -16.843486785888672, -20.94906234741211, -39.06679916381836, -44.40129470825195, -37.80011749267578, -26.52369499206543, -42.760231018066406, -19.697938919067383, -40.08091354370117, -23.390748977661133, -32.66434097290039, -31.132171630859375, -33.228553771972656, -31.282665252685547, -35.30033874511719, -29.43145751953125, -32.330841064453125, 3.089627981185913, -38.07514190673828, -35.219520568847656, -28.809492111206055, -37.906211853027344, -34.45244216918945, -43.09071731567383, -30.162160873413086, -29.426864624023438, -41.15928268432617, 2.519174337387085, -45.35867691040039, -38.9265022277832, -4.492448806762695, -38.860355377197266, -35.12275314331055, -43.533206939697266, -23.51407814025879, -43.29518508911133, -18.68532943725586, -22.24394989013672, -19.23561668395996, -61.30362319946289, -83.27880096435547, -78.32123565673828, -79.08253479003906, -71.418212890625, -71.31890869140625, -70.45825958251953, -59.384342193603516, -68.61122131347656, -68.61624908447266, -61.01251983642578, -64.52960968017578, -62.28246307373047, -64.0935287475586, -86.02267456054688, -73.78112030029297, -86.8204116821289, -85.19628143310547, -75.91486358642578, -65.26624298095703, -79.1063461303711, -71.79124450683594, -74.6466064453125, -81.02933502197266, -86.88194274902344, -82.45816040039062, -81.39927673339844, -77.70046997070312, -68.40447235107422, -78.2236328125, -79.09212493896484, -81.35453033447266, -72.78632354736328, -77.14263153076172, -88.6226806640625, -77.73673248291016, -81.28425598144531, -68.24717712402344, -68.77123260498047, -87.01976013183594, -88.83412170410156, -58.760501861572266, -89.86034393310547, -86.40892791748047, -63.704994201660156, -62.356201171875, -69.66155242919922, -75.60587310791016, -80.62625122070312, -68.27749633789062, -84.68341827392578, -24.861352920532227, -24.14852523803711, -32.356807708740234, -19.61467933654785, -41.086219787597656, -32.061893463134766, -20.177932739257812, -25.572160720825195, -19.704391479492188, -38.14389419555664, -29.702299118041992, -31.836538314819336, -22.3461971282959, -33.332054138183594, -29.630374908447266, -29.826927185058594, -22.031808853149414, -31.811357498168945, -23.04168128967285, -32.95549774169922, 10.73642635345459, 24.130674362182617, 51.198020935058594, 18.354345321655273, 51.5376091003418, 45.298526763916016, 54.07265090942383, 33.34840393066406, 42.81769561767578, 29.7099552154541, 46.87889099121094, 9.167702674865723, 31.018903732299805, 50.55867385864258, 15.918238639831543, -3.2039363384246826, 17.87316131591797, 15.10116958618164, 33.77370071411133, 45.318721771240234, 11.459728240966797, 18.24444580078125, 27.972999572753906, 24.379159927368164, 18.927589416503906, 27.844066619873047, 26.9783878326416, 58.51835250854492, 30.12915802001953, 46.30939865112305, 12.543087005615234, 26.77190589904785, 43.24396514892578, 21.47687339782715, 28.569856643676758, 19.961719512939453, 9.329434394836426, 23.95391273498535, 22.25922393798828, 26.68947410583496, 19.56247329711914, -22.445356369018555, 50.492576599121094, 34.671180725097656, 11.432631492614746, 11.500593185424805, 10.525657653808594, 12.1783447265625, 31.89738655090332, 52.464786529541016, 33.19847869873047, 26.64030647277832, 53.70474624633789, 36.79719543457031, 24.627717971801758, 36.38535690307617, 49.155677795410156, 26.216073989868164, 20.991365432739258, 32.66643524169922, 32.770179748535156, 9.008140563964844, 54.5799674987793, 46.0300407409668, 34.248817443847656, 25.42317008972168, 17.388978958129883, 47.65264892578125, 11.303849220275879, 27.441743850708008, 37.12199020385742, 23.273880004882812, 34.960166931152344, 27.342710494995117, 23.84387969970703, 20.495012283325195, 4.0037760734558105, 31.349287033081055, 30.91061019897461, 31.109697341918945, 26.643569946289062, 27.04947853088379, 41.287906646728516, 40.13111877441406, 41.83953094482422, 46.996673583984375, 33.886531829833984, 50.3236083984375, 37.81815719604492, 56.19008255004883, 32.518165588378906, 30.334335327148438, 14.191386222839355, 26.202051162719727, 18.757511138916016, 30.23358917236328, 19.354755401611328, 21.61887550354004, 51.86518859863281, 34.51470184326172, 55.023887634277344, 42.932289123535156, 29.707317352294922, 15.389262199401855, 23.718408584594727, 24.697261810302734, 24.431774139404297, 30.024362564086914, 41.28273391723633, 33.79710006713867, 8.313033103942871, 4.728938579559326, 40.87312698364258, 22.51972198486328, 41.03862380981445, 44.10566711425781, 38.523616790771484, 35.51008605957031, 45.69207763671875, 47.019073486328125, 40.828643798828125, 7.897162437438965, 6.244964599609375, 32.43263626098633, 44.0751953125, 52.8675651550293, 51.29793167114258, 19.052902221679688, 42.080780029296875, 27.421010971069336, 54.04692077636719, 44.439327239990234, -3.298250436782837, 24.858983993530273, 27.994930267333984, 49.45186233520508, 2.227067708969116, 30.522445678710938, 42.58604431152344, 35.897640228271484, 57.96043395996094, 16.772884368896484, 2.5726659297943115, 10.95430850982666, 3.896320343017578, 48.77302932739258, 59.59614944458008, -12.899252891540527, 51.208736419677734, 3.502286911010742, 46.92921447753906, 50.260284423828125, 13.438692092895508, 3.1264095306396484, -3.0349557399749756, 3.954162359237671, -3.6066019535064697, 3.1222119331359863, -4.914016246795654, 57.38172912597656, 27.052038192749023, -13.799471855163574, 2.608077049255371, 7.855990409851074, 49.33207702636719, 25.462730407714844, 3.4397573471069336, 50.312896728515625, 21.004226684570312, 44.8272590637207, 46.67046356201172, 8.696236610412598, 41.888031005859375, 42.00023651123047, 51.76930618286133, 32.246856689453125, 58.597084045410156, 53.08708190917969, 13.237981796264648, 2.0550758838653564, 4.690878391265869, 26.052221298217773, 8.18258285522461, 46.47780227661133, 16.715173721313477, 54.99842071533203, -3.0822198390960693, 23.496389389038086, 18.71199607849121, 10.742523193359375, 10.088075637817383, 33.66520309448242, 20.44636344909668, 35.32662582397461, 3.4896352291107178, 42.838321685791016, 31.77246856689453, 52.60795974731445, 11.035283088684082, 12.155433654785156, 10.839808464050293, 11.161282539367676, 12.528388023376465, 11.806791305541992, 33.94681930541992, 10.703742027282715, 27.47298240661621, 11.312217712402344, 3.95550537109375, 5.386488437652588, 41.9141845703125, 36.251487731933594, 9.570757865905762, 4.326012134552002, 6.554783344268799, 43.36684036254883, 36.07466125488281, 10.735213279724121, 5.341842174530029, 5.24688196182251, 52.758331298828125, 34.0711784362793, 12.26016616821289, 4.60930061340332, 6.497317314147949, 43.21540069580078, 34.59625244140625, 15.098489761352539, 5.568709373474121, 6.264615535736084, 52.20314025878906, 36.978546142578125, 45.5894775390625, 14.703099250793457, 36.99802780151367, 46.355224609375, 14.401333808898926, 37.235565185546875, 45.600223541259766, 13.944236755371094, 36.481117248535156, -2.541541576385498, -35.96639633178711, -34.73751449584961, -8.929483413696289, -29.789548873901367, -35.76153564453125, -34.53734588623047, 0.5221949219703674, -24.027271270751953, -9.944391250610352, 21.03378677368164, -4.699133396148682, -20.955869674682617, -7.520905017852783, -16.674924850463867, 0.36685481667518616, 3.374504804611206, -36.238014221191406, -12.425552368164062, -25.667726516723633, 1.016772747039795, -27.226211547851562, -24.645198822021484, 1.2224639654159546, 0.05057502165436745, -24.769363403320312, 16.556560516357422, -18.949525833129883, -32.3853645324707, -19.637670516967773, -7.876437664031982, 13.418975830078125, -0.6257396340370178, -25.216670989990234, -1.0198264122009277, -4.796323299407959, -25.718666076660156, -29.249534606933594, -7.898834228515625, -3.0473716259002686, -24.362159729003906, -26.08243751525879, -14.111565589904785, 2.047898054122925, 2.7268314361572266, 2.592970848083496, -35.95702362060547, -0.3302527368068695, -28.315288543701172, 9.488492965698242, -15.569083213806152, -22.947900772094727, -19.06147003173828, 26.170316696166992, 8.141048431396484, -23.638208389282227, -19.59011459350586, 30.492265701293945, -4.801666259765625, -14.976167678833008, -22.86225700378418, -6.635542392730713, -30.078657150268555, -1.6241544485092163, -16.778987884521484, -24.833065032958984, -31.600116729736328, -3.5686588287353516, 3.123525857925415], \"yaxis\": \"y\"}],\n",
       "                        {\"legend\": {\"tracegroupgap\": 0}, \"margin\": {\"t\": 60}, \"template\": {\"data\": {\"bar\": [{\"error_x\": {\"color\": \"#2a3f5f\"}, \"error_y\": {\"color\": \"#2a3f5f\"}, \"marker\": {\"line\": {\"color\": \"#E5ECF6\", \"width\": 0.5}}, \"type\": \"bar\"}], \"barpolar\": [{\"marker\": {\"line\": {\"color\": \"#E5ECF6\", \"width\": 0.5}}, \"type\": \"barpolar\"}], \"carpet\": [{\"aaxis\": {\"endlinecolor\": \"#2a3f5f\", \"gridcolor\": \"white\", \"linecolor\": \"white\", \"minorgridcolor\": \"white\", \"startlinecolor\": \"#2a3f5f\"}, \"baxis\": {\"endlinecolor\": \"#2a3f5f\", \"gridcolor\": \"white\", \"linecolor\": \"white\", \"minorgridcolor\": \"white\", \"startlinecolor\": \"#2a3f5f\"}, \"type\": \"carpet\"}], \"choropleth\": [{\"colorbar\": {\"outlinewidth\": 0, \"ticks\": \"\"}, \"type\": \"choropleth\"}], \"contour\": [{\"colorbar\": {\"outlinewidth\": 0, \"ticks\": \"\"}, \"colorscale\": [[0.0, \"#0d0887\"], [0.1111111111111111, \"#46039f\"], [0.2222222222222222, \"#7201a8\"], [0.3333333333333333, \"#9c179e\"], [0.4444444444444444, \"#bd3786\"], [0.5555555555555556, \"#d8576b\"], [0.6666666666666666, \"#ed7953\"], [0.7777777777777778, \"#fb9f3a\"], [0.8888888888888888, \"#fdca26\"], [1.0, \"#f0f921\"]], \"type\": \"contour\"}], \"contourcarpet\": [{\"colorbar\": {\"outlinewidth\": 0, \"ticks\": \"\"}, \"type\": \"contourcarpet\"}], \"heatmap\": [{\"colorbar\": {\"outlinewidth\": 0, \"ticks\": \"\"}, \"colorscale\": [[0.0, \"#0d0887\"], [0.1111111111111111, \"#46039f\"], [0.2222222222222222, \"#7201a8\"], [0.3333333333333333, \"#9c179e\"], [0.4444444444444444, \"#bd3786\"], [0.5555555555555556, \"#d8576b\"], [0.6666666666666666, \"#ed7953\"], [0.7777777777777778, \"#fb9f3a\"], [0.8888888888888888, \"#fdca26\"], [1.0, \"#f0f921\"]], \"type\": \"heatmap\"}], \"heatmapgl\": [{\"colorbar\": {\"outlinewidth\": 0, \"ticks\": \"\"}, \"colorscale\": [[0.0, \"#0d0887\"], [0.1111111111111111, \"#46039f\"], [0.2222222222222222, \"#7201a8\"], [0.3333333333333333, \"#9c179e\"], [0.4444444444444444, \"#bd3786\"], [0.5555555555555556, \"#d8576b\"], [0.6666666666666666, \"#ed7953\"], [0.7777777777777778, \"#fb9f3a\"], [0.8888888888888888, \"#fdca26\"], [1.0, \"#f0f921\"]], \"type\": \"heatmapgl\"}], \"histogram\": [{\"marker\": {\"colorbar\": {\"outlinewidth\": 0, \"ticks\": \"\"}}, \"type\": \"histogram\"}], \"histogram2d\": [{\"colorbar\": {\"outlinewidth\": 0, \"ticks\": \"\"}, \"colorscale\": [[0.0, \"#0d0887\"], [0.1111111111111111, \"#46039f\"], [0.2222222222222222, \"#7201a8\"], [0.3333333333333333, \"#9c179e\"], [0.4444444444444444, \"#bd3786\"], [0.5555555555555556, \"#d8576b\"], [0.6666666666666666, \"#ed7953\"], [0.7777777777777778, \"#fb9f3a\"], [0.8888888888888888, \"#fdca26\"], [1.0, \"#f0f921\"]], \"type\": \"histogram2d\"}], \"histogram2dcontour\": [{\"colorbar\": {\"outlinewidth\": 0, \"ticks\": \"\"}, \"colorscale\": [[0.0, \"#0d0887\"], [0.1111111111111111, \"#46039f\"], [0.2222222222222222, \"#7201a8\"], [0.3333333333333333, \"#9c179e\"], [0.4444444444444444, \"#bd3786\"], [0.5555555555555556, \"#d8576b\"], [0.6666666666666666, \"#ed7953\"], [0.7777777777777778, \"#fb9f3a\"], [0.8888888888888888, \"#fdca26\"], [1.0, \"#f0f921\"]], \"type\": \"histogram2dcontour\"}], \"mesh3d\": [{\"colorbar\": {\"outlinewidth\": 0, \"ticks\": \"\"}, \"type\": \"mesh3d\"}], \"parcoords\": [{\"line\": {\"colorbar\": {\"outlinewidth\": 0, \"ticks\": \"\"}}, \"type\": \"parcoords\"}], \"pie\": [{\"automargin\": true, \"type\": \"pie\"}], \"scatter\": [{\"marker\": {\"colorbar\": {\"outlinewidth\": 0, \"ticks\": \"\"}}, \"type\": \"scatter\"}], \"scatter3d\": [{\"line\": {\"colorbar\": {\"outlinewidth\": 0, \"ticks\": \"\"}}, \"marker\": {\"colorbar\": {\"outlinewidth\": 0, \"ticks\": \"\"}}, \"type\": \"scatter3d\"}], \"scattercarpet\": [{\"marker\": {\"colorbar\": {\"outlinewidth\": 0, \"ticks\": \"\"}}, \"type\": \"scattercarpet\"}], \"scattergeo\": [{\"marker\": {\"colorbar\": {\"outlinewidth\": 0, \"ticks\": \"\"}}, \"type\": \"scattergeo\"}], \"scattergl\": [{\"marker\": {\"colorbar\": {\"outlinewidth\": 0, \"ticks\": \"\"}}, \"type\": \"scattergl\"}], \"scattermapbox\": [{\"marker\": {\"colorbar\": {\"outlinewidth\": 0, \"ticks\": \"\"}}, \"type\": \"scattermapbox\"}], \"scatterpolar\": [{\"marker\": {\"colorbar\": {\"outlinewidth\": 0, \"ticks\": \"\"}}, \"type\": \"scatterpolar\"}], \"scatterpolargl\": [{\"marker\": {\"colorbar\": {\"outlinewidth\": 0, \"ticks\": \"\"}}, \"type\": \"scatterpolargl\"}], \"scatterternary\": [{\"marker\": {\"colorbar\": {\"outlinewidth\": 0, \"ticks\": \"\"}}, \"type\": \"scatterternary\"}], \"surface\": [{\"colorbar\": {\"outlinewidth\": 0, \"ticks\": \"\"}, \"colorscale\": [[0.0, \"#0d0887\"], [0.1111111111111111, \"#46039f\"], [0.2222222222222222, \"#7201a8\"], [0.3333333333333333, \"#9c179e\"], [0.4444444444444444, \"#bd3786\"], [0.5555555555555556, \"#d8576b\"], [0.6666666666666666, \"#ed7953\"], [0.7777777777777778, \"#fb9f3a\"], [0.8888888888888888, \"#fdca26\"], [1.0, \"#f0f921\"]], \"type\": \"surface\"}], \"table\": [{\"cells\": {\"fill\": {\"color\": \"#EBF0F8\"}, \"line\": {\"color\": \"white\"}}, \"header\": {\"fill\": {\"color\": \"#C8D4E3\"}, \"line\": {\"color\": \"white\"}}, \"type\": \"table\"}]}, \"layout\": {\"annotationdefaults\": {\"arrowcolor\": \"#2a3f5f\", \"arrowhead\": 0, \"arrowwidth\": 1}, \"coloraxis\": {\"colorbar\": {\"outlinewidth\": 0, \"ticks\": \"\"}}, \"colorscale\": {\"diverging\": [[0, \"#8e0152\"], [0.1, \"#c51b7d\"], [0.2, \"#de77ae\"], [0.3, \"#f1b6da\"], [0.4, \"#fde0ef\"], [0.5, \"#f7f7f7\"], [0.6, \"#e6f5d0\"], [0.7, \"#b8e186\"], [0.8, \"#7fbc41\"], [0.9, \"#4d9221\"], [1, \"#276419\"]], \"sequential\": [[0.0, \"#0d0887\"], [0.1111111111111111, \"#46039f\"], [0.2222222222222222, \"#7201a8\"], [0.3333333333333333, \"#9c179e\"], [0.4444444444444444, \"#bd3786\"], [0.5555555555555556, \"#d8576b\"], [0.6666666666666666, \"#ed7953\"], [0.7777777777777778, \"#fb9f3a\"], [0.8888888888888888, \"#fdca26\"], [1.0, \"#f0f921\"]], \"sequentialminus\": [[0.0, \"#0d0887\"], [0.1111111111111111, \"#46039f\"], [0.2222222222222222, \"#7201a8\"], [0.3333333333333333, \"#9c179e\"], [0.4444444444444444, \"#bd3786\"], [0.5555555555555556, \"#d8576b\"], [0.6666666666666666, \"#ed7953\"], [0.7777777777777778, \"#fb9f3a\"], [0.8888888888888888, \"#fdca26\"], [1.0, \"#f0f921\"]]}, \"colorway\": [\"#636efa\", \"#EF553B\", \"#00cc96\", \"#ab63fa\", \"#FFA15A\", \"#19d3f3\", \"#FF6692\", \"#B6E880\", \"#FF97FF\", \"#FECB52\"], \"font\": {\"color\": \"#2a3f5f\"}, \"geo\": {\"bgcolor\": \"white\", \"lakecolor\": \"white\", \"landcolor\": \"#E5ECF6\", \"showlakes\": true, \"showland\": true, \"subunitcolor\": \"white\"}, \"hoverlabel\": {\"align\": \"left\"}, \"hovermode\": \"closest\", \"mapbox\": {\"style\": \"light\"}, \"paper_bgcolor\": \"white\", \"plot_bgcolor\": \"#E5ECF6\", \"polar\": {\"angularaxis\": {\"gridcolor\": \"white\", \"linecolor\": \"white\", \"ticks\": \"\"}, \"bgcolor\": \"#E5ECF6\", \"radialaxis\": {\"gridcolor\": \"white\", \"linecolor\": \"white\", \"ticks\": \"\"}}, \"scene\": {\"xaxis\": {\"backgroundcolor\": \"#E5ECF6\", \"gridcolor\": \"white\", \"gridwidth\": 2, \"linecolor\": \"white\", \"showbackground\": true, \"ticks\": \"\", \"zerolinecolor\": \"white\"}, \"yaxis\": {\"backgroundcolor\": \"#E5ECF6\", \"gridcolor\": \"white\", \"gridwidth\": 2, \"linecolor\": \"white\", \"showbackground\": true, \"ticks\": \"\", \"zerolinecolor\": \"white\"}, \"zaxis\": {\"backgroundcolor\": \"#E5ECF6\", \"gridcolor\": \"white\", \"gridwidth\": 2, \"linecolor\": \"white\", \"showbackground\": true, \"ticks\": \"\", \"zerolinecolor\": \"white\"}}, \"shapedefaults\": {\"line\": {\"color\": \"#2a3f5f\"}}, \"ternary\": {\"aaxis\": {\"gridcolor\": \"white\", \"linecolor\": \"white\", \"ticks\": \"\"}, \"baxis\": {\"gridcolor\": \"white\", \"linecolor\": \"white\", \"ticks\": \"\"}, \"bgcolor\": \"#E5ECF6\", \"caxis\": {\"gridcolor\": \"white\", \"linecolor\": \"white\", \"ticks\": \"\"}}, \"title\": {\"x\": 0.05}, \"xaxis\": {\"automargin\": true, \"gridcolor\": \"white\", \"linecolor\": \"white\", \"ticks\": \"\", \"title\": {\"standoff\": 15}, \"zerolinecolor\": \"white\", \"zerolinewidth\": 2}, \"yaxis\": {\"automargin\": true, \"gridcolor\": \"white\", \"linecolor\": \"white\", \"ticks\": \"\", \"title\": {\"standoff\": 15}, \"zerolinecolor\": \"white\", \"zerolinewidth\": 2}}}, \"xaxis\": {\"anchor\": \"y\", \"domain\": [0.0, 1.0], \"title\": {\"text\": \"x\"}}, \"yaxis\": {\"anchor\": \"x\", \"domain\": [0.0, 1.0], \"title\": {\"text\": \"y\"}}},\n",
       "                        {\"responsive\": true}\n",
       "                    ).then(function(){\n",
       "                            \n",
       "var gd = document.getElementById('1391aede-3d49-443c-9da2-8fc971270e75');\n",
       "var x = new MutationObserver(function (mutations, observer) {{\n",
       "        var display = window.getComputedStyle(gd).display;\n",
       "        if (!display || display === 'none') {{\n",
       "            console.log([gd, 'removed!']);\n",
       "            Plotly.purge(gd);\n",
       "            observer.disconnect();\n",
       "        }}\n",
       "}});\n",
       "\n",
       "// Listen for the removal of the full notebook cells\n",
       "var notebookContainer = gd.closest('#notebook-container');\n",
       "if (notebookContainer) {{\n",
       "    x.observe(notebookContainer, {childList: true});\n",
       "}}\n",
       "\n",
       "// Listen for the clearing of the current output cell\n",
       "var outputEl = gd.closest('.output');\n",
       "if (outputEl) {{\n",
       "    x.observe(outputEl, {childList: true});\n",
       "}}\n",
       "\n",
       "                        })\n",
       "                };\n",
       "                });\n",
       "            </script>\n",
       "        </div>"
      ]
     },
     "metadata": {},
     "output_type": "display_data"
    }
   ],
   "source": [
    "fig2"
   ]
  },
  {
   "cell_type": "code",
   "execution_count": 99,
   "metadata": {},
   "outputs": [],
   "source": [
    "name_lookup = [(x[0].strip('\"').split(\"_\")[0], languages.get(x[0].strip('\"').split(\"_\")[0])) for x in matched_clean[1:]]"
   ]
  },
  {
   "cell_type": "code",
   "execution_count": 144,
   "metadata": {},
   "outputs": [],
   "source": [
    "lineList = []\n",
    "with open('model_data/data/all_labels.csv') as f:\n",
    "    for line in f:\n",
    "        lineList.append(line.strip().split(\"|\"))"
   ]
  },
  {
   "cell_type": "code",
   "execution_count": 250,
   "metadata": {},
   "outputs": [],
   "source": [
    "labels = pd.DataFrame(\n",
    "    lineList[1:], \n",
    "    columns=['Package', 'Language', 'Section_ID' ,'Section', 'SectionLink', 'Page_Name']\n",
    ").iloc[matched_clean_idxs].reset_index()"
   ]
  },
  {
   "cell_type": "code",
   "execution_count": 248,
   "metadata": {},
   "outputs": [],
   "source": [
    "base_links = {\n",
    "    'scipy': \"https://docs.scipy.org/doc/scipy/reference/tutorial/\",\n",
    "    'caret': \"https://topepo.github.io/caret/\",\n",
    "    'numpy': 'https://numpy.org/doc/stable/user/quickstart.html',\n",
    "    'sklearn': \"https://scikit-learn.org/stable/\"\n",
    "}"
   ]
  },
  {
   "cell_type": "code",
   "execution_count": 324,
   "metadata": {},
   "outputs": [],
   "source": [
    "labels['PageName'] = labels.apply(\n",
    "    lambda x: \"{} - {}, {}\".format(\n",
    "        x.Package,\n",
    "        \" \".join(x.SectionLink.strip(\".html\").split('-')).title(),\n",
    "        x.Page_Name\n",
    "    ),\n",
    "    axis=1\n",
    ")"
   ]
  },
  {
   "cell_type": "code",
   "execution_count": 334,
   "metadata": {},
   "outputs": [
    {
     "data": {
      "text/html": [
       "<div>\n",
       "<style scoped>\n",
       "    .dataframe tbody tr th:only-of-type {\n",
       "        vertical-align: middle;\n",
       "    }\n",
       "\n",
       "    .dataframe tbody tr th {\n",
       "        vertical-align: top;\n",
       "    }\n",
       "\n",
       "    .dataframe thead th {\n",
       "        text-align: right;\n",
       "    }\n",
       "</style>\n",
       "<table border=\"1\" class=\"dataframe\">\n",
       "  <thead>\n",
       "    <tr style=\"text-align: right;\">\n",
       "      <th></th>\n",
       "      <th>index</th>\n",
       "      <th>Package</th>\n",
       "      <th>Language</th>\n",
       "      <th>Section_ID</th>\n",
       "      <th>Section</th>\n",
       "      <th>SectionLink</th>\n",
       "      <th>Page_Name</th>\n",
       "      <th>Link</th>\n",
       "      <th>PageName</th>\n",
       "    </tr>\n",
       "  </thead>\n",
       "  <tbody>\n",
       "    <tr>\n",
       "      <th>150</th>\n",
       "      <td>163</td>\n",
       "      <td>sklearn</td>\n",
       "      <td>Python</td>\n",
       "      <td>sklearn_1_10_decision_trees</td>\n",
       "      <td>1.10. Decision Trees</td>\n",
       "      <td>modules/tree.html</td>\n",
       "      <td>1.10.1. Classification  DecisionTreeClassifier</td>\n",
       "      <td>https://scikit-learn.org/stable/modules/tree.html</td>\n",
       "      <td>sklearn - Odules/Tree, 1.10.1. Classification ...</td>\n",
       "    </tr>\n",
       "    <tr>\n",
       "      <th>151</th>\n",
       "      <td>164</td>\n",
       "      <td>sklearn</td>\n",
       "      <td>Python</td>\n",
       "      <td>sklearn_1_10_decision_trees</td>\n",
       "      <td>1.10. Decision Trees</td>\n",
       "      <td>modules/tree.html</td>\n",
       "      <td>1.10.2. Regression  Decision</td>\n",
       "      <td>https://scikit-learn.org/stable/modules/tree.html</td>\n",
       "      <td>sklearn - Odules/Tree, 1.10.2. Regression  Dec...</td>\n",
       "    </tr>\n",
       "    <tr>\n",
       "      <th>152</th>\n",
       "      <td>165</td>\n",
       "      <td>sklearn</td>\n",
       "      <td>Python</td>\n",
       "      <td>sklearn_1_10_decision_trees</td>\n",
       "      <td>1.10. Decision Trees</td>\n",
       "      <td>modules/tree.html</td>\n",
       "      <td>1.10.3. Multi-output</td>\n",
       "      <td>https://scikit-learn.org/stable/modules/tree.html</td>\n",
       "      <td>sklearn - Odules/Tree, 1.10.3. Multi-output</td>\n",
       "    </tr>\n",
       "    <tr>\n",
       "      <th>153</th>\n",
       "      <td>166</td>\n",
       "      <td>sklearn</td>\n",
       "      <td>Python</td>\n",
       "      <td>sklearn_1_10_decision_trees</td>\n",
       "      <td>1.10. Decision Trees</td>\n",
       "      <td>modules/tree.html</td>\n",
       "      <td>1.10.4. Complexity  In</td>\n",
       "      <td>https://scikit-learn.org/stable/modules/tree.html</td>\n",
       "      <td>sklearn - Odules/Tree, 1.10.4. Complexity  In</td>\n",
       "    </tr>\n",
       "    <tr>\n",
       "      <th>154</th>\n",
       "      <td>167</td>\n",
       "      <td>sklearn</td>\n",
       "      <td>Python</td>\n",
       "      <td>sklearn_1_10_decision_trees</td>\n",
       "      <td>1.10. Decision Trees</td>\n",
       "      <td>modules/tree.html</td>\n",
       "      <td>1.10.5. Tips</td>\n",
       "      <td>https://scikit-learn.org/stable/modules/tree.html</td>\n",
       "      <td>sklearn - Odules/Tree, 1.10.5. Tips</td>\n",
       "    </tr>\n",
       "    <tr>\n",
       "      <th>...</th>\n",
       "      <td>...</td>\n",
       "      <td>...</td>\n",
       "      <td>...</td>\n",
       "      <td>...</td>\n",
       "      <td>...</td>\n",
       "      <td>...</td>\n",
       "      <td>...</td>\n",
       "      <td>...</td>\n",
       "      <td>...</td>\n",
       "    </tr>\n",
       "    <tr>\n",
       "      <th>386</th>\n",
       "      <td>400</td>\n",
       "      <td>sklearn</td>\n",
       "      <td>Python</td>\n",
       "      <td>sklearn_8_2_computational_performance</td>\n",
       "      <td>8.2. Computational Performance</td>\n",
       "      <td>modules/computing.html#computational-performance</td>\n",
       "      <td>8.2. Computational Performance</td>\n",
       "      <td>https://scikit-learn.org/stable/modules/comput...</td>\n",
       "      <td>sklearn - Odules/Computing.Html#Computational ...</td>\n",
       "    </tr>\n",
       "    <tr>\n",
       "      <th>387</th>\n",
       "      <td>401</td>\n",
       "      <td>sklearn</td>\n",
       "      <td>Python</td>\n",
       "      <td>sklearn_8_2_computational_performance</td>\n",
       "      <td>8.2. Computational Performance</td>\n",
       "      <td>modules/computing.html#computational-performance</td>\n",
       "      <td>8.3. Parallelism</td>\n",
       "      <td>https://scikit-learn.org/stable/modules/comput...</td>\n",
       "      <td>sklearn - Odules/Computing.Html#Computational ...</td>\n",
       "    </tr>\n",
       "    <tr>\n",
       "      <th>388</th>\n",
       "      <td>402</td>\n",
       "      <td>sklearn</td>\n",
       "      <td>Python</td>\n",
       "      <td>sklearn_8_3_parallelism_resource_management_an...</td>\n",
       "      <td>8.3. Parallelism, resource management, and con...</td>\n",
       "      <td>modules/computing.html#parallelism-resource-ma...</td>\n",
       "      <td>8.1. Strategies</td>\n",
       "      <td>https://scikit-learn.org/stable/modules/comput...</td>\n",
       "      <td>sklearn - Odules/Computing.Html#Parallelism Re...</td>\n",
       "    </tr>\n",
       "    <tr>\n",
       "      <th>389</th>\n",
       "      <td>403</td>\n",
       "      <td>sklearn</td>\n",
       "      <td>Python</td>\n",
       "      <td>sklearn_8_3_parallelism_resource_management_an...</td>\n",
       "      <td>8.3. Parallelism, resource management, and con...</td>\n",
       "      <td>modules/computing.html#parallelism-resource-ma...</td>\n",
       "      <td>8.2. Computational Performance</td>\n",
       "      <td>https://scikit-learn.org/stable/modules/comput...</td>\n",
       "      <td>sklearn - Odules/Computing.Html#Parallelism Re...</td>\n",
       "    </tr>\n",
       "    <tr>\n",
       "      <th>390</th>\n",
       "      <td>404</td>\n",
       "      <td>sklearn</td>\n",
       "      <td>Python</td>\n",
       "      <td>sklearn_8_3_parallelism_resource_management_an...</td>\n",
       "      <td>8.3. Parallelism, resource management, and con...</td>\n",
       "      <td>modules/computing.html#parallelism-resource-ma...</td>\n",
       "      <td>8.3. Parallelism</td>\n",
       "      <td>https://scikit-learn.org/stable/modules/comput...</td>\n",
       "      <td>sklearn - Odules/Computing.Html#Parallelism Re...</td>\n",
       "    </tr>\n",
       "  </tbody>\n",
       "</table>\n",
       "<p>241 rows × 9 columns</p>\n",
       "</div>"
      ],
      "text/plain": [
       "     index  Package Language  \\\n",
       "150    163  sklearn   Python   \n",
       "151    164  sklearn   Python   \n",
       "152    165  sklearn   Python   \n",
       "153    166  sklearn   Python   \n",
       "154    167  sklearn   Python   \n",
       "..     ...      ...      ...   \n",
       "386    400  sklearn   Python   \n",
       "387    401  sklearn   Python   \n",
       "388    402  sklearn   Python   \n",
       "389    403  sklearn   Python   \n",
       "390    404  sklearn   Python   \n",
       "\n",
       "                                            Section_ID  \\\n",
       "150                        sklearn_1_10_decision_trees   \n",
       "151                        sklearn_1_10_decision_trees   \n",
       "152                        sklearn_1_10_decision_trees   \n",
       "153                        sklearn_1_10_decision_trees   \n",
       "154                        sklearn_1_10_decision_trees   \n",
       "..                                                 ...   \n",
       "386              sklearn_8_2_computational_performance   \n",
       "387              sklearn_8_2_computational_performance   \n",
       "388  sklearn_8_3_parallelism_resource_management_an...   \n",
       "389  sklearn_8_3_parallelism_resource_management_an...   \n",
       "390  sklearn_8_3_parallelism_resource_management_an...   \n",
       "\n",
       "                                               Section  \\\n",
       "150                               1.10. Decision Trees   \n",
       "151                               1.10. Decision Trees   \n",
       "152                               1.10. Decision Trees   \n",
       "153                               1.10. Decision Trees   \n",
       "154                               1.10. Decision Trees   \n",
       "..                                                 ...   \n",
       "386                     8.2. Computational Performance   \n",
       "387                     8.2. Computational Performance   \n",
       "388  8.3. Parallelism, resource management, and con...   \n",
       "389  8.3. Parallelism, resource management, and con...   \n",
       "390  8.3. Parallelism, resource management, and con...   \n",
       "\n",
       "                                           SectionLink  \\\n",
       "150                                  modules/tree.html   \n",
       "151                                  modules/tree.html   \n",
       "152                                  modules/tree.html   \n",
       "153                                  modules/tree.html   \n",
       "154                                  modules/tree.html   \n",
       "..                                                 ...   \n",
       "386   modules/computing.html#computational-performance   \n",
       "387   modules/computing.html#computational-performance   \n",
       "388  modules/computing.html#parallelism-resource-ma...   \n",
       "389  modules/computing.html#parallelism-resource-ma...   \n",
       "390  modules/computing.html#parallelism-resource-ma...   \n",
       "\n",
       "                                          Page_Name  \\\n",
       "150  1.10.1. Classification  DecisionTreeClassifier   \n",
       "151                    1.10.2. Regression  Decision   \n",
       "152                            1.10.3. Multi-output   \n",
       "153                          1.10.4. Complexity  In   \n",
       "154                                    1.10.5. Tips   \n",
       "..                                              ...   \n",
       "386                  8.2. Computational Performance   \n",
       "387                                8.3. Parallelism   \n",
       "388                                 8.1. Strategies   \n",
       "389                  8.2. Computational Performance   \n",
       "390                                8.3. Parallelism   \n",
       "\n",
       "                                                  Link  \\\n",
       "150  https://scikit-learn.org/stable/modules/tree.html   \n",
       "151  https://scikit-learn.org/stable/modules/tree.html   \n",
       "152  https://scikit-learn.org/stable/modules/tree.html   \n",
       "153  https://scikit-learn.org/stable/modules/tree.html   \n",
       "154  https://scikit-learn.org/stable/modules/tree.html   \n",
       "..                                                 ...   \n",
       "386  https://scikit-learn.org/stable/modules/comput...   \n",
       "387  https://scikit-learn.org/stable/modules/comput...   \n",
       "388  https://scikit-learn.org/stable/modules/comput...   \n",
       "389  https://scikit-learn.org/stable/modules/comput...   \n",
       "390  https://scikit-learn.org/stable/modules/comput...   \n",
       "\n",
       "                                              PageName  \n",
       "150  sklearn - Odules/Tree, 1.10.1. Classification ...  \n",
       "151  sklearn - Odules/Tree, 1.10.2. Regression  Dec...  \n",
       "152        sklearn - Odules/Tree, 1.10.3. Multi-output  \n",
       "153      sklearn - Odules/Tree, 1.10.4. Complexity  In  \n",
       "154                sklearn - Odules/Tree, 1.10.5. Tips  \n",
       "..                                                 ...  \n",
       "386  sklearn - Odules/Computing.Html#Computational ...  \n",
       "387  sklearn - Odules/Computing.Html#Computational ...  \n",
       "388  sklearn - Odules/Computing.Html#Parallelism Re...  \n",
       "389  sklearn - Odules/Computing.Html#Parallelism Re...  \n",
       "390  sklearn - Odules/Computing.Html#Parallelism Re...  \n",
       "\n",
       "[241 rows x 9 columns]"
      ]
     },
     "execution_count": 334,
     "metadata": {},
     "output_type": "execute_result"
    }
   ],
   "source": [
    "labels.loc[labels.Package == 'sklearn']"
   ]
  },
  {
   "cell_type": "code",
   "execution_count": 326,
   "metadata": {},
   "outputs": [],
   "source": [
    "labels['Link'] = labels.apply(lambda x: base_links.get(x.Package) + x.SectionLink,axis=1)"
   ]
  },
  {
   "cell_type": "code",
   "execution_count": 327,
   "metadata": {},
   "outputs": [],
   "source": [
    "ranking_df = pd.DataFrame(rankings).T\n",
    "ranking_df.columns = ['Rec_Probs', 'Rec_Index']"
   ]
  },
  {
   "cell_type": "code",
   "execution_count": 328,
   "metadata": {},
   "outputs": [],
   "source": [
    "combined = labels.join(ranking_df).drop(columns=\"index\")\n"
   ]
  },
  {
   "cell_type": "code",
   "execution_count": 329,
   "metadata": {},
   "outputs": [
    {
     "data": {
      "text/html": [
       "<div>\n",
       "<style scoped>\n",
       "    .dataframe tbody tr th:only-of-type {\n",
       "        vertical-align: middle;\n",
       "    }\n",
       "\n",
       "    .dataframe tbody tr th {\n",
       "        vertical-align: top;\n",
       "    }\n",
       "\n",
       "    .dataframe thead th {\n",
       "        text-align: right;\n",
       "    }\n",
       "</style>\n",
       "<table border=\"1\" class=\"dataframe\">\n",
       "  <thead>\n",
       "    <tr style=\"text-align: right;\">\n",
       "      <th></th>\n",
       "      <th>Package</th>\n",
       "      <th>Language</th>\n",
       "      <th>Section_ID</th>\n",
       "      <th>Section</th>\n",
       "      <th>SectionLink</th>\n",
       "      <th>Page_Name</th>\n",
       "      <th>Link</th>\n",
       "      <th>PageName</th>\n",
       "      <th>Rec_Probs</th>\n",
       "      <th>Rec_Index</th>\n",
       "    </tr>\n",
       "  </thead>\n",
       "  <tbody>\n",
       "    <tr>\n",
       "      <th>0</th>\n",
       "      <td>caret</td>\n",
       "      <td>R</td>\n",
       "      <td>caret_11_subsampling_for_class_imbalances</td>\n",
       "      <td>11 Subsampling For Class Imbalances</td>\n",
       "      <td>subsampling-for-class-imbalances.html</td>\n",
       "      <td>11.1 Subsampling Techniques To</td>\n",
       "      <td>https://topepo.github.io/caret/subsampling-for...</td>\n",
       "      <td>caret - Subsampling For Class Imbalances, 11.1...</td>\n",
       "      <td>[0.6759168026284725, 0.6503327111025291, 0.638...</td>\n",
       "      <td>[244, 4, 163, 375, 56]</td>\n",
       "    </tr>\n",
       "    <tr>\n",
       "      <th>1</th>\n",
       "      <td>caret</td>\n",
       "      <td>R</td>\n",
       "      <td>caret_11_subsampling_for_class_imbalances</td>\n",
       "      <td>11 Subsampling For Class Imbalances</td>\n",
       "      <td>subsampling-for-class-imbalances.html</td>\n",
       "      <td>11.3 Complications The</td>\n",
       "      <td>https://topepo.github.io/caret/subsampling-for...</td>\n",
       "      <td>caret - Subsampling For Class Imbalances, 11.3...</td>\n",
       "      <td>[0.6155791831060012, 0.6137299220946123, 0.607...</td>\n",
       "      <td>[292, 67, 233, 8, 391]</td>\n",
       "    </tr>\n",
       "    <tr>\n",
       "      <th>2</th>\n",
       "      <td>caret</td>\n",
       "      <td>R</td>\n",
       "      <td>caret_11_subsampling_for_class_imbalances</td>\n",
       "      <td>11 Subsampling For Class Imbalances</td>\n",
       "      <td>subsampling-for-class-imbalances.html</td>\n",
       "      <td>11.4 Using Custom Subsampling</td>\n",
       "      <td>https://topepo.github.io/caret/subsampling-for...</td>\n",
       "      <td>caret - Subsampling For Class Imbalances, 11.4...</td>\n",
       "      <td>[0.5818995670866465, 0.581233463769919, 0.5771...</td>\n",
       "      <td>[216, 32, 11, 151, 8]</td>\n",
       "    </tr>\n",
       "    <tr>\n",
       "      <th>3</th>\n",
       "      <td>caret</td>\n",
       "      <td>R</td>\n",
       "      <td>caret_12_using_recipes_with_train</td>\n",
       "      <td>12 Using Recipes with train</td>\n",
       "      <td>using-recipes-with-train.html</td>\n",
       "      <td>12.1 Why Should</td>\n",
       "      <td>https://topepo.github.io/caret/using-recipes-w...</td>\n",
       "      <td>caret - Using Recipes With Train, 12.1 Why Should</td>\n",
       "      <td>[0.6327495350333942, 0.6193120877616372, 0.617...</td>\n",
       "      <td>[272, 77, 385, 4, 298]</td>\n",
       "    </tr>\n",
       "    <tr>\n",
       "      <th>4</th>\n",
       "      <td>caret</td>\n",
       "      <td>R</td>\n",
       "      <td>caret_12_using_recipes_with_train</td>\n",
       "      <td>12 Using Recipes with train</td>\n",
       "      <td>using-recipes-with-train.html</td>\n",
       "      <td>12.2 An Example The QSARdata</td>\n",
       "      <td>https://topepo.github.io/caret/using-recipes-w...</td>\n",
       "      <td>caret - Using Recipes With Train, 12.2 An Exam...</td>\n",
       "      <td>[0.7013757694326713, 0.7004095972967935, 0.681...</td>\n",
       "      <td>[387, 385, 390, 384, 366]</td>\n",
       "    </tr>\n",
       "    <tr>\n",
       "      <th>...</th>\n",
       "      <td>...</td>\n",
       "      <td>...</td>\n",
       "      <td>...</td>\n",
       "      <td>...</td>\n",
       "      <td>...</td>\n",
       "      <td>...</td>\n",
       "      <td>...</td>\n",
       "      <td>...</td>\n",
       "      <td>...</td>\n",
       "      <td>...</td>\n",
       "    </tr>\n",
       "    <tr>\n",
       "      <th>456</th>\n",
       "      <td>scipy</td>\n",
       "      <td>Python</td>\n",
       "      <td>scipy_statistics_scipy_stats</td>\n",
       "      <td>Statistics (scipy.stats)</td>\n",
       "      <td>stats.html</td>\n",
       "      <td>Building specific distributions</td>\n",
       "      <td>https://docs.scipy.org/doc/scipy/reference/tut...</td>\n",
       "      <td>scipy - Stats, Building specific distributions</td>\n",
       "      <td>[0.6381339001314704, 0.6364477798297543, 0.634...</td>\n",
       "      <td>[366, 361, 460, 455, 385]</td>\n",
       "    </tr>\n",
       "    <tr>\n",
       "      <th>457</th>\n",
       "      <td>scipy</td>\n",
       "      <td>Python</td>\n",
       "      <td>scipy_statistics_scipy_stats</td>\n",
       "      <td>Statistics (scipy.stats)</td>\n",
       "      <td>stats.html</td>\n",
       "      <td>Comparing two samples</td>\n",
       "      <td>https://docs.scipy.org/doc/scipy/reference/tut...</td>\n",
       "      <td>scipy - Stats, Comparing two samples</td>\n",
       "      <td>[0.6312074607746629, 0.6109502254042097, 0.604...</td>\n",
       "      <td>[449, 399, 411, 174, 46]</td>\n",
       "    </tr>\n",
       "    <tr>\n",
       "      <th>458</th>\n",
       "      <td>scipy</td>\n",
       "      <td>Python</td>\n",
       "      <td>scipy_statistics_scipy_stats</td>\n",
       "      <td>Statistics (scipy.stats)</td>\n",
       "      <td>stats.html</td>\n",
       "      <td>Introduction  In this</td>\n",
       "      <td>https://docs.scipy.org/doc/scipy/reference/tut...</td>\n",
       "      <td>scipy - Stats, Introduction  In this</td>\n",
       "      <td>[0.607461532520102, 0.5994546764117346, 0.5969...</td>\n",
       "      <td>[67, 460, 414, 444, 434]</td>\n",
       "    </tr>\n",
       "    <tr>\n",
       "      <th>459</th>\n",
       "      <td>scipy</td>\n",
       "      <td>Python</td>\n",
       "      <td>scipy_statistics_scipy_stats</td>\n",
       "      <td>Statistics (scipy.stats)</td>\n",
       "      <td>stats.html</td>\n",
       "      <td>Kernel density estimation</td>\n",
       "      <td>https://docs.scipy.org/doc/scipy/reference/tut...</td>\n",
       "      <td>scipy - Stats, Kernel density estimation</td>\n",
       "      <td>[0.6568073802380295, 0.6562692986010782, 0.656...</td>\n",
       "      <td>[455, 386, 383, 389, 460]</td>\n",
       "    </tr>\n",
       "    <tr>\n",
       "      <th>460</th>\n",
       "      <td>scipy</td>\n",
       "      <td>Python</td>\n",
       "      <td>scipy_statistics_scipy_stats</td>\n",
       "      <td>Statistics (scipy.stats)</td>\n",
       "      <td>stats.html</td>\n",
       "      <td>Random variables  There</td>\n",
       "      <td>https://docs.scipy.org/doc/scipy/reference/tut...</td>\n",
       "      <td>scipy - Stats, Random variables  There</td>\n",
       "      <td>[0.7562182589192208, 0.7372049300364959, 0.735...</td>\n",
       "      <td>[391, 384, 390, 385, 441]</td>\n",
       "    </tr>\n",
       "  </tbody>\n",
       "</table>\n",
       "<p>461 rows × 10 columns</p>\n",
       "</div>"
      ],
      "text/plain": [
       "    Package Language                                 Section_ID  \\\n",
       "0     caret        R  caret_11_subsampling_for_class_imbalances   \n",
       "1     caret        R  caret_11_subsampling_for_class_imbalances   \n",
       "2     caret        R  caret_11_subsampling_for_class_imbalances   \n",
       "3     caret        R          caret_12_using_recipes_with_train   \n",
       "4     caret        R          caret_12_using_recipes_with_train   \n",
       "..      ...      ...                                        ...   \n",
       "456   scipy   Python               scipy_statistics_scipy_stats   \n",
       "457   scipy   Python               scipy_statistics_scipy_stats   \n",
       "458   scipy   Python               scipy_statistics_scipy_stats   \n",
       "459   scipy   Python               scipy_statistics_scipy_stats   \n",
       "460   scipy   Python               scipy_statistics_scipy_stats   \n",
       "\n",
       "                                 Section  \\\n",
       "0    11 Subsampling For Class Imbalances   \n",
       "1    11 Subsampling For Class Imbalances   \n",
       "2    11 Subsampling For Class Imbalances   \n",
       "3            12 Using Recipes with train   \n",
       "4            12 Using Recipes with train   \n",
       "..                                   ...   \n",
       "456             Statistics (scipy.stats)   \n",
       "457             Statistics (scipy.stats)   \n",
       "458             Statistics (scipy.stats)   \n",
       "459             Statistics (scipy.stats)   \n",
       "460             Statistics (scipy.stats)   \n",
       "\n",
       "                               SectionLink                        Page_Name  \\\n",
       "0    subsampling-for-class-imbalances.html   11.1 Subsampling Techniques To   \n",
       "1    subsampling-for-class-imbalances.html           11.3 Complications The   \n",
       "2    subsampling-for-class-imbalances.html    11.4 Using Custom Subsampling   \n",
       "3            using-recipes-with-train.html                  12.1 Why Should   \n",
       "4            using-recipes-with-train.html     12.2 An Example The QSARdata   \n",
       "..                                     ...                              ...   \n",
       "456                             stats.html  Building specific distributions   \n",
       "457                             stats.html            Comparing two samples   \n",
       "458                             stats.html            Introduction  In this   \n",
       "459                             stats.html        Kernel density estimation   \n",
       "460                             stats.html          Random variables  There   \n",
       "\n",
       "                                                  Link  \\\n",
       "0    https://topepo.github.io/caret/subsampling-for...   \n",
       "1    https://topepo.github.io/caret/subsampling-for...   \n",
       "2    https://topepo.github.io/caret/subsampling-for...   \n",
       "3    https://topepo.github.io/caret/using-recipes-w...   \n",
       "4    https://topepo.github.io/caret/using-recipes-w...   \n",
       "..                                                 ...   \n",
       "456  https://docs.scipy.org/doc/scipy/reference/tut...   \n",
       "457  https://docs.scipy.org/doc/scipy/reference/tut...   \n",
       "458  https://docs.scipy.org/doc/scipy/reference/tut...   \n",
       "459  https://docs.scipy.org/doc/scipy/reference/tut...   \n",
       "460  https://docs.scipy.org/doc/scipy/reference/tut...   \n",
       "\n",
       "                                              PageName  \\\n",
       "0    caret - Subsampling For Class Imbalances, 11.1...   \n",
       "1    caret - Subsampling For Class Imbalances, 11.3...   \n",
       "2    caret - Subsampling For Class Imbalances, 11.4...   \n",
       "3    caret - Using Recipes With Train, 12.1 Why Should   \n",
       "4    caret - Using Recipes With Train, 12.2 An Exam...   \n",
       "..                                                 ...   \n",
       "456     scipy - Stats, Building specific distributions   \n",
       "457               scipy - Stats, Comparing two samples   \n",
       "458               scipy - Stats, Introduction  In this   \n",
       "459           scipy - Stats, Kernel density estimation   \n",
       "460             scipy - Stats, Random variables  There   \n",
       "\n",
       "                                             Rec_Probs  \\\n",
       "0    [0.6759168026284725, 0.6503327111025291, 0.638...   \n",
       "1    [0.6155791831060012, 0.6137299220946123, 0.607...   \n",
       "2    [0.5818995670866465, 0.581233463769919, 0.5771...   \n",
       "3    [0.6327495350333942, 0.6193120877616372, 0.617...   \n",
       "4    [0.7013757694326713, 0.7004095972967935, 0.681...   \n",
       "..                                                 ...   \n",
       "456  [0.6381339001314704, 0.6364477798297543, 0.634...   \n",
       "457  [0.6312074607746629, 0.6109502254042097, 0.604...   \n",
       "458  [0.607461532520102, 0.5994546764117346, 0.5969...   \n",
       "459  [0.6568073802380295, 0.6562692986010782, 0.656...   \n",
       "460  [0.7562182589192208, 0.7372049300364959, 0.735...   \n",
       "\n",
       "                     Rec_Index  \n",
       "0       [244, 4, 163, 375, 56]  \n",
       "1       [292, 67, 233, 8, 391]  \n",
       "2        [216, 32, 11, 151, 8]  \n",
       "3       [272, 77, 385, 4, 298]  \n",
       "4    [387, 385, 390, 384, 366]  \n",
       "..                         ...  \n",
       "456  [366, 361, 460, 455, 385]  \n",
       "457   [449, 399, 411, 174, 46]  \n",
       "458   [67, 460, 414, 444, 434]  \n",
       "459  [455, 386, 383, 389, 460]  \n",
       "460  [391, 384, 390, 385, 441]  \n",
       "\n",
       "[461 rows x 10 columns]"
      ]
     },
     "execution_count": 329,
     "metadata": {},
     "output_type": "execute_result"
    }
   ],
   "source": [
    "combined"
   ]
  },
  {
   "cell_type": "code",
   "execution_count": 330,
   "metadata": {},
   "outputs": [],
   "source": [
    "with open(\"recommendation_table.pkl\", 'wb') as f:\n",
    "    pickle.dump(combined, f)"
   ]
  },
  {
   "cell_type": "code",
   "execution_count": 331,
   "metadata": {},
   "outputs": [],
   "source": [
    "with open(\"recommendation_table.pkl\", 'rb') as f:\n",
    "    table = pickle.load(f)"
   ]
  },
  {
   "cell_type": "code",
   "execution_count": 332,
   "metadata": {},
   "outputs": [],
   "source": [
    "idx = 5"
   ]
  },
  {
   "cell_type": "code",
   "execution_count": 333,
   "metadata": {},
   "outputs": [
    {
     "data": {
      "text/html": [
       "<div>\n",
       "<style scoped>\n",
       "    .dataframe tbody tr th:only-of-type {\n",
       "        vertical-align: middle;\n",
       "    }\n",
       "\n",
       "    .dataframe tbody tr th {\n",
       "        vertical-align: top;\n",
       "    }\n",
       "\n",
       "    .dataframe thead th {\n",
       "        text-align: right;\n",
       "    }\n",
       "</style>\n",
       "<table border=\"1\" class=\"dataframe\">\n",
       "  <thead>\n",
       "    <tr style=\"text-align: right;\">\n",
       "      <th></th>\n",
       "      <th>Package</th>\n",
       "      <th>Language</th>\n",
       "      <th>Section_ID</th>\n",
       "      <th>Section</th>\n",
       "      <th>SectionLink</th>\n",
       "      <th>Page_Name</th>\n",
       "      <th>Link</th>\n",
       "      <th>PageName</th>\n",
       "      <th>Rec_Probs</th>\n",
       "      <th>Rec_Index</th>\n",
       "    </tr>\n",
       "  </thead>\n",
       "  <tbody>\n",
       "    <tr>\n",
       "      <th>0</th>\n",
       "      <td>caret</td>\n",
       "      <td>R</td>\n",
       "      <td>caret_11_subsampling_for_class_imbalances</td>\n",
       "      <td>11 Subsampling For Class Imbalances</td>\n",
       "      <td>subsampling-for-class-imbalances.html</td>\n",
       "      <td>11.1 Subsampling Techniques To</td>\n",
       "      <td>https://topepo.github.io/caret/subsampling-for...</td>\n",
       "      <td>caret - Subsampling For Class Imbalances, 11.1...</td>\n",
       "      <td>[0.6759168026284725, 0.6503327111025291, 0.638...</td>\n",
       "      <td>[244, 4, 163, 375, 56]</td>\n",
       "    </tr>\n",
       "    <tr>\n",
       "      <th>1</th>\n",
       "      <td>caret</td>\n",
       "      <td>R</td>\n",
       "      <td>caret_11_subsampling_for_class_imbalances</td>\n",
       "      <td>11 Subsampling For Class Imbalances</td>\n",
       "      <td>subsampling-for-class-imbalances.html</td>\n",
       "      <td>11.3 Complications The</td>\n",
       "      <td>https://topepo.github.io/caret/subsampling-for...</td>\n",
       "      <td>caret - Subsampling For Class Imbalances, 11.3...</td>\n",
       "      <td>[0.6155791831060012, 0.6137299220946123, 0.607...</td>\n",
       "      <td>[292, 67, 233, 8, 391]</td>\n",
       "    </tr>\n",
       "    <tr>\n",
       "      <th>2</th>\n",
       "      <td>caret</td>\n",
       "      <td>R</td>\n",
       "      <td>caret_11_subsampling_for_class_imbalances</td>\n",
       "      <td>11 Subsampling For Class Imbalances</td>\n",
       "      <td>subsampling-for-class-imbalances.html</td>\n",
       "      <td>11.4 Using Custom Subsampling</td>\n",
       "      <td>https://topepo.github.io/caret/subsampling-for...</td>\n",
       "      <td>caret - Subsampling For Class Imbalances, 11.4...</td>\n",
       "      <td>[0.5818995670866465, 0.581233463769919, 0.5771...</td>\n",
       "      <td>[216, 32, 11, 151, 8]</td>\n",
       "    </tr>\n",
       "    <tr>\n",
       "      <th>3</th>\n",
       "      <td>caret</td>\n",
       "      <td>R</td>\n",
       "      <td>caret_12_using_recipes_with_train</td>\n",
       "      <td>12 Using Recipes with train</td>\n",
       "      <td>using-recipes-with-train.html</td>\n",
       "      <td>12.1 Why Should</td>\n",
       "      <td>https://topepo.github.io/caret/using-recipes-w...</td>\n",
       "      <td>caret - Using Recipes With Train, 12.1 Why Should</td>\n",
       "      <td>[0.6327495350333942, 0.6193120877616372, 0.617...</td>\n",
       "      <td>[272, 77, 385, 4, 298]</td>\n",
       "    </tr>\n",
       "    <tr>\n",
       "      <th>4</th>\n",
       "      <td>caret</td>\n",
       "      <td>R</td>\n",
       "      <td>caret_12_using_recipes_with_train</td>\n",
       "      <td>12 Using Recipes with train</td>\n",
       "      <td>using-recipes-with-train.html</td>\n",
       "      <td>12.2 An Example The QSARdata</td>\n",
       "      <td>https://topepo.github.io/caret/using-recipes-w...</td>\n",
       "      <td>caret - Using Recipes With Train, 12.2 An Exam...</td>\n",
       "      <td>[0.7013757694326713, 0.7004095972967935, 0.681...</td>\n",
       "      <td>[387, 385, 390, 384, 366]</td>\n",
       "    </tr>\n",
       "  </tbody>\n",
       "</table>\n",
       "</div>"
      ],
      "text/plain": [
       "  Package Language                                 Section_ID  \\\n",
       "0   caret        R  caret_11_subsampling_for_class_imbalances   \n",
       "1   caret        R  caret_11_subsampling_for_class_imbalances   \n",
       "2   caret        R  caret_11_subsampling_for_class_imbalances   \n",
       "3   caret        R          caret_12_using_recipes_with_train   \n",
       "4   caret        R          caret_12_using_recipes_with_train   \n",
       "\n",
       "                               Section                            SectionLink  \\\n",
       "0  11 Subsampling For Class Imbalances  subsampling-for-class-imbalances.html   \n",
       "1  11 Subsampling For Class Imbalances  subsampling-for-class-imbalances.html   \n",
       "2  11 Subsampling For Class Imbalances  subsampling-for-class-imbalances.html   \n",
       "3          12 Using Recipes with train          using-recipes-with-train.html   \n",
       "4          12 Using Recipes with train          using-recipes-with-train.html   \n",
       "\n",
       "                        Page_Name  \\\n",
       "0  11.1 Subsampling Techniques To   \n",
       "1          11.3 Complications The   \n",
       "2   11.4 Using Custom Subsampling   \n",
       "3                 12.1 Why Should   \n",
       "4    12.2 An Example The QSARdata   \n",
       "\n",
       "                                                Link  \\\n",
       "0  https://topepo.github.io/caret/subsampling-for...   \n",
       "1  https://topepo.github.io/caret/subsampling-for...   \n",
       "2  https://topepo.github.io/caret/subsampling-for...   \n",
       "3  https://topepo.github.io/caret/using-recipes-w...   \n",
       "4  https://topepo.github.io/caret/using-recipes-w...   \n",
       "\n",
       "                                            PageName  \\\n",
       "0  caret - Subsampling For Class Imbalances, 11.1...   \n",
       "1  caret - Subsampling For Class Imbalances, 11.3...   \n",
       "2  caret - Subsampling For Class Imbalances, 11.4...   \n",
       "3  caret - Using Recipes With Train, 12.1 Why Should   \n",
       "4  caret - Using Recipes With Train, 12.2 An Exam...   \n",
       "\n",
       "                                           Rec_Probs  \\\n",
       "0  [0.6759168026284725, 0.6503327111025291, 0.638...   \n",
       "1  [0.6155791831060012, 0.6137299220946123, 0.607...   \n",
       "2  [0.5818995670866465, 0.581233463769919, 0.5771...   \n",
       "3  [0.6327495350333942, 0.6193120877616372, 0.617...   \n",
       "4  [0.7013757694326713, 0.7004095972967935, 0.681...   \n",
       "\n",
       "                   Rec_Index  \n",
       "0     [244, 4, 163, 375, 56]  \n",
       "1     [292, 67, 233, 8, 391]  \n",
       "2      [216, 32, 11, 151, 8]  \n",
       "3     [272, 77, 385, 4, 298]  \n",
       "4  [387, 385, 390, 384, 366]  "
      ]
     },
     "execution_count": 333,
     "metadata": {},
     "output_type": "execute_result"
    }
   ],
   "source": [
    "table.head()"
   ]
  },
  {
   "cell_type": "code",
   "execution_count": 279,
   "metadata": {},
   "outputs": [
    {
     "data": {
      "text/plain": [
       "1"
      ]
     },
     "execution_count": 279,
     "metadata": {},
     "output_type": "execute_result"
    }
   ],
   "source": [
    "table.loc[table.Page_Name == '11.3 Complications The'].index[0]"
   ]
  },
  {
   "cell_type": "code",
   "execution_count": 285,
   "metadata": {},
   "outputs": [],
   "source": [
    "from decimal import Decimal"
   ]
  },
  {
   "cell_type": "code",
   "execution_count": 307,
   "metadata": {},
   "outputs": [
    {
     "data": {
      "text/plain": [
       "['63.00%', '60.81%', '60.76%', '59.96%', '58.45%']"
      ]
     },
     "execution_count": 307,
     "metadata": {},
     "output_type": "execute_result"
    }
   ],
   "source": [
    "[\"{:.2f}%\".format(x * 100) for x in table.iloc[idx].Rec_Probs]"
   ]
  },
  {
   "cell_type": "code",
   "execution_count": 311,
   "metadata": {},
   "outputs": [],
   "source": [
    "\n",
    "def processTable(table, idx):\n",
    "    probs = [\"{:.2f}\".format(x * 100) for x in table.iloc[idx].Rec_Probs]\n",
    "    locs = table.iloc[idx].Rec_Index\n",
    "\n",
    "    cols = [\n",
    "        'Package', \n",
    "        'Language', \n",
    "        'Section_ID', \n",
    "        'Section', \n",
    "        'Link', \n",
    "        'Page_Name',   \n",
    "    ]\n",
    "\n",
    "    outputTable = (\n",
    "        table\n",
    "        .loc[locs, cols]\n",
    "        .join(pd.DataFrame(probs, index=locs, columns=['Similarity Score']))\n",
    "    )\n",
    "\n",
    "    \n",
    "    return outputTable, outLinks"
   ]
  },
  {
   "cell_type": "code",
   "execution_count": 312,
   "metadata": {},
   "outputs": [
    {
     "data": {
      "text/html": [
       "<div>\n",
       "<style scoped>\n",
       "    .dataframe tbody tr th:only-of-type {\n",
       "        vertical-align: middle;\n",
       "    }\n",
       "\n",
       "    .dataframe tbody tr th {\n",
       "        vertical-align: top;\n",
       "    }\n",
       "\n",
       "    .dataframe thead th {\n",
       "        text-align: right;\n",
       "    }\n",
       "</style>\n",
       "<table border=\"1\" class=\"dataframe\">\n",
       "  <thead>\n",
       "    <tr style=\"text-align: right;\">\n",
       "      <th></th>\n",
       "      <th>Package</th>\n",
       "      <th>Language</th>\n",
       "      <th>Section_ID</th>\n",
       "      <th>Section</th>\n",
       "      <th>Link</th>\n",
       "      <th>Page_Name</th>\n",
       "      <th>Similarity Score</th>\n",
       "    </tr>\n",
       "  </thead>\n",
       "  <tbody>\n",
       "    <tr>\n",
       "      <th>117</th>\n",
       "      <td>caret</td>\n",
       "      <td>R</td>\n",
       "      <td>caret_7_train_models_by_tag</td>\n",
       "      <td>7 train Models By Tag</td>\n",
       "      <td>https://topepo.github.io/caret/train-models-by...</td>\n",
       "      <td>7.0.47 Support Vector Machines</td>\n",
       "      <td>63.00</td>\n",
       "    </tr>\n",
       "    <tr>\n",
       "      <th>114</th>\n",
       "      <td>caret</td>\n",
       "      <td>R</td>\n",
       "      <td>caret_7_train_models_by_tag</td>\n",
       "      <td>7 train Models By Tag</td>\n",
       "      <td>https://topepo.github.io/caret/train-models-by...</td>\n",
       "      <td>7.0.44 Rule-Based Model</td>\n",
       "      <td>60.81</td>\n",
       "    </tr>\n",
       "    <tr>\n",
       "      <th>85</th>\n",
       "      <td>caret</td>\n",
       "      <td>R</td>\n",
       "      <td>caret_7_train_models_by_tag</td>\n",
       "      <td>7 train Models By Tag</td>\n",
       "      <td>https://topepo.github.io/caret/train-models-by...</td>\n",
       "      <td>7.0.18 Kernel Method</td>\n",
       "      <td>60.76</td>\n",
       "    </tr>\n",
       "    <tr>\n",
       "      <th>328</th>\n",
       "      <td>sklearn</td>\n",
       "      <td>Python</td>\n",
       "      <td>sklearn_6_3_preprocessing_data</td>\n",
       "      <td>6.3. Preprocessing data</td>\n",
       "      <td>https://scikit-learn.org/stable/modules/prepro...</td>\n",
       "      <td>6.3.6. Imputation</td>\n",
       "      <td>59.96</td>\n",
       "    </tr>\n",
       "    <tr>\n",
       "      <th>105</th>\n",
       "      <td>caret</td>\n",
       "      <td>R</td>\n",
       "      <td>caret_7_train_models_by_tag</td>\n",
       "      <td>7 train Models By Tag</td>\n",
       "      <td>https://topepo.github.io/caret/train-models-by...</td>\n",
       "      <td>7.0.36 Radial Basis Function</td>\n",
       "      <td>58.45</td>\n",
       "    </tr>\n",
       "  </tbody>\n",
       "</table>\n",
       "</div>"
      ],
      "text/plain": [
       "     Package Language                      Section_ID  \\\n",
       "117    caret        R     caret_7_train_models_by_tag   \n",
       "114    caret        R     caret_7_train_models_by_tag   \n",
       "85     caret        R     caret_7_train_models_by_tag   \n",
       "328  sklearn   Python  sklearn_6_3_preprocessing_data   \n",
       "105    caret        R     caret_7_train_models_by_tag   \n",
       "\n",
       "                     Section  \\\n",
       "117    7 train Models By Tag   \n",
       "114    7 train Models By Tag   \n",
       "85     7 train Models By Tag   \n",
       "328  6.3. Preprocessing data   \n",
       "105    7 train Models By Tag   \n",
       "\n",
       "                                                  Link  \\\n",
       "117  https://topepo.github.io/caret/train-models-by...   \n",
       "114  https://topepo.github.io/caret/train-models-by...   \n",
       "85   https://topepo.github.io/caret/train-models-by...   \n",
       "328  https://scikit-learn.org/stable/modules/prepro...   \n",
       "105  https://topepo.github.io/caret/train-models-by...   \n",
       "\n",
       "                          Page_Name Similarity Score  \n",
       "117  7.0.47 Support Vector Machines            63.00  \n",
       "114         7.0.44 Rule-Based Model            60.81  \n",
       "85             7.0.18 Kernel Method            60.76  \n",
       "328               6.3.6. Imputation            59.96  \n",
       "105    7.0.36 Radial Basis Function            58.45  "
      ]
     },
     "execution_count": 312,
     "metadata": {},
     "output_type": "execute_result"
    }
   ],
   "source": [
    "x, _ = processTable(table, 5)\n",
    "x"
   ]
  },
  {
   "cell_type": "code",
   "execution_count": 336,
   "metadata": {},
   "outputs": [],
   "source": [
    "import re\n",
    "\n",
    "import numpy as np\n",
    "import pandas as pd\n",
    "\n",
    "from scipy.spatial import distance\n",
    "from sklearn.manifold import TSNE\n",
    "from sklearn.decomposition import PCA\n",
    "\n",
    "MODEL_PATH = 'app/all_data2_model.dbow_numnoisewords.2_vecdim.100_batchsize.32_lr.0.001000_epoch.95_loss.0.6850212.csv'\n",
    "\n",
    "\n",
    "def readDocMatrix(path):\n",
    "    input_lines = []\n",
    "    with open('app/all_data2.csv') as f:\n",
    "        for line in f:\n",
    "            input_lines.append(line)\n",
    "\n",
    "    output_lines = []\n",
    "    with open(path) as f:\n",
    "        for line in f:\n",
    "            output_lines.append(line)\n",
    "\n",
    "    matched = []\n",
    "    for line_idx in range(len(output_lines)):\n",
    "        matched.append((input_lines[line_idx], output_lines[line_idx]))\n",
    "        \n",
    "    matched_clean = [x for x in matched if not re.match(\".*[A-Z].*\", x[1])]\n",
    "\n",
    "    return matched_clean\n",
    "\n",
    "\n",
    "def toNumpyMatrix(matched):\n",
    "\n",
    "    matched_clean_vectors = [x[1].split(\",\") for x in matched[1:]]\n",
    "    vec_matrix = np.array(matched_clean_vectors)\n",
    "\n",
    "    return vec_matrix\n",
    "\n",
    "\n",
    "def topNMatches(idx, matched, n=5):\n",
    "    \n",
    "    matrix = toNumpyMatrix(matched)\n",
    "    distances = distance.cdist([matrix[idx]], matrix, \"cosine\")[0]\n",
    "\n",
    "    ind = np.argpartition(distances, n+1)[:(n+1)]\n",
    "    sorted_ind = ind[np.argsort(distances[ind])][1:]\n",
    "    min_distances = distances[sorted_ind]\n",
    "    max_similarity = [1 - x for x in min_distances]\n",
    "    \n",
    "    return (max_similarity, sorted_ind)\n",
    "\n",
    "\n",
    "def tsneMatrix(matched):\n",
    "\n",
    "    doc_matrix = toNumpyMatrix(matched)\n",
    "    doc_pca = PCA(n_components=5).fit_transform(doc_matrix)\n",
    "    tsne = TSNE(n_components=2, perplexity=5).fit_transform(doc_pca)\n",
    "    \n",
    "    return tsne\n",
    "\n",
    "docMatrix = readDocMatrix(MODEL_PATH)\n",
    "tsne = tsneMatrix(docMatrix)"
   ]
  },
  {
   "cell_type": "code",
   "execution_count": 341,
   "metadata": {},
   "outputs": [],
   "source": [
    "with open('app/tsne.pkl' ,'wb') as f:\n",
    "    pickle.dump(tsne, f)"
   ]
  },
  {
   "cell_type": "code",
   "execution_count": null,
   "metadata": {},
   "outputs": [],
   "source": []
  }
 ],
 "metadata": {
  "kernelspec": {
   "display_name": ".venv3",
   "language": "python",
   "name": ".venv3"
  },
  "language_info": {
   "codemirror_mode": {
    "name": "ipython",
    "version": 3
   },
   "file_extension": ".py",
   "mimetype": "text/x-python",
   "name": "python",
   "nbconvert_exporter": "python",
   "pygments_lexer": "ipython3",
   "version": "3.8.5"
  }
 },
 "nbformat": 4,
 "nbformat_minor": 4
}
