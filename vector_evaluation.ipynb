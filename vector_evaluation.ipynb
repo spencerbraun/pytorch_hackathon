{
 "cells": [
  {
   "cell_type": "code",
   "execution_count": 361,
   "metadata": {},
   "outputs": [],
   "source": [
    "import glob\n",
    "import os\n",
    "import re\n",
    "import pickle\n",
    "from io import StringIO\n",
    "from collections import defaultdict\n",
    "\n",
    "import numpy as np\n",
    "import pandas as pd\n",
    "import matplotlib\n",
    "import matplotlib.pyplot as plt\n",
    "\n",
    "import torch\n",
    "from scipy.spatial import distance\n",
    "from sklearn.manifold import TSNE\n",
    "from sklearn.decomposition import PCA\n",
    "\n",
    "\n",
    "%matplotlib inline"
   ]
  },
  {
   "cell_type": "code",
   "execution_count": 173,
   "metadata": {},
   "outputs": [
    {
     "data": {
      "text/plain": [
       "476"
      ]
     },
     "execution_count": 173,
     "metadata": {},
     "output_type": "execute_result"
    }
   ],
   "source": [
    "input_lines = []\n",
    "with open('model_data/data/all_data2.csv') as f:\n",
    "    for line in f:\n",
    "        input_lines.append(line)\n",
    "           \n",
    "len(input_lines)"
   ]
  },
  {
   "cell_type": "code",
   "execution_count": null,
   "metadata": {},
   "outputs": [],
   "source": []
  },
  {
   "cell_type": "code",
   "execution_count": 174,
   "metadata": {},
   "outputs": [
    {
     "data": {
      "text/plain": [
       "['sklearn_labels.csv',\n",
       " 'all_data_model.dbow_numnoisewords.2_vecdim.100_batchsize.32_lr.0.001000_epoch.95_loss.0.755801.csv',\n",
       " 'caret.csv',\n",
       " 'numpy_labels.csv',\n",
       " 'numpy.csv',\n",
       " 'all_labels.csv',\n",
       " 'all_data2.csv',\n",
       " 'sklearn.csv',\n",
       " 'all_data.csv',\n",
       " 'scipy_labels.csv',\n",
       " 'scipy.csv',\n",
       " 'caret_labels.csv',\n",
       " 'all_data2_model.dbow_numnoisewords.2_vecdim.100_batchsize.32_lr.0.001000_epoch.95_loss.0.6850212.csv',\n",
       " 'all_data_model.dbow_numnoisewords.2_vecdim.100_batchsize.32_lr.0.001000_epoch.99_loss.0.6853602.csv',\n",
       " 'all_data_model.dbow_numnoisewords.2_vecdim.100_batchsize.32_lr.0.001000_epoch.97_loss.0.750086.csv']"
      ]
     },
     "execution_count": 174,
     "metadata": {},
     "output_type": "execute_result"
    }
   ],
   "source": [
    "os.listdir(\"model_data/data\")"
   ]
  },
  {
   "cell_type": "code",
   "execution_count": 175,
   "metadata": {},
   "outputs": [
    {
     "data": {
      "text/plain": [
       "476"
      ]
     },
     "execution_count": 175,
     "metadata": {},
     "output_type": "execute_result"
    }
   ],
   "source": [
    "output_lines = []\n",
    "with open('model_data/data/all_data2_model.dbow_numnoisewords.2_vecdim.100_batchsize.32_lr.0.001000_epoch.95_loss.0.6850212.csv') as f:\n",
    "    for line in f:\n",
    "        output_lines.append(line)\n",
    "    \n",
    "len(output_lines)"
   ]
  },
  {
   "cell_type": "code",
   "execution_count": 176,
   "metadata": {},
   "outputs": [
    {
     "data": {
      "text/plain": [
       "(461, 100)"
      ]
     },
     "execution_count": 176,
     "metadata": {},
     "output_type": "execute_result"
    }
   ],
   "source": [
    "matched = []\n",
    "for line_idx in range(len(output_lines)):\n",
    "    matched.append((input_lines[line_idx], output_lines[line_idx]))\n",
    "\n",
    "matched_no_header = matched[1:]\n",
    "    \n",
    "matched_clean_idxs = [re.match(\".*[A-Z].*\", x[1]) is None for x in matched_no_header]\n",
    "matched_clean = [x for x in matched_no_header if not re.match(\".*[A-Z].*\", x[1])]\n",
    "matched_clean_vectors = [x[1].split(\",\") for x in matched_clean]\n",
    "\n",
    "vec_matrix = np.array(matched_clean_vectors)\n",
    "vec_matrix.shape"
   ]
  },
  {
   "cell_type": "code",
   "execution_count": 177,
   "metadata": {},
   "outputs": [],
   "source": [
    "def topNMatches(idx, matrix, n=5):\n",
    "    \n",
    "    distances = distance.cdist([matrix[idx]], matrix, \"cosine\")[0]\n",
    "\n",
    "    ind = np.argpartition(distances, n+1)[:(n+1)]\n",
    "    sorted_ind = ind[np.argsort(distances[ind])][1:]\n",
    "    min_distances = distances[sorted_ind]\n",
    "    max_similarity = [1 - x for x in min_distances]\n",
    "    \n",
    "    return (max_similarity, sorted_ind)"
   ]
  },
  {
   "cell_type": "code",
   "execution_count": 178,
   "metadata": {},
   "outputs": [],
   "source": [
    "similarity, idxs = topNMatches(5, vec_matrix)"
   ]
  },
  {
   "cell_type": "code",
   "execution_count": 179,
   "metadata": {},
   "outputs": [
    {
     "data": {
      "text/plain": [
       "array([117, 114,  85, 328, 105])"
      ]
     },
     "execution_count": 179,
     "metadata": {},
     "output_type": "execute_result"
    }
   ],
   "source": [
    "idxs"
   ]
  },
  {
   "cell_type": "code",
   "execution_count": 180,
   "metadata": {},
   "outputs": [],
   "source": [
    "target = matched[5]\n",
    "matches = [matched[i] for i in idxs]"
   ]
  },
  {
   "cell_type": "code",
   "execution_count": 125,
   "metadata": {},
   "outputs": [
    {
     "data": {
      "text/plain": [
       "100"
      ]
     },
     "execution_count": 125,
     "metadata": {},
     "output_type": "execute_result"
    }
   ],
   "source": []
  },
  {
   "cell_type": "code",
   "execution_count": 185,
   "metadata": {},
   "outputs": [],
   "source": [
    "rankings = defaultdict(list)\n",
    "for idx in range(vec_matrix.shape[0]):\n",
    "    rankings[idx] = list(topNMatches(idx, vec_matrix, n=5))"
   ]
  },
  {
   "cell_type": "code",
   "execution_count": 186,
   "metadata": {},
   "outputs": [],
   "source": [
    "with open('vector_recommendations.pkl', 'wb') as f:\n",
    "    pickle.dump(rankings, f)"
   ]
  },
  {
   "cell_type": "code",
   "execution_count": 191,
   "metadata": {},
   "outputs": [
    {
     "data": {
      "text/plain": [
       "[[0.67439562825821,\n",
       "  0.6737601544244304,\n",
       "  0.6719078491473625,\n",
       "  0.6682759849569109,\n",
       "  0.6626707744505367],\n",
       " array([390, 385, 387, 162, 388])]"
      ]
     },
     "execution_count": 191,
     "metadata": {},
     "output_type": "execute_result"
    }
   ],
   "source": [
    "rankings[8]"
   ]
  },
  {
   "cell_type": "code",
   "execution_count": null,
   "metadata": {},
   "outputs": [],
   "source": []
  },
  {
   "cell_type": "code",
   "execution_count": null,
   "metadata": {},
   "outputs": [],
   "source": []
  },
  {
   "cell_type": "markdown",
   "metadata": {},
   "source": [
    "## tsne"
   ]
  },
  {
   "cell_type": "code",
   "execution_count": 85,
   "metadata": {},
   "outputs": [
    {
     "name": "stderr",
     "output_type": "stream",
     "text": [
      "<ipython-input-85-ad41dcf565ed>:11: UserWarning:\n",
      "\n",
      "Matplotlib is currently using module://ipykernel.pylab.backend_inline, which is a non-GUI backend, so cannot show the figure.\n",
      "\n"
     ]
    },
    {
     "data": {
      "image/png": "[encoded data removed]",
      "text/plain": [
       "<Figure size 1080x972 with 1 Axes>"
      ]
     },
     "metadata": {
      "needs_background": "light"
     },
     "output_type": "display_data"
    }
   ],
   "source": [
    "doc_pca = PCA(n_components=5).fit_transform(vec_matrix)\n",
    "tsne = TSNE(n_components=2, perplexity=5).fit_transform(doc_pca)\n",
    "\n",
    "\n",
    "fig, ax = plt.subplots()\n",
    "ax.scatter(tsne[:,0], tsne[:,1],s=3)\n",
    "# for x, y, token in zip(tsne[:,0],tsne[:,1],mft):\n",
    "#     ax.annotate(token, xy=(x,y), size=10)\n",
    "\n",
    "fig.set_size_inches(15,13.5)\n",
    "fig.show()\n",
    "\n"
   ]
  },
  {
   "cell_type": "code",
   "execution_count": 362,
   "metadata": {},
   "outputs": [],
   "source": [
    "import plotly.express as px"
   ]
  },
  {
   "cell_type": "code",
   "execution_count": 363,
   "metadata": {},
   "outputs": [],
   "source": [
    "tsne_df = pd.DataFrame(tsne, columns=['x', 'y'])"
   ]
  },
  {
   "cell_type": "code",
   "execution_count": 364,
   "metadata": {},
   "outputs": [],
   "source": [
    "\n",
    "\n",
    "fig2 = px.scatter(tsne_df, x=\"x\", y=\"y\",\n",
    "#                  size=\"population\", color=\"continent\", hover_name=\"country\",\n",
    "                  size_max=60)"
   ]
  },
  {
   "cell_type": "code",
   "execution_count": 365,
   "metadata": {},
   "outputs": [
    {
     "data": {
      "application/vnd.plotly.v1+json": {
       "config": {
        "plotlyServerURL": "https://plot.ly"
       },
       "data": [
        {
         "hovertemplate": "x=%{x}<br>y=%{y}<extra></extra>",
         "legendgroup": "",
         "marker": {
          "color": "#636efa",
          "symbol": "circle"
         },
         "mode": "markers",
         "name": "",
         "orientation": "v",
         "showlegend": false,
         "type": "scatter",
         "x": [
          9.066717147827148,
          33.10060501098633,
          6.872259616851807,
          11.670804023742676,
          43.96868896484375,
          -6.968630790710449,
          26.091861724853516,
          10.444039344787598,
          43.10002136230469,
          15.250466346740723,
          33.05689239501953,
          13.238344192504883,
          24.697132110595703,
          29.374046325683594,
          0.08373033255338669,
          8.09016227722168,
          28.05632972717285,
          9.834280014038086,
          24.38496971130371,
          14.917692184448242,
          16.44663429260254,
          46.382286071777344,
          9.860869407653809,
          5.9786529541015625,
          36.505027770996094,
          34.1083869934082,
          32.175445556640625,
          34.98076248168945,
          28.67823600769043,
          46.64537811279297,
          35.883689880371094,
          35.075504302978516,
          24.928272247314453,
          25.83684539794922,
          42.475242614746094,
          -5.69674825668335,
          23.721899032592773,
          26.675947189331055,
          25.088253021240234,
          31.190006256103516,
          33.15440368652344,
          30.820199966430664,
          16.22304344177246,
          31.83812713623047,
          19.416913986206055,
          31.8037052154541,
          30.091541290283203,
          33.88433837890625,
          -5.6773223876953125,
          -2.6898603439331055,
          -4.577017784118652,
          0.02856139838695526,
          -21.811927795410156,
          4.720290660858154,
          -0.13655614852905273,
          -0.1909213811159134,
          13.153940200805664,
          4.162774562835693,
          -24.871644973754883,
          26.04035186767578,
          32.627830505371094,
          32.703575134277344,
          27.593149185180664,
          14.691781997680664,
          32.91474533081055,
          30.327478408813477,
          17.46904945373535,
          31.35387420654297,
          -15.535888671875,
          23.036945343017578,
          12.267428398132324,
          23.053138732910156,
          29.78040313720703,
          36.02293395996094,
          40.68640899658203,
          32.983036041259766,
          39.96892547607422,
          28.255508422851562,
          1.098023533821106,
          -3.338418960571289,
          2.435950756072998,
          14.31252670288086,
          16.29938507080078,
          -3.2691650390625,
          30.14069175720215,
          16.927932739257812,
          21.42892837524414,
          28.22607421875,
          26.880727767944336,
          26.268564224243164,
          22.71489143371582,
          -4.998966693878174,
          -1.420920491218567,
          6.3268327713012695,
          7.523642539978027,
          -2.523930788040161,
          26.758346557617188,
          -3.980132818222046,
          15.424178123474121,
          -2.401508092880249,
          0.7931088209152222,
          5.492888927459717,
          6.8904008865356445,
          9.692547798156738,
          5.587372303009033,
          13.3666410446167,
          -3.238464117050171,
          1.9982532262802124,
          7.854245662689209,
          21.91219139099121,
          1.438088297843933,
          11.465654373168945,
          0.6089535355567932,
          6.118320465087891,
          15.5814790725708,
          16.121376037597656,
          9.293664932250977,
          12.829150199890137,
          31.083845138549805,
          8.507022857666016,
          -2.95039701461792,
          24.542917251586914,
          25.634761810302734,
          23.27230453491211,
          5.302920818328857,
          18.32850456237793,
          0.2764412760734558,
          9.55797290802002,
          11.477943420410156,
          -4.764171123504639,
          11.42856216430664,
          0.9453034400939941,
          -9.43044376373291,
          -5.502840042114258,
          -13.557765007019043,
          -12.620250701904297,
          -11.814650535583496,
          14.610546112060547,
          12.195090293884277,
          -24.035812377929688,
          -1.473679542541504,
          9.844987869262695,
          -29.811511993408203,
          -7.280833721160889,
          -9.471742630004883,
          -2.8566946983337402,
          -15.0736722946167,
          -2.7988812923431396,
          -5.95396614074707,
          -3.6668004989624023,
          23.829484939575195,
          -60.25520324707031,
          -12.083660125732422,
          -31.671842575073242,
          12.00039005279541,
          -6.323925971984863,
          -26.488361358642578,
          -10.742798805236816,
          -11.72265911102295,
          36.103546142578125,
          -14.191306114196777,
          72.25812530517578,
          38.18986129760742,
          -13.360050201416016,
          -61.3162841796875,
          -11.466060638427734,
          -19.357154846191406,
          -30.215551376342773,
          -19.310997009277344,
          -7.27761173248291,
          -55.917701721191406,
          -59.6085090637207,
          -23.26140594482422,
          -56.4593620300293,
          -43.810089111328125,
          4.781074523925781,
          -27.718551635742188,
          18.36451530456543,
          -47.80186080932617,
          4.501006126403809,
          -26.680614471435547,
          -61.36361312866211,
          -14.562211990356445,
          -13.655535697937012,
          -38.23369216918945,
          -57.228431701660156,
          -46.68043518066406,
          -13.916057586669922,
          -50.302371978759766,
          -14.71635627746582,
          -20.228965759277344,
          -53.17891311645508,
          -12.414834022521973,
          29.2558536529541,
          -11.464522361755371,
          -59.347373962402344,
          -58.40836715698242,
          -61.5261344909668,
          32.51129150390625,
          -11.932286262512207,
          -37.14892578125,
          -13.409655570983887,
          -11.245333671569824,
          -61.614952087402344,
          -14.468639373779297,
          -61.81285858154297,
          -2.222839117050171,
          -28.184297561645508,
          -33.26152038574219,
          -31.807157516479492,
          -16.790393829345703,
          -19.487855911254883,
          -23.494712829589844,
          -29.88864517211914,
          30.959630966186523,
          -60.76736068725586,
          -52.807003021240234,
          -39.84361267089844,
          26.316425323486328,
          -32.33711624145508,
          27.37333106994629,
          -58.81084060668945,
          27.801410675048828,
          -20.16364860534668,
          -46.98171615600586,
          -30.30169677734375,
          -44.28433609008789,
          -41.41215896606445,
          -10.689208030700684,
          -26.18085479736328,
          -8.41246509552002,
          -23.33613395690918,
          -7.230761528015137,
          34.51272201538086,
          -29.469709396362305,
          26.12038230895996,
          25.99050521850586,
          -16.05016326904297,
          9.644136428833008,
          8.882883071899414,
          -20.886789321899414,
          36.167911529541016,
          -51.47907257080078,
          -44.570762634277344,
          -38.385807037353516,
          -43.477359771728516,
          -44.49176788330078,
          -37.49679946899414,
          -14.070893287658691,
          26.665416717529297,
          -30.749897003173828,
          -32.19773864746094,
          -29.747108459472656,
          -32.37287139892578,
          -23.03192710876465,
          -21.743783950805664,
          -45.62936019897461,
          -21.814802169799805,
          -27.3610782623291,
          22.137508392333984,
          73.21147918701172,
          -17.33861541748047,
          36.644405364990234,
          25.325061798095703,
          -5.117581844329834,
          4.045534133911133,
          17.447612762451172,
          34.612510681152344,
          19.88359260559082,
          -3.2475264072418213,
          -18.927387237548828,
          -20.661544799804688,
          -1.5204583406448364,
          36.67295837402344,
          14.42204761505127,
          12.299422264099121,
          -22.766035079956055,
          -42.84175491333008,
          -11.288311958312988,
          -29.02760124206543,
          -14.613449096679688,
          -9.398161888122559,
          -31.860137939453125,
          -45.469417572021484,
          -43.42424774169922,
          26.384857177734375,
          -37.755008697509766,
          -20.28018569946289,
          -17.643238067626953,
          21.142805099487305,
          21.916851043701172,
          39.01179885864258,
          27.260873794555664,
          -33.09145736694336,
          -21.387460708618164,
          6.286989212036133,
          -4.238509654998779,
          3.265031099319458,
          26.714506149291992,
          74.47211456298828,
          41.68568801879883,
          28.544641494750977,
          -32.859893798828125,
          3.776276111602783,
          -42.01895523071289,
          -3.6143760681152344,
          -30.087493896484375,
          -30.08250617980957,
          -38.915462493896484,
          -10.588032722473145,
          -47.360782623291016,
          -4.843167781829834,
          -21.7080020904541,
          -55.040557861328125,
          8.831409454345703,
          -37.34905242919922,
          -7.893086910247803,
          9.349157333374023,
          -59.12656784057617,
          -17.834436416625977,
          14.288985252380371,
          73.54994201660156,
          -14.402748107910156,
          22.557472229003906,
          -4.19893741607666,
          -4.357668876647949,
          -9.663381576538086,
          3.329235315322876,
          -52.253395080566406,
          -18.79862403869629,
          -27.74018096923828,
          -58.128597259521484,
          -33.10890579223633,
          8.573748588562012,
          -48.035919189453125,
          -45.187835693359375,
          -13.965846061706543,
          -51.2103157043457,
          -52.01268005371094,
          -29.57514190673828,
          -33.41179656982422,
          -51.447792053222656,
          -38.37495422363281,
          -44.952049255371094,
          -6.023257732391357,
          -26.149272918701172,
          -44.07073974609375,
          -26.694128036499023,
          -10.913689613342285,
          -60.229217529296875,
          -61.50126647949219,
          -59.036930084228516,
          -55.68928909301758,
          -29.817506790161133,
          -37.50996398925781,
          -61.5949592590332,
          -61.6187858581543,
          -42.14867401123047,
          68.88198852539062,
          68.5376968383789,
          14.856115341186523,
          38.663551330566406,
          -40.50090789794922,
          69.267333984375,
          68.4736328125,
          15.956842422485352,
          37.782039642333984,
          -41.98186111450195,
          68.0290298461914,
          68.5673599243164,
          15.63863468170166,
          38.7943229675293,
          -46.50360107421875,
          68.77933502197266,
          67.46341705322266,
          10.907130241394043,
          37.024837493896484,
          -43.236515045166016,
          70.191162109375,
          67.50363159179688,
          16.793933868408203,
          37.61909103393555,
          23.451374053955078,
          40.03533935546875,
          41.45172119140625,
          22.793655395507812,
          40.89860153198242,
          42.64173889160156,
          23.764856338500977,
          40.39240646362305,
          42.76026153564453,
          47.81454086303711,
          41.81871795654297,
          -28.62173843383789,
          -28.73859214782715,
          18.77406120300293,
          -28.097366333007812,
          -28.971927642822266,
          -29.469751358032227,
          29.204158782958984,
          -26.26093864440918,
          5.2176432609558105,
          -53.38386535644531,
          19.188634872436523,
          -20.845470428466797,
          30.174551010131836,
          3.709352970123291,
          -40.02914810180664,
          51.458770751953125,
          -28.853364944458008,
          3.048874855041504,
          -0.823000431060791,
          46.12889099121094,
          -23.64242172241211,
          9.7621488571167,
          44.1494026184082,
          42.20735168457031,
          5.897350788116455,
          -1.7487597465515137,
          0.6670485734939575,
          -28.706146240234375,
          16.52071762084961,
          6.382551193237305,
          50.64045333862305,
          40.476341247558594,
          -28.239971160888672,
          40.96358108520508,
          21.428476333618164,
          -13.359614372253418,
          -21.965700149536133,
          21.795597076416016,
          29.572919845581055,
          -22.961360931396484,
          -12.29155445098877,
          28.868301391601562,
          27.930879592895508,
          44.93485641479492,
          52.35336685180664,
          -20.230987548828125,
          39.5312385559082,
          -27.784578323364258,
          49.905235290527344,
          -5.49938440322876,
          -22.611515045166016,
          29.14593505859375,
          14.193548202514648,
          -46.50992965698242,
          -21.875822067260742,
          -18.475282669067383,
          -0.9338136911392212,
          5.811254024505615,
          16.898845672607422,
          1.847900390625,
          5.654048919677734,
          11.902758598327637,
          43.34677505493164,
          29.685152053833008,
          0.5478028655052185,
          10.864921569824219,
          40.37498474121094,
          49.32258224487305
         ],
         "xaxis": "x",
         "y": [
          -38.91849136352539,
          -27.603803634643555,
          -30.059673309326172,
          -38.4193229675293,
          -16.326740264892578,
          -38.21770095825195,
          -17.860639572143555,
          -31.891183853149414,
          -16.029088973999023,
          -41.73385238647461,
          -38.08523178100586,
          -39.138771057128906,
          -36.85719299316406,
          -23.772382736206055,
          -34.7266960144043,
          -39.38201904296875,
          5.093984127044678,
          -38.85785675048828,
          -37.123512268066406,
          -40.53772735595703,
          60.30864715576172,
          -18.83770179748535,
          -31.357067108154297,
          -43.02944564819336,
          -33.550148010253906,
          -31.55194664001465,
          -29.234838485717773,
          -38.517059326171875,
          -24.217199325561523,
          -19.230695724487305,
          -35.292022705078125,
          -25.932668685913086,
          -38.76655197143555,
          -17.30595588684082,
          -15.614537239074707,
          -39.31173324584961,
          -42.36484146118164,
          -25.47671127319336,
          -41.0042839050293,
          2.576765537261963,
          -25.82465171813965,
          -24.063295364379883,
          -40.51493835449219,
          -38.89965057373047,
          -42.55966567993164,
          2.5292580127716064,
          -44.31479263305664,
          20.20107078552246,
          -40.094478607177734,
          -40.983436584472656,
          -40.158748626708984,
          -35.379127502441406,
          -39.15283203125,
          -43.45585632324219,
          -33.5899658203125,
          -42.61678695678711,
          -41.986576080322266,
          -43.515769958496094,
          -46.31993103027344,
          -41.915382385253906,
          -38.93888854980469,
          -24.822057723999023,
          -20.075000762939453,
          -65.6222915649414,
          -22.259302139282227,
          -44.65591812133789,
          -40.09864807128906,
          -28.734004974365234,
          -23.552791595458984,
          -44.033748626708984,
          -61.54031753540039,
          -43.22219467163086,
          -29.668529510498047,
          -33.756961822509766,
          -16.459274291992188,
          -21.349409103393555,
          -16.8718204498291,
          64.4956283569336,
          70.86072540283203,
          74.78225708007812,
          70.93016815185547,
          59.77084732055664,
          59.78853988647461,
          67.57376861572266,
          63.4675407409668,
          69.89422607421875,
          66.55209350585938,
          63.75423049926758,
          67.79277801513672,
          64.58891296386719,
          66.31961059570312,
          73.31680297851562,
          67.94198608398438,
          75.4273681640625,
          74.80611419677734,
          74.59132385253906,
          68.21637725830078,
          76.81446075439453,
          60.843055725097656,
          68.02836608886719,
          71.78644561767578,
          69.31527709960938,
          80.92842102050781,
          73.85873413085938,
          82.23927307128906,
          73.44273376464844,
          73.37696075439453,
          76.01602935791016,
          69.65322875976562,
          64.89527893066406,
          75.41451263427734,
          73.00534057617188,
          74.54010009765625,
          81.7544937133789,
          71.55572509765625,
          70.92277526855469,
          68.85453033447266,
          73.01304626464844,
          63.10713577270508,
          69.77859497070312,
          71.96190643310547,
          62.93559646606445,
          63.42791748046875,
          62.485843658447266,
          83.43406677246094,
          68.32184600830078,
          76.50809478759766,
          72.96748352050781,
          -57.788265228271484,
          -54.212772369384766,
          -63.00708770751953,
          -48.15798568725586,
          -59.99411392211914,
          -47.779090881347656,
          -56.131492614746094,
          -53.86986541748047,
          -57.88658142089844,
          -59.538169860839844,
          -58.89602279663086,
          -47.154388427734375,
          -30.557022094726562,
          -58.657230377197266,
          -34.49644088745117,
          -47.065311431884766,
          -60.42051315307617,
          -55.30397415161133,
          -55.838356018066406,
          -52.73190689086914,
          -47.59951400756836,
          -54.10017013549805,
          8.409037590026855,
          9.20438003540039,
          -8.989028930664062,
          14.754382133483887,
          14.083423614501953,
          3.2591538429260254,
          25.115997314453125,
          -7.852777004241943,
          32.07469940185547,
          37.488739013671875,
          39.894412994384766,
          21.28190040588379,
          35.499210357666016,
          -12.300850868225098,
          -9.825940132141113,
          31.033432006835938,
          -8.227416038513184,
          12.524882316589355,
          -6.694970607757568,
          3.0867300033569336,
          -18.190998077392578,
          9.91840648651123,
          26.835960388183594,
          -19.41876983642578,
          10.674549102783203,
          -20.69994354248047,
          -25.358552932739258,
          19.310909271240234,
          -19.784137725830078,
          19.992372512817383,
          23.200857162475586,
          3.481673002243042,
          21.349449157714844,
          -12.603153228759766,
          25.12455940246582,
          -19.983795166015625,
          -24.805824279785156,
          -8.606928825378418,
          -17.734521865844727,
          36.18592834472656,
          -11.798539161682129,
          -25.356840133666992,
          33.31311798095703,
          22.33775520324707,
          37.629268646240234,
          -15.685301780700684,
          -15.12829875946045,
          -7.761728763580322,
          24.254310607910156,
          36.24960708618164,
          19.4468994140625,
          37.03620147705078,
          35.05231857299805,
          2.9428272247314453,
          40.46694564819336,
          0.32319337129592896,
          1.9669322967529297,
          15.701614379882812,
          23.98048973083496,
          -5.224369049072266,
          19.41624641418457,
          9.240384101867676,
          0.41067996621131897,
          -22.170576095581055,
          23.94609832763672,
          8.506854057312012,
          -18.377647399902344,
          21.303064346313477,
          18.326147079467773,
          24.932815551757812,
          19.539546966552734,
          -16.352380752563477,
          19.914901733398438,
          -6.743009090423584,
          -20.21986198425293,
          14.018619537353516,
          3.6811134815216064,
          4.944427490234375,
          35.63264465332031,
          -23.78247833251953,
          18.88574981689453,
          7.575685977935791,
          4.937262058258057,
          24.041933059692383,
          14.263955116271973,
          7.588829517364502,
          31.042997360229492,
          15.868335723876953,
          27.080219268798828,
          26.26698112487793,
          -11.194260597229004,
          36.880889892578125,
          -14.526593208312988,
          17.064626693725586,
          24.142559051513672,
          19.807836532592773,
          20.355300903320312,
          23.67215347290039,
          19.907325744628906,
          30.71150016784668,
          -6.083133220672607,
          -4.577274322509766,
          -2.1376006603240967,
          -3.1835668087005615,
          0.8181393146514893,
          12.702555656433105,
          14.552960395812988,
          8.438746452331543,
          16.38407325744629,
          30.027254104614258,
          23.42629623413086,
          9.215015411376953,
          31.031749725341797,
          7.8875627517700195,
          18.87444305419922,
          17.965496063232422,
          25.14345932006836,
          21.82128143310547,
          24.927642822265625,
          21.091819763183594,
          14.461173057556152,
          12.162814140319824,
          1.660321593284607,
          33.992916107177734,
          15.584717750549316,
          13.665903091430664,
          26.909652709960938,
          1.9709174633026123,
          18.969038009643555,
          -1.6573585271835327,
          15.80528736114502,
          16.743112564086914,
          -7.124396800994873,
          2.539410352706909,
          19.117525100708008,
          28.434633255004883,
          12.375452041625977,
          8.80949878692627,
          16.519853591918945,
          29.835708618164062,
          25.88026237487793,
          35.795013427734375,
          -23.099740982055664,
          -24.126667022705078,
          -9.09271240234375,
          18.89778709411621,
          16.059890747070312,
          17.507871627807617,
          32.65275573730469,
          24.963781356811523,
          20.1217098236084,
          30.927919387817383,
          -24.566951751708984,
          21.133638381958008,
          -0.64495450258255,
          2.064765453338623,
          -23.29410743713379,
          -23.957128524780273,
          21.99340057373047,
          19.110462188720703,
          14.35629940032959,
          17.30228614807129,
          -8.575177192687988,
          -22.88643455505371,
          25.6331787109375,
          4.636852741241455,
          4.244692802429199,
          19.78496551513672,
          -17.24180793762207,
          16.14592170715332,
          18.692649841308594,
          23.96884536743164,
          2.796417713165283,
          31.637584686279297,
          20.237337112426758,
          2.6225509643554688,
          18.258346557617188,
          21.851078033447266,
          -24.94142723083496,
          -10.421063423156738,
          -26.03929328918457,
          -2.837630271911621,
          22.879667282104492,
          23.442476272583008,
          4.03222131729126,
          1.3935825824737549,
          3.449779987335205,
          -17.694002151489258,
          -14.584334373474121,
          -31.51838493347168,
          -2.4880423545837402,
          -12.362350463867188,
          4.367971897125244,
          14.007845878601074,
          19.051239013671875,
          25.747013092041016,
          11.839279174804688,
          22.767854690551758,
          -7.606939792633057,
          -2.0266501903533936,
          -8.384692192077637,
          -2.652855157852173,
          -15.724321365356445,
          11.461526870727539,
          12.803227424621582,
          7.728053569793701,
          -0.2843574285507202,
          3.991140604019165,
          23.128992080688477,
          30.368989944458008,
          17.143827438354492,
          25.12480926513672,
          3.675624370574951,
          22.119962692260742,
          28.06700897216797,
          18.244050979614258,
          23.523303985595703,
          2.3003060817718506,
          22.089370727539062,
          29.212799072265625,
          17.00333023071289,
          22.76006507873535,
          4.661991119384766,
          21.291845321655273,
          29.84894371032715,
          18.88468360900879,
          23.68294334411621,
          9.399271011352539,
          21.644817352294922,
          28.834510803222656,
          17.91135025024414,
          24.7115478515625,
          27.987260818481445,
          37.3248291015625,
          21.264244079589844,
          26.541126251220703,
          37.20957565307617,
          21.382593154907227,
          27.437273025512695,
          36.332210540771484,
          20.541189193725586,
          3.654998540878296,
          1.847009539604187,
          -49.89000701904297,
          -49.326045989990234,
          -55.19108963012695,
          -44.23440170288086,
          -41.5279426574707,
          -48.070369720458984,
          -3.4972877502441406,
          -35.380348205566406,
          -21.874540328979492,
          -26.05107879638672,
          -55.3242073059082,
          -47.07578659057617,
          -27.27090835571289,
          -28.268455505371094,
          1.2268506288528442,
          4.142717361450195,
          -34.54996871948242,
          -28.848453521728516,
          -30.384397506713867,
          3.0862767696380615,
          -36.40690231323242,
          -62.542015075683594,
          0.25118720531463623,
          1.4412672519683838,
          -25.83452606201172,
          -52.107120513916016,
          -48.77730941772461,
          -43.27593231201172,
          -58.730709075927734,
          -23.97597312927246,
          3.837211847305298,
          0.8320984840393066,
          -36.92959976196289,
          -2.720259189605713,
          -59.53366470336914,
          -55.45140075683594,
          -39.814414978027344,
          -59.572410583496094,
          -1.2668211460113525,
          -47.95905685424805,
          -57.321807861328125,
          -2.1894640922546387,
          -2.002901792526245,
          2.9722466468811035,
          3.87216854095459,
          -46.90371322631836,
          -2.8772315979003906,
          -35.403743743896484,
          5.772110462188721,
          0.952946662902832,
          -49.466243743896484,
          -5.230395317077637,
          -64.96781921386719,
          -25.2016544342041,
          -41.148746490478516,
          -47.043060302734375,
          -51.51331329345703,
          -26.577564239501953,
          -58.436431884765625,
          -29.78077507019043,
          -23.051118850708008,
          -62.27882766723633,
          3.0162148475646973,
          2.992076873779297,
          -43.184024810791016,
          -61.21340560913086,
          -2.5487236976623535,
          4.4878458976745605
         ],
         "yaxis": "y"
        }
       ],
       "layout": {
        "legend": {
         "tracegroupgap": 0
        },
        "margin": {
         "t": 60
        },
        "template": {
         "data": {
          "bar": [
           {
            "error_x": {
             "color": "#2a3f5f"
            },
            "error_y": {
             "color": "#2a3f5f"
            },
            "marker": {
             "line": {
              "color": "#E5ECF6",
              "width": 0.5
             }
            },
            "type": "bar"
           }
          ],
          "barpolar": [
           {
            "marker": {
             "line": {
              "color": "#E5ECF6",
              "width": 0.5
             }
            },
            "type": "barpolar"
           }
          ],
          "carpet": [
           {
            "aaxis": {
             "endlinecolor": "#2a3f5f",
             "gridcolor": "white",
             "linecolor": "white",
             "minorgridcolor": "white",
             "startlinecolor": "#2a3f5f"
            },
            "baxis": {
             "endlinecolor": "#2a3f5f",
             "gridcolor": "white",
             "linecolor": "white",
             "minorgridcolor": "white",
             "startlinecolor": "#2a3f5f"
            },
            "type": "carpet"
           }
          ],
          "choropleth": [
           {
            "colorbar": {
             "outlinewidth": 0,
             "ticks": ""
            },
            "type": "choropleth"
           }
          ],
          "contour": [
           {
            "colorbar": {
             "outlinewidth": 0,
             "ticks": ""
            },
            "colorscale": [
             [
              0,
              "#0d0887"
             ],
             [
              0.1111111111111111,
              "#46039f"
             ],
             [
              0.2222222222222222,
              "#7201a8"
             ],
             [
              0.3333333333333333,
              "#9c179e"
             ],
             [
              0.4444444444444444,
              "#bd3786"
             ],
             [
              0.5555555555555556,
              "#d8576b"
             ],
             [
              0.6666666666666666,
              "#ed7953"
             ],
             [
              0.7777777777777778,
              "#fb9f3a"
             ],
             [
              0.8888888888888888,
              "#fdca26"
             ],
             [
              1,
              "#f0f921"
             ]
            ],
            "type": "contour"
           }
          ],
          "contourcarpet": [
           {
            "colorbar": {
             "outlinewidth": 0,
             "ticks": ""
            },
            "type": "contourcarpet"
           }
          ],
          "heatmap": [
           {
            "colorbar": {
             "outlinewidth": 0,
             "ticks": ""
            },
            "colorscale": [
             [
              0,
              "#0d0887"
             ],
             [
              0.1111111111111111,
              "#46039f"
             ],
             [
              0.2222222222222222,
              "#7201a8"
             ],
             [
              0.3333333333333333,
              "#9c179e"
             ],
             [
              0.4444444444444444,
              "#bd3786"
             ],
             [
              0.5555555555555556,
              "#d8576b"
             ],
             [
              0.6666666666666666,
              "#ed7953"
             ],
             [
              0.7777777777777778,
              "#fb9f3a"
             ],
             [
              0.8888888888888888,
              "#fdca26"
             ],
             [
              1,
              "#f0f921"
             ]
            ],
            "type": "heatmap"
           }
          ],
          "heatmapgl": [
           {
            "colorbar": {
             "outlinewidth": 0,
             "ticks": ""
            },
            "colorscale": [
             [
              0,
              "#0d0887"
             ],
             [
              0.1111111111111111,
              "#46039f"
             ],
             [
              0.2222222222222222,
              "#7201a8"
             ],
             [
              0.3333333333333333,
              "#9c179e"
             ],
             [
              0.4444444444444444,
              "#bd3786"
             ],
             [
              0.5555555555555556,
              "#d8576b"
             ],
             [
              0.6666666666666666,
              "#ed7953"
             ],
             [
              0.7777777777777778,
              "#fb9f3a"
             ],
             [
              0.8888888888888888,
              "#fdca26"
             ],
             [
              1,
              "#f0f921"
             ]
            ],
            "type": "heatmapgl"
           }
          ],
          "histogram": [
           {
            "marker": {
             "colorbar": {
              "outlinewidth": 0,
              "ticks": ""
             }
            },
            "type": "histogram"
           }
          ],
          "histogram2d": [
           {
            "colorbar": {
             "outlinewidth": 0,
             "ticks": ""
            },
            "colorscale": [
             [
              0,
              "#0d0887"
             ],
             [
              0.1111111111111111,
              "#46039f"
             ],
             [
              0.2222222222222222,
              "#7201a8"
             ],
             [
              0.3333333333333333,
              "#9c179e"
             ],
             [
              0.4444444444444444,
              "#bd3786"
             ],
             [
              0.5555555555555556,
              "#d8576b"
             ],
             [
              0.6666666666666666,
              "#ed7953"
             ],
             [
              0.7777777777777778,
              "#fb9f3a"
             ],
             [
              0.8888888888888888,
              "#fdca26"
             ],
             [
              1,
              "#f0f921"
             ]
            ],
            "type": "histogram2d"
           }
          ],
          "histogram2dcontour": [
           {
            "colorbar": {
             "outlinewidth": 0,
             "ticks": ""
            },
            "colorscale": [
             [
              0,
              "#0d0887"
             ],
             [
              0.1111111111111111,
              "#46039f"
             ],
             [
              0.2222222222222222,
              "#7201a8"
             ],
             [
              0.3333333333333333,
              "#9c179e"
             ],
             [
              0.4444444444444444,
              "#bd3786"
             ],
             [
              0.5555555555555556,
              "#d8576b"
             ],
             [
              0.6666666666666666,
              "#ed7953"
             ],
             [
              0.7777777777777778,
              "#fb9f3a"
             ],
             [
              0.8888888888888888,
              "#fdca26"
             ],
             [
              1,
              "#f0f921"
             ]
            ],
            "type": "histogram2dcontour"
           }
          ],
          "mesh3d": [
           {
            "colorbar": {
             "outlinewidth": 0,
             "ticks": ""
            },
            "type": "mesh3d"
           }
          ],
          "parcoords": [
           {
            "line": {
             "colorbar": {
              "outlinewidth": 0,
              "ticks": ""
             }
            },
            "type": "parcoords"
           }
          ],
          "pie": [
           {
            "automargin": true,
            "type": "pie"
           }
          ],
          "scatter": [
           {
            "marker": {
             "colorbar": {
              "outlinewidth": 0,
              "ticks": ""
             }
            },
            "type": "scatter"
           }
          ],
          "scatter3d": [
           {
            "line": {
             "colorbar": {
              "outlinewidth": 0,
              "ticks": ""
             }
            },
            "marker": {
             "colorbar": {
              "outlinewidth": 0,
              "ticks": ""
             }
            },
            "type": "scatter3d"
           }
          ],
          "scattercarpet": [
           {
            "marker": {
             "colorbar": {
              "outlinewidth": 0,
              "ticks": ""
             }
            },
            "type": "scattercarpet"
           }
          ],
          "scattergeo": [
           {
            "marker": {
             "colorbar": {
              "outlinewidth": 0,
              "ticks": ""
             }
            },
            "type": "scattergeo"
           }
          ],
          "scattergl": [
           {
            "marker": {
             "colorbar": {
              "outlinewidth": 0,
              "ticks": ""
             }
            },
            "type": "scattergl"
           }
          ],
          "scattermapbox": [
           {
            "marker": {
             "colorbar": {
              "outlinewidth": 0,
              "ticks": ""
             }
            },
            "type": "scattermapbox"
           }
          ],
          "scatterpolar": [
           {
            "marker": {
             "colorbar": {
              "outlinewidth": 0,
              "ticks": ""
             }
            },
            "type": "scatterpolar"
           }
          ],
          "scatterpolargl": [
           {
            "marker": {
             "colorbar": {
              "outlinewidth": 0,
              "ticks": ""
             }
            },
            "type": "scatterpolargl"
           }
          ],
          "scatterternary": [
           {
            "marker": {
             "colorbar": {
              "outlinewidth": 0,
              "ticks": ""
             }
            },
            "type": "scatterternary"
           }
          ],
          "surface": [
           {
            "colorbar": {
             "outlinewidth": 0,
             "ticks": ""
            },
            "colorscale": [
             [
              0,
              "#0d0887"
             ],
             [
              0.1111111111111111,
              "#46039f"
             ],
             [
              0.2222222222222222,
              "#7201a8"
             ],
             [
              0.3333333333333333,
              "#9c179e"
             ],
             [
              0.4444444444444444,
              "#bd3786"
             ],
             [
              0.5555555555555556,
              "#d8576b"
             ],
             [
              0.6666666666666666,
              "#ed7953"
             ],
             [
              0.7777777777777778,
              "#fb9f3a"
             ],
             [
              0.8888888888888888,
              "#fdca26"
             ],
             [
              1,
              "#f0f921"
             ]
            ],
            "type": "surface"
           }
          ],
          "table": [
           {
            "cells": {
             "fill": {
              "color": "#EBF0F8"
             },
             "line": {
              "color": "white"
             }
            },
            "header": {
             "fill": {
              "color": "#C8D4E3"
             },
             "line": {
              "color": "white"
             }
            },
            "type": "table"
           }
          ]
         },
         "layout": {
          "annotationdefaults": {
           "arrowcolor": "#2a3f5f",
           "arrowhead": 0,
           "arrowwidth": 1
          },
          "coloraxis": {
           "colorbar": {
            "outlinewidth": 0,
            "ticks": ""
           }
          },
          "colorscale": {
           "diverging": [
            [
             0,
             "#8e0152"
            ],
            [
             0.1,
             "#c51b7d"
            ],
            [
             0.2,
             "#de77ae"
            ],
            [
             0.3,
             "#f1b6da"
            ],
            [
             0.4,
             "#fde0ef"
            ],
            [
             0.5,
             "#f7f7f7"
            ],
            [
             0.6,
             "#e6f5d0"
            ],
            [
             0.7,
             "#b8e186"
            ],
            [
             0.8,
             "#7fbc41"
            ],
            [
             0.9,
             "#4d9221"
            ],
            [
             1,
             "#276419"
            ]
           ],
           "sequential": [
            [
             0,
             "#0d0887"
            ],
            [
             0.1111111111111111,
             "#46039f"
            ],
            [
             0.2222222222222222,
             "#7201a8"
            ],
            [
             0.3333333333333333,
             "#9c179e"
            ],
            [
             0.4444444444444444,
             "#bd3786"
            ],
            [
             0.5555555555555556,
             "#d8576b"
            ],
            [
             0.6666666666666666,
             "#ed7953"
            ],
            [
             0.7777777777777778,
             "#fb9f3a"
            ],
            [
             0.8888888888888888,
             "#fdca26"
            ],
            [
             1,
             "#f0f921"
            ]
           ],
           "sequentialminus": [
            [
             0,
             "#0d0887"
            ],
            [
             0.1111111111111111,
             "#46039f"
            ],
            [
             0.2222222222222222,
             "#7201a8"
            ],
            [
             0.3333333333333333,
             "#9c179e"
            ],
            [
             0.4444444444444444,
             "#bd3786"
            ],
            [
             0.5555555555555556,
             "#d8576b"
            ],
            [
             0.6666666666666666,
             "#ed7953"
            ],
            [
             0.7777777777777778,
             "#fb9f3a"
            ],
            [
             0.8888888888888888,
             "#fdca26"
            ],
            [
             1,
             "#f0f921"
            ]
           ]
          },
          "colorway": [
           "#636efa",
           "#EF553B",
           "#00cc96",
           "#ab63fa",
           "#FFA15A",
           "#19d3f3",
           "#FF6692",
           "#B6E880",
           "#FF97FF",
           "#FECB52"
          ],
          "font": {
           "color": "#2a3f5f"
          },
          "geo": {
           "bgcolor": "white",
           "lakecolor": "white",
           "landcolor": "#E5ECF6",
           "showlakes": true,
           "showland": true,
           "subunitcolor": "white"
          },
          "hoverlabel": {
           "align": "left"
          },
          "hovermode": "closest",
          "mapbox": {
           "style": "light"
          },
          "paper_bgcolor": "white",
          "plot_bgcolor": "#E5ECF6",
          "polar": {
           "angularaxis": {
            "gridcolor": "white",
            "linecolor": "white",
            "ticks": ""
           },
           "bgcolor": "#E5ECF6",
           "radialaxis": {
            "gridcolor": "white",
            "linecolor": "white",
            "ticks": ""
           }
          },
          "scene": {
           "xaxis": {
            "backgroundcolor": "#E5ECF6",
            "gridcolor": "white",
            "gridwidth": 2,
            "linecolor": "white",
            "showbackground": true,
            "ticks": "",
            "zerolinecolor": "white"
           },
           "yaxis": {
            "backgroundcolor": "#E5ECF6",
            "gridcolor": "white",
            "gridwidth": 2,
            "linecolor": "white",
            "showbackground": true,
            "ticks": "",
            "zerolinecolor": "white"
           },
           "zaxis": {
            "backgroundcolor": "#E5ECF6",
            "gridcolor": "white",
            "gridwidth": 2,
            "linecolor": "white",
            "showbackground": true,
            "ticks": "",
            "zerolinecolor": "white"
           }
          },
          "shapedefaults": {
           "line": {
            "color": "#2a3f5f"
           }
          },
          "ternary": {
           "aaxis": {
            "gridcolor": "white",
            "linecolor": "white",
            "ticks": ""
           },
           "baxis": {
            "gridcolor": "white",
            "linecolor": "white",
            "ticks": ""
           },
           "bgcolor": "#E5ECF6",
           "caxis": {
            "gridcolor": "white",
            "linecolor": "white",
            "ticks": ""
           }
          },
          "title": {
           "x": 0.05
          },
          "xaxis": {
           "automargin": true,
           "gridcolor": "white",
           "linecolor": "white",
           "ticks": "",
           "title": {
            "standoff": 15
           },
           "zerolinecolor": "white",
           "zerolinewidth": 2
          },
          "yaxis": {
           "automargin": true,
           "gridcolor": "white",
           "linecolor": "white",
           "ticks": "",
           "title": {
            "standoff": 15
           },
           "zerolinecolor": "white",
           "zerolinewidth": 2
          }
         }
        },
        "xaxis": {
         "anchor": "y",
         "domain": [
          0,
          1
         ],
         "title": {
          "text": "x"
         }
        },
        "yaxis": {
         "anchor": "x",
         "domain": [
          0,
          1
         ],
         "title": {
          "text": "y"
         }
        }
       }
      },
      "text/html": [
       "<div>\n",
       "        \n",
       "        \n",
       "            <div id=\"8028a49e-5bce-4206-8627-a322bf02b283\" class=\"plotly-graph-div\" style=\"height:525px; width:100%;\"></div>\n",
       "            <script type=\"text/javascript\">\n",
       "                require([\"plotly\"], function(Plotly) {\n",
       "                    window.PLOTLYENV=window.PLOTLYENV || {};\n",
       "                    \n",
       "                if (document.getElementById(\"8028a49e-5bce-4206-8627-a322bf02b283\")) {\n",
       "                    Plotly.newPlot(\n",
       "                        '8028a49e-5bce-4206-8627-a322bf02b283',\n",
       "                        [{\"hovertemplate\": \"x=%{x}<br>y=%{y}<extra></extra>\", \"legendgroup\": \"\", \"marker\": {\"color\": \"#636efa\", \"symbol\": \"circle\"}, \"mode\": \"markers\", \"name\": \"\", \"orientation\": \"v\", \"showlegend\": false, \"type\": \"scatter\", \"x\": [9.066717147827148, 33.10060501098633, 6.872259616851807, 11.670804023742676, 43.96868896484375, -6.968630790710449, 26.091861724853516, 10.444039344787598, 43.10002136230469, 15.250466346740723, 33.05689239501953, 13.238344192504883, 24.697132110595703, 29.374046325683594, 0.08373033255338669, 8.09016227722168, 28.05632972717285, 9.834280014038086, 24.38496971130371, 14.917692184448242, 16.44663429260254, 46.382286071777344, 9.860869407653809, 5.9786529541015625, 36.505027770996094, 34.1083869934082, 32.175445556640625, 34.98076248168945, 28.67823600769043, 46.64537811279297, 35.883689880371094, 35.075504302978516, 24.928272247314453, 25.83684539794922, 42.475242614746094, -5.69674825668335, 23.721899032592773, 26.675947189331055, 25.088253021240234, 31.190006256103516, 33.15440368652344, 30.820199966430664, 16.22304344177246, 31.83812713623047, 19.416913986206055, 31.8037052154541, 30.091541290283203, 33.88433837890625, -5.6773223876953125, -2.6898603439331055, -4.577017784118652, 0.02856139838695526, -21.811927795410156, 4.720290660858154, -0.13655614852905273, -0.1909213811159134, 13.153940200805664, 4.162774562835693, -24.871644973754883, 26.04035186767578, 32.627830505371094, 32.703575134277344, 27.593149185180664, 14.691781997680664, 32.91474533081055, 30.327478408813477, 17.46904945373535, 31.35387420654297, -15.535888671875, 23.036945343017578, 12.267428398132324, 23.053138732910156, 29.78040313720703, 36.02293395996094, 40.68640899658203, 32.983036041259766, 39.96892547607422, 28.255508422851562, 1.098023533821106, -3.338418960571289, 2.435950756072998, 14.31252670288086, 16.29938507080078, -3.2691650390625, 30.14069175720215, 16.927932739257812, 21.42892837524414, 28.22607421875, 26.880727767944336, 26.268564224243164, 22.71489143371582, -4.998966693878174, -1.420920491218567, 6.3268327713012695, 7.523642539978027, -2.523930788040161, 26.758346557617188, -3.980132818222046, 15.424178123474121, -2.401508092880249, 0.7931088209152222, 5.492888927459717, 6.8904008865356445, 9.692547798156738, 5.587372303009033, 13.3666410446167, -3.238464117050171, 1.9982532262802124, 7.854245662689209, 21.91219139099121, 1.438088297843933, 11.465654373168945, 0.6089535355567932, 6.118320465087891, 15.5814790725708, 16.121376037597656, 9.293664932250977, 12.829150199890137, 31.083845138549805, 8.507022857666016, -2.95039701461792, 24.542917251586914, 25.634761810302734, 23.27230453491211, 5.302920818328857, 18.32850456237793, 0.2764412760734558, 9.55797290802002, 11.477943420410156, -4.764171123504639, 11.42856216430664, 0.9453034400939941, -9.43044376373291, -5.502840042114258, -13.557765007019043, -12.620250701904297, -11.814650535583496, 14.610546112060547, 12.195090293884277, -24.035812377929688, -1.473679542541504, 9.844987869262695, -29.811511993408203, -7.280833721160889, -9.471742630004883, -2.8566946983337402, -15.0736722946167, -2.7988812923431396, -5.95396614074707, -3.6668004989624023, 23.829484939575195, -60.25520324707031, -12.083660125732422, -31.671842575073242, 12.00039005279541, -6.323925971984863, -26.488361358642578, -10.742798805236816, -11.72265911102295, 36.103546142578125, -14.191306114196777, 72.25812530517578, 38.18986129760742, -13.360050201416016, -61.3162841796875, -11.466060638427734, -19.357154846191406, -30.215551376342773, -19.310997009277344, -7.27761173248291, -55.917701721191406, -59.6085090637207, -23.26140594482422, -56.4593620300293, -43.810089111328125, 4.781074523925781, -27.718551635742188, 18.36451530456543, -47.80186080932617, 4.501006126403809, -26.680614471435547, -61.36361312866211, -14.562211990356445, -13.655535697937012, -38.23369216918945, -57.228431701660156, -46.68043518066406, -13.916057586669922, -50.302371978759766, -14.71635627746582, -20.228965759277344, -53.17891311645508, -12.414834022521973, 29.2558536529541, -11.464522361755371, -59.347373962402344, -58.40836715698242, -61.5261344909668, 32.51129150390625, -11.932286262512207, -37.14892578125, -13.409655570983887, -11.245333671569824, -61.614952087402344, -14.468639373779297, -61.81285858154297, -2.222839117050171, -28.184297561645508, -33.26152038574219, -31.807157516479492, -16.790393829345703, -19.487855911254883, -23.494712829589844, -29.88864517211914, 30.959630966186523, -60.76736068725586, -52.807003021240234, -39.84361267089844, 26.316425323486328, -32.33711624145508, 27.37333106994629, -58.81084060668945, 27.801410675048828, -20.16364860534668, -46.98171615600586, -30.30169677734375, -44.28433609008789, -41.41215896606445, -10.689208030700684, -26.18085479736328, -8.41246509552002, -23.33613395690918, -7.230761528015137, 34.51272201538086, -29.469709396362305, 26.12038230895996, 25.99050521850586, -16.05016326904297, 9.644136428833008, 8.882883071899414, -20.886789321899414, 36.167911529541016, -51.47907257080078, -44.570762634277344, -38.385807037353516, -43.477359771728516, -44.49176788330078, -37.49679946899414, -14.070893287658691, 26.665416717529297, -30.749897003173828, -32.19773864746094, -29.747108459472656, -32.37287139892578, -23.03192710876465, -21.743783950805664, -45.62936019897461, -21.814802169799805, -27.3610782623291, 22.137508392333984, 73.21147918701172, -17.33861541748047, 36.644405364990234, 25.325061798095703, -5.117581844329834, 4.045534133911133, 17.447612762451172, 34.612510681152344, 19.88359260559082, -3.2475264072418213, -18.927387237548828, -20.661544799804688, -1.5204583406448364, 36.67295837402344, 14.42204761505127, 12.299422264099121, -22.766035079956055, -42.84175491333008, -11.288311958312988, -29.02760124206543, -14.613449096679688, -9.398161888122559, -31.860137939453125, -45.469417572021484, -43.42424774169922, 26.384857177734375, -37.755008697509766, -20.28018569946289, -17.643238067626953, 21.142805099487305, 21.916851043701172, 39.01179885864258, 27.260873794555664, -33.09145736694336, -21.387460708618164, 6.286989212036133, -4.238509654998779, 3.265031099319458, 26.714506149291992, 74.47211456298828, 41.68568801879883, 28.544641494750977, -32.859893798828125, 3.776276111602783, -42.01895523071289, -3.6143760681152344, -30.087493896484375, -30.08250617980957, -38.915462493896484, -10.588032722473145, -47.360782623291016, -4.843167781829834, -21.7080020904541, -55.040557861328125, 8.831409454345703, -37.34905242919922, -7.893086910247803, 9.349157333374023, -59.12656784057617, -17.834436416625977, 14.288985252380371, 73.54994201660156, -14.402748107910156, 22.557472229003906, -4.19893741607666, -4.357668876647949, -9.663381576538086, 3.329235315322876, -52.253395080566406, -18.79862403869629, -27.74018096923828, -58.128597259521484, -33.10890579223633, 8.573748588562012, -48.035919189453125, -45.187835693359375, -13.965846061706543, -51.2103157043457, -52.01268005371094, -29.57514190673828, -33.41179656982422, -51.447792053222656, -38.37495422363281, -44.952049255371094, -6.023257732391357, -26.149272918701172, -44.07073974609375, -26.694128036499023, -10.913689613342285, -60.229217529296875, -61.50126647949219, -59.036930084228516, -55.68928909301758, -29.817506790161133, -37.50996398925781, -61.5949592590332, -61.6187858581543, -42.14867401123047, 68.88198852539062, 68.5376968383789, 14.856115341186523, 38.663551330566406, -40.50090789794922, 69.267333984375, 68.4736328125, 15.956842422485352, 37.782039642333984, -41.98186111450195, 68.0290298461914, 68.5673599243164, 15.63863468170166, 38.7943229675293, -46.50360107421875, 68.77933502197266, 67.46341705322266, 10.907130241394043, 37.024837493896484, -43.236515045166016, 70.191162109375, 67.50363159179688, 16.793933868408203, 37.61909103393555, 23.451374053955078, 40.03533935546875, 41.45172119140625, 22.793655395507812, 40.89860153198242, 42.64173889160156, 23.764856338500977, 40.39240646362305, 42.76026153564453, 47.81454086303711, 41.81871795654297, -28.62173843383789, -28.73859214782715, 18.77406120300293, -28.097366333007812, -28.971927642822266, -29.469751358032227, 29.204158782958984, -26.26093864440918, 5.2176432609558105, -53.38386535644531, 19.188634872436523, -20.845470428466797, 30.174551010131836, 3.709352970123291, -40.02914810180664, 51.458770751953125, -28.853364944458008, 3.048874855041504, -0.823000431060791, 46.12889099121094, -23.64242172241211, 9.7621488571167, 44.1494026184082, 42.20735168457031, 5.897350788116455, -1.7487597465515137, 0.6670485734939575, -28.706146240234375, 16.52071762084961, 6.382551193237305, 50.64045333862305, 40.476341247558594, -28.239971160888672, 40.96358108520508, 21.428476333618164, -13.359614372253418, -21.965700149536133, 21.795597076416016, 29.572919845581055, -22.961360931396484, -12.29155445098877, 28.868301391601562, 27.930879592895508, 44.93485641479492, 52.35336685180664, -20.230987548828125, 39.5312385559082, -27.784578323364258, 49.905235290527344, -5.49938440322876, -22.611515045166016, 29.14593505859375, 14.193548202514648, -46.50992965698242, -21.875822067260742, -18.475282669067383, -0.9338136911392212, 5.811254024505615, 16.898845672607422, 1.847900390625, 5.654048919677734, 11.902758598327637, 43.34677505493164, 29.685152053833008, 0.5478028655052185, 10.864921569824219, 40.37498474121094, 49.32258224487305], \"xaxis\": \"x\", \"y\": [-38.91849136352539, -27.603803634643555, -30.059673309326172, -38.4193229675293, -16.326740264892578, -38.21770095825195, -17.860639572143555, -31.891183853149414, -16.029088973999023, -41.73385238647461, -38.08523178100586, -39.138771057128906, -36.85719299316406, -23.772382736206055, -34.7266960144043, -39.38201904296875, 5.093984127044678, -38.85785675048828, -37.123512268066406, -40.53772735595703, 60.30864715576172, -18.83770179748535, -31.357067108154297, -43.02944564819336, -33.550148010253906, -31.55194664001465, -29.234838485717773, -38.517059326171875, -24.217199325561523, -19.230695724487305, -35.292022705078125, -25.932668685913086, -38.76655197143555, -17.30595588684082, -15.614537239074707, -39.31173324584961, -42.36484146118164, -25.47671127319336, -41.0042839050293, 2.576765537261963, -25.82465171813965, -24.063295364379883, -40.51493835449219, -38.89965057373047, -42.55966567993164, 2.5292580127716064, -44.31479263305664, 20.20107078552246, -40.094478607177734, -40.983436584472656, -40.158748626708984, -35.379127502441406, -39.15283203125, -43.45585632324219, -33.5899658203125, -42.61678695678711, -41.986576080322266, -43.515769958496094, -46.31993103027344, -41.915382385253906, -38.93888854980469, -24.822057723999023, -20.075000762939453, -65.6222915649414, -22.259302139282227, -44.65591812133789, -40.09864807128906, -28.734004974365234, -23.552791595458984, -44.033748626708984, -61.54031753540039, -43.22219467163086, -29.668529510498047, -33.756961822509766, -16.459274291992188, -21.349409103393555, -16.8718204498291, 64.4956283569336, 70.86072540283203, 74.78225708007812, 70.93016815185547, 59.77084732055664, 59.78853988647461, 67.57376861572266, 63.4675407409668, 69.89422607421875, 66.55209350585938, 63.75423049926758, 67.79277801513672, 64.58891296386719, 66.31961059570312, 73.31680297851562, 67.94198608398438, 75.4273681640625, 74.80611419677734, 74.59132385253906, 68.21637725830078, 76.81446075439453, 60.843055725097656, 68.02836608886719, 71.78644561767578, 69.31527709960938, 80.92842102050781, 73.85873413085938, 82.23927307128906, 73.44273376464844, 73.37696075439453, 76.01602935791016, 69.65322875976562, 64.89527893066406, 75.41451263427734, 73.00534057617188, 74.54010009765625, 81.7544937133789, 71.55572509765625, 70.92277526855469, 68.85453033447266, 73.01304626464844, 63.10713577270508, 69.77859497070312, 71.96190643310547, 62.93559646606445, 63.42791748046875, 62.485843658447266, 83.43406677246094, 68.32184600830078, 76.50809478759766, 72.96748352050781, -57.788265228271484, -54.212772369384766, -63.00708770751953, -48.15798568725586, -59.99411392211914, -47.779090881347656, -56.131492614746094, -53.86986541748047, -57.88658142089844, -59.538169860839844, -58.89602279663086, -47.154388427734375, -30.557022094726562, -58.657230377197266, -34.49644088745117, -47.065311431884766, -60.42051315307617, -55.30397415161133, -55.838356018066406, -52.73190689086914, -47.59951400756836, -54.10017013549805, 8.409037590026855, 9.20438003540039, -8.989028930664062, 14.754382133483887, 14.083423614501953, 3.2591538429260254, 25.115997314453125, -7.852777004241943, 32.07469940185547, 37.488739013671875, 39.894412994384766, 21.28190040588379, 35.499210357666016, -12.300850868225098, -9.825940132141113, 31.033432006835938, -8.227416038513184, 12.524882316589355, -6.694970607757568, 3.0867300033569336, -18.190998077392578, 9.91840648651123, 26.835960388183594, -19.41876983642578, 10.674549102783203, -20.69994354248047, -25.358552932739258, 19.310909271240234, -19.784137725830078, 19.992372512817383, 23.200857162475586, 3.481673002243042, 21.349449157714844, -12.603153228759766, 25.12455940246582, -19.983795166015625, -24.805824279785156, -8.606928825378418, -17.734521865844727, 36.18592834472656, -11.798539161682129, -25.356840133666992, 33.31311798095703, 22.33775520324707, 37.629268646240234, -15.685301780700684, -15.12829875946045, -7.761728763580322, 24.254310607910156, 36.24960708618164, 19.4468994140625, 37.03620147705078, 35.05231857299805, 2.9428272247314453, 40.46694564819336, 0.32319337129592896, 1.9669322967529297, 15.701614379882812, 23.98048973083496, -5.224369049072266, 19.41624641418457, 9.240384101867676, 0.41067996621131897, -22.170576095581055, 23.94609832763672, 8.506854057312012, -18.377647399902344, 21.303064346313477, 18.326147079467773, 24.932815551757812, 19.539546966552734, -16.352380752563477, 19.914901733398438, -6.743009090423584, -20.21986198425293, 14.018619537353516, 3.6811134815216064, 4.944427490234375, 35.63264465332031, -23.78247833251953, 18.88574981689453, 7.575685977935791, 4.937262058258057, 24.041933059692383, 14.263955116271973, 7.588829517364502, 31.042997360229492, 15.868335723876953, 27.080219268798828, 26.26698112487793, -11.194260597229004, 36.880889892578125, -14.526593208312988, 17.064626693725586, 24.142559051513672, 19.807836532592773, 20.355300903320312, 23.67215347290039, 19.907325744628906, 30.71150016784668, -6.083133220672607, -4.577274322509766, -2.1376006603240967, -3.1835668087005615, 0.8181393146514893, 12.702555656433105, 14.552960395812988, 8.438746452331543, 16.38407325744629, 30.027254104614258, 23.42629623413086, 9.215015411376953, 31.031749725341797, 7.8875627517700195, 18.87444305419922, 17.965496063232422, 25.14345932006836, 21.82128143310547, 24.927642822265625, 21.091819763183594, 14.461173057556152, 12.162814140319824, 1.660321593284607, 33.992916107177734, 15.584717750549316, 13.665903091430664, 26.909652709960938, 1.9709174633026123, 18.969038009643555, -1.6573585271835327, 15.80528736114502, 16.743112564086914, -7.124396800994873, 2.539410352706909, 19.117525100708008, 28.434633255004883, 12.375452041625977, 8.80949878692627, 16.519853591918945, 29.835708618164062, 25.88026237487793, 35.795013427734375, -23.099740982055664, -24.126667022705078, -9.09271240234375, 18.89778709411621, 16.059890747070312, 17.507871627807617, 32.65275573730469, 24.963781356811523, 20.1217098236084, 30.927919387817383, -24.566951751708984, 21.133638381958008, -0.64495450258255, 2.064765453338623, -23.29410743713379, -23.957128524780273, 21.99340057373047, 19.110462188720703, 14.35629940032959, 17.30228614807129, -8.575177192687988, -22.88643455505371, 25.6331787109375, 4.636852741241455, 4.244692802429199, 19.78496551513672, -17.24180793762207, 16.14592170715332, 18.692649841308594, 23.96884536743164, 2.796417713165283, 31.637584686279297, 20.237337112426758, 2.6225509643554688, 18.258346557617188, 21.851078033447266, -24.94142723083496, -10.421063423156738, -26.03929328918457, -2.837630271911621, 22.879667282104492, 23.442476272583008, 4.03222131729126, 1.3935825824737549, 3.449779987335205, -17.694002151489258, -14.584334373474121, -31.51838493347168, -2.4880423545837402, -12.362350463867188, 4.367971897125244, 14.007845878601074, 19.051239013671875, 25.747013092041016, 11.839279174804688, 22.767854690551758, -7.606939792633057, -2.0266501903533936, -8.384692192077637, -2.652855157852173, -15.724321365356445, 11.461526870727539, 12.803227424621582, 7.728053569793701, -0.2843574285507202, 3.991140604019165, 23.128992080688477, 30.368989944458008, 17.143827438354492, 25.12480926513672, 3.675624370574951, 22.119962692260742, 28.06700897216797, 18.244050979614258, 23.523303985595703, 2.3003060817718506, 22.089370727539062, 29.212799072265625, 17.00333023071289, 22.76006507873535, 4.661991119384766, 21.291845321655273, 29.84894371032715, 18.88468360900879, 23.68294334411621, 9.399271011352539, 21.644817352294922, 28.834510803222656, 17.91135025024414, 24.7115478515625, 27.987260818481445, 37.3248291015625, 21.264244079589844, 26.541126251220703, 37.20957565307617, 21.382593154907227, 27.437273025512695, 36.332210540771484, 20.541189193725586, 3.654998540878296, 1.847009539604187, -49.89000701904297, -49.326045989990234, -55.19108963012695, -44.23440170288086, -41.5279426574707, -48.070369720458984, -3.4972877502441406, -35.380348205566406, -21.874540328979492, -26.05107879638672, -55.3242073059082, -47.07578659057617, -27.27090835571289, -28.268455505371094, 1.2268506288528442, 4.142717361450195, -34.54996871948242, -28.848453521728516, -30.384397506713867, 3.0862767696380615, -36.40690231323242, -62.542015075683594, 0.25118720531463623, 1.4412672519683838, -25.83452606201172, -52.107120513916016, -48.77730941772461, -43.27593231201172, -58.730709075927734, -23.97597312927246, 3.837211847305298, 0.8320984840393066, -36.92959976196289, -2.720259189605713, -59.53366470336914, -55.45140075683594, -39.814414978027344, -59.572410583496094, -1.2668211460113525, -47.95905685424805, -57.321807861328125, -2.1894640922546387, -2.002901792526245, 2.9722466468811035, 3.87216854095459, -46.90371322631836, -2.8772315979003906, -35.403743743896484, 5.772110462188721, 0.952946662902832, -49.466243743896484, -5.230395317077637, -64.96781921386719, -25.2016544342041, -41.148746490478516, -47.043060302734375, -51.51331329345703, -26.577564239501953, -58.436431884765625, -29.78077507019043, -23.051118850708008, -62.27882766723633, 3.0162148475646973, 2.992076873779297, -43.184024810791016, -61.21340560913086, -2.5487236976623535, 4.4878458976745605], \"yaxis\": \"y\"}],\n",
       "                        {\"legend\": {\"tracegroupgap\": 0}, \"margin\": {\"t\": 60}, \"template\": {\"data\": {\"bar\": [{\"error_x\": {\"color\": \"#2a3f5f\"}, \"error_y\": {\"color\": \"#2a3f5f\"}, \"marker\": {\"line\": {\"color\": \"#E5ECF6\", \"width\": 0.5}}, \"type\": \"bar\"}], \"barpolar\": [{\"marker\": {\"line\": {\"color\": \"#E5ECF6\", \"width\": 0.5}}, \"type\": \"barpolar\"}], \"carpet\": [{\"aaxis\": {\"endlinecolor\": \"#2a3f5f\", \"gridcolor\": \"white\", \"linecolor\": \"white\", \"minorgridcolor\": \"white\", \"startlinecolor\": \"#2a3f5f\"}, \"baxis\": {\"endlinecolor\": \"#2a3f5f\", \"gridcolor\": \"white\", \"linecolor\": \"white\", \"minorgridcolor\": \"white\", \"startlinecolor\": \"#2a3f5f\"}, \"type\": \"carpet\"}], \"choropleth\": [{\"colorbar\": {\"outlinewidth\": 0, \"ticks\": \"\"}, \"type\": \"choropleth\"}], \"contour\": [{\"colorbar\": {\"outlinewidth\": 0, \"ticks\": \"\"}, \"colorscale\": [[0.0, \"#0d0887\"], [0.1111111111111111, \"#46039f\"], [0.2222222222222222, \"#7201a8\"], [0.3333333333333333, \"#9c179e\"], [0.4444444444444444, \"#bd3786\"], [0.5555555555555556, \"#d8576b\"], [0.6666666666666666, \"#ed7953\"], [0.7777777777777778, \"#fb9f3a\"], [0.8888888888888888, \"#fdca26\"], [1.0, \"#f0f921\"]], \"type\": \"contour\"}], \"contourcarpet\": [{\"colorbar\": {\"outlinewidth\": 0, \"ticks\": \"\"}, \"type\": \"contourcarpet\"}], \"heatmap\": [{\"colorbar\": {\"outlinewidth\": 0, \"ticks\": \"\"}, \"colorscale\": [[0.0, \"#0d0887\"], [0.1111111111111111, \"#46039f\"], [0.2222222222222222, \"#7201a8\"], [0.3333333333333333, \"#9c179e\"], [0.4444444444444444, \"#bd3786\"], [0.5555555555555556, \"#d8576b\"], [0.6666666666666666, \"#ed7953\"], [0.7777777777777778, \"#fb9f3a\"], [0.8888888888888888, \"#fdca26\"], [1.0, \"#f0f921\"]], \"type\": \"heatmap\"}], \"heatmapgl\": [{\"colorbar\": {\"outlinewidth\": 0, \"ticks\": \"\"}, \"colorscale\": [[0.0, \"#0d0887\"], [0.1111111111111111, \"#46039f\"], [0.2222222222222222, \"#7201a8\"], [0.3333333333333333, \"#9c179e\"], [0.4444444444444444, \"#bd3786\"], [0.5555555555555556, \"#d8576b\"], [0.6666666666666666, \"#ed7953\"], [0.7777777777777778, \"#fb9f3a\"], [0.8888888888888888, \"#fdca26\"], [1.0, \"#f0f921\"]], \"type\": \"heatmapgl\"}], \"histogram\": [{\"marker\": {\"colorbar\": {\"outlinewidth\": 0, \"ticks\": \"\"}}, \"type\": \"histogram\"}], \"histogram2d\": [{\"colorbar\": {\"outlinewidth\": 0, \"ticks\": \"\"}, \"colorscale\": [[0.0, \"#0d0887\"], [0.1111111111111111, \"#46039f\"], [0.2222222222222222, \"#7201a8\"], [0.3333333333333333, \"#9c179e\"], [0.4444444444444444, \"#bd3786\"], [0.5555555555555556, \"#d8576b\"], [0.6666666666666666, \"#ed7953\"], [0.7777777777777778, \"#fb9f3a\"], [0.8888888888888888, \"#fdca26\"], [1.0, \"#f0f921\"]], \"type\": \"histogram2d\"}], \"histogram2dcontour\": [{\"colorbar\": {\"outlinewidth\": 0, \"ticks\": \"\"}, \"colorscale\": [[0.0, \"#0d0887\"], [0.1111111111111111, \"#46039f\"], [0.2222222222222222, \"#7201a8\"], [0.3333333333333333, \"#9c179e\"], [0.4444444444444444, \"#bd3786\"], [0.5555555555555556, \"#d8576b\"], [0.6666666666666666, \"#ed7953\"], [0.7777777777777778, \"#fb9f3a\"], [0.8888888888888888, \"#fdca26\"], [1.0, \"#f0f921\"]], \"type\": \"histogram2dcontour\"}], \"mesh3d\": [{\"colorbar\": {\"outlinewidth\": 0, \"ticks\": \"\"}, \"type\": \"mesh3d\"}], \"parcoords\": [{\"line\": {\"colorbar\": {\"outlinewidth\": 0, \"ticks\": \"\"}}, \"type\": \"parcoords\"}], \"pie\": [{\"automargin\": true, \"type\": \"pie\"}], \"scatter\": [{\"marker\": {\"colorbar\": {\"outlinewidth\": 0, \"ticks\": \"\"}}, \"type\": \"scatter\"}], \"scatter3d\": [{\"line\": {\"colorbar\": {\"outlinewidth\": 0, \"ticks\": \"\"}}, \"marker\": {\"colorbar\": {\"outlinewidth\": 0, \"ticks\": \"\"}}, \"type\": \"scatter3d\"}], \"scattercarpet\": [{\"marker\": {\"colorbar\": {\"outlinewidth\": 0, \"ticks\": \"\"}}, \"type\": \"scattercarpet\"}], \"scattergeo\": [{\"marker\": {\"colorbar\": {\"outlinewidth\": 0, \"ticks\": \"\"}}, \"type\": \"scattergeo\"}], \"scattergl\": [{\"marker\": {\"colorbar\": {\"outlinewidth\": 0, \"ticks\": \"\"}}, \"type\": \"scattergl\"}], \"scattermapbox\": [{\"marker\": {\"colorbar\": {\"outlinewidth\": 0, \"ticks\": \"\"}}, \"type\": \"scattermapbox\"}], \"scatterpolar\": [{\"marker\": {\"colorbar\": {\"outlinewidth\": 0, \"ticks\": \"\"}}, \"type\": \"scatterpolar\"}], \"scatterpolargl\": [{\"marker\": {\"colorbar\": {\"outlinewidth\": 0, \"ticks\": \"\"}}, \"type\": \"scatterpolargl\"}], \"scatterternary\": [{\"marker\": {\"colorbar\": {\"outlinewidth\": 0, \"ticks\": \"\"}}, \"type\": \"scatterternary\"}], \"surface\": [{\"colorbar\": {\"outlinewidth\": 0, \"ticks\": \"\"}, \"colorscale\": [[0.0, \"#0d0887\"], [0.1111111111111111, \"#46039f\"], [0.2222222222222222, \"#7201a8\"], [0.3333333333333333, \"#9c179e\"], [0.4444444444444444, \"#bd3786\"], [0.5555555555555556, \"#d8576b\"], [0.6666666666666666, \"#ed7953\"], [0.7777777777777778, \"#fb9f3a\"], [0.8888888888888888, \"#fdca26\"], [1.0, \"#f0f921\"]], \"type\": \"surface\"}], \"table\": [{\"cells\": {\"fill\": {\"color\": \"#EBF0F8\"}, \"line\": {\"color\": \"white\"}}, \"header\": {\"fill\": {\"color\": \"#C8D4E3\"}, \"line\": {\"color\": \"white\"}}, \"type\": \"table\"}]}, \"layout\": {\"annotationdefaults\": {\"arrowcolor\": \"#2a3f5f\", \"arrowhead\": 0, \"arrowwidth\": 1}, \"coloraxis\": {\"colorbar\": {\"outlinewidth\": 0, \"ticks\": \"\"}}, \"colorscale\": {\"diverging\": [[0, \"#8e0152\"], [0.1, \"#c51b7d\"], [0.2, \"#de77ae\"], [0.3, \"#f1b6da\"], [0.4, \"#fde0ef\"], [0.5, \"#f7f7f7\"], [0.6, \"#e6f5d0\"], [0.7, \"#b8e186\"], [0.8, \"#7fbc41\"], [0.9, \"#4d9221\"], [1, \"#276419\"]], \"sequential\": [[0.0, \"#0d0887\"], [0.1111111111111111, \"#46039f\"], [0.2222222222222222, \"#7201a8\"], [0.3333333333333333, \"#9c179e\"], [0.4444444444444444, \"#bd3786\"], [0.5555555555555556, \"#d8576b\"], [0.6666666666666666, \"#ed7953\"], [0.7777777777777778, \"#fb9f3a\"], [0.8888888888888888, \"#fdca26\"], [1.0, \"#f0f921\"]], \"sequentialminus\": [[0.0, \"#0d0887\"], [0.1111111111111111, \"#46039f\"], [0.2222222222222222, \"#7201a8\"], [0.3333333333333333, \"#9c179e\"], [0.4444444444444444, \"#bd3786\"], [0.5555555555555556, \"#d8576b\"], [0.6666666666666666, \"#ed7953\"], [0.7777777777777778, \"#fb9f3a\"], [0.8888888888888888, \"#fdca26\"], [1.0, \"#f0f921\"]]}, \"colorway\": [\"#636efa\", \"#EF553B\", \"#00cc96\", \"#ab63fa\", \"#FFA15A\", \"#19d3f3\", \"#FF6692\", \"#B6E880\", \"#FF97FF\", \"#FECB52\"], \"font\": {\"color\": \"#2a3f5f\"}, \"geo\": {\"bgcolor\": \"white\", \"lakecolor\": \"white\", \"landcolor\": \"#E5ECF6\", \"showlakes\": true, \"showland\": true, \"subunitcolor\": \"white\"}, \"hoverlabel\": {\"align\": \"left\"}, \"hovermode\": \"closest\", \"mapbox\": {\"style\": \"light\"}, \"paper_bgcolor\": \"white\", \"plot_bgcolor\": \"#E5ECF6\", \"polar\": {\"angularaxis\": {\"gridcolor\": \"white\", \"linecolor\": \"white\", \"ticks\": \"\"}, \"bgcolor\": \"#E5ECF6\", \"radialaxis\": {\"gridcolor\": \"white\", \"linecolor\": \"white\", \"ticks\": \"\"}}, \"scene\": {\"xaxis\": {\"backgroundcolor\": \"#E5ECF6\", \"gridcolor\": \"white\", \"gridwidth\": 2, \"linecolor\": \"white\", \"showbackground\": true, \"ticks\": \"\", \"zerolinecolor\": \"white\"}, \"yaxis\": {\"backgroundcolor\": \"#E5ECF6\", \"gridcolor\": \"white\", \"gridwidth\": 2, \"linecolor\": \"white\", \"showbackground\": true, \"ticks\": \"\", \"zerolinecolor\": \"white\"}, \"zaxis\": {\"backgroundcolor\": \"#E5ECF6\", \"gridcolor\": \"white\", \"gridwidth\": 2, \"linecolor\": \"white\", \"showbackground\": true, \"ticks\": \"\", \"zerolinecolor\": \"white\"}}, \"shapedefaults\": {\"line\": {\"color\": \"#2a3f5f\"}}, \"ternary\": {\"aaxis\": {\"gridcolor\": \"white\", \"linecolor\": \"white\", \"ticks\": \"\"}, \"baxis\": {\"gridcolor\": \"white\", \"linecolor\": \"white\", \"ticks\": \"\"}, \"bgcolor\": \"#E5ECF6\", \"caxis\": {\"gridcolor\": \"white\", \"linecolor\": \"white\", \"ticks\": \"\"}}, \"title\": {\"x\": 0.05}, \"xaxis\": {\"automargin\": true, \"gridcolor\": \"white\", \"linecolor\": \"white\", \"ticks\": \"\", \"title\": {\"standoff\": 15}, \"zerolinecolor\": \"white\", \"zerolinewidth\": 2}, \"yaxis\": {\"automargin\": true, \"gridcolor\": \"white\", \"linecolor\": \"white\", \"ticks\": \"\", \"title\": {\"standoff\": 15}, \"zerolinecolor\": \"white\", \"zerolinewidth\": 2}}}, \"xaxis\": {\"anchor\": \"y\", \"domain\": [0.0, 1.0], \"title\": {\"text\": \"x\"}}, \"yaxis\": {\"anchor\": \"x\", \"domain\": [0.0, 1.0], \"title\": {\"text\": \"y\"}}},\n",
       "                        {\"responsive\": true}\n",
       "                    ).then(function(){\n",
       "                            \n",
       "var gd = document.getElementById('8028a49e-5bce-4206-8627-a322bf02b283');\n",
       "var x = new MutationObserver(function (mutations, observer) {{\n",
       "        var display = window.getComputedStyle(gd).display;\n",
       "        if (!display || display === 'none') {{\n",
       "            console.log([gd, 'removed!']);\n",
       "            Plotly.purge(gd);\n",
       "            observer.disconnect();\n",
       "        }}\n",
       "}});\n",
       "\n",
       "// Listen for the removal of the full notebook cells\n",
       "var notebookContainer = gd.closest('#notebook-container');\n",
       "if (notebookContainer) {{\n",
       "    x.observe(notebookContainer, {childList: true});\n",
       "}}\n",
       "\n",
       "// Listen for the clearing of the current output cell\n",
       "var outputEl = gd.closest('.output');\n",
       "if (outputEl) {{\n",
       "    x.observe(outputEl, {childList: true});\n",
       "}}\n",
       "\n",
       "                        })\n",
       "                };\n",
       "                });\n",
       "            </script>\n",
       "        </div>"
      ]
     },
     "metadata": {},
     "output_type": "display_data"
    }
   ],
   "source": [
    "fig2"
   ]
  },
  {
   "cell_type": "code",
   "execution_count": 99,
   "metadata": {},
   "outputs": [],
   "source": [
    "name_lookup = [(x[0].strip('\"').split(\"_\")[0], languages.get(x[0].strip('\"').split(\"_\")[0])) for x in matched_clean[1:]]"
   ]
  },
  {
   "cell_type": "code",
   "execution_count": 144,
   "metadata": {},
   "outputs": [],
   "source": [
    "lineList = []\n",
    "with open('model_data/data/all_labels.csv') as f:\n",
    "    for line in f:\n",
    "        lineList.append(line.strip().split(\"|\"))"
   ]
  },
  {
   "cell_type": "code",
   "execution_count": 250,
   "metadata": {},
   "outputs": [],
   "source": [
    "labels = pd.DataFrame(\n",
    "    lineList[1:], \n",
    "    columns=['Package', 'Language', 'Section_ID' ,'Section', 'SectionLink', 'Page_Name']\n",
    ").iloc[matched_clean_idxs].reset_index()"
   ]
  },
  {
   "cell_type": "code",
   "execution_count": 248,
   "metadata": {},
   "outputs": [],
   "source": [
    "base_links = {\n",
    "    'scipy': \"https://docs.scipy.org/doc/scipy/reference/tutorial/\",\n",
    "    'caret': \"https://topepo.github.io/caret/\",\n",
    "    'numpy': 'https://numpy.org/doc/stable/user/quickstart.html',\n",
    "    'sklearn': \"https://scikit-learn.org/stable/\"\n",
    "}"
   ]
  },
  {
   "cell_type": "code",
   "execution_count": 373,
   "metadata": {},
   "outputs": [],
   "source": [
    "labels['PageName'] = labels.apply(\n",
    "    lambda x: \"{} - {}, {}\".format(\n",
    "        x.Package,\n",
    "        \" \".join(x.SectionLink.replace(\".html\", \"\").split('-')).title(),\n",
    "        x.Page_Name\n",
    "    ),\n",
    "    axis=1\n",
    ")"
   ]
  },
  {
   "cell_type": "code",
   "execution_count": 374,
   "metadata": {},
   "outputs": [
    {
     "data": {
      "text/html": [
       "<div>\n",
       "<style scoped>\n",
       "    .dataframe tbody tr th:only-of-type {\n",
       "        vertical-align: middle;\n",
       "    }\n",
       "\n",
       "    .dataframe tbody tr th {\n",
       "        vertical-align: top;\n",
       "    }\n",
       "\n",
       "    .dataframe thead th {\n",
       "        text-align: right;\n",
       "    }\n",
       "</style>\n",
       "<table border=\"1\" class=\"dataframe\">\n",
       "  <thead>\n",
       "    <tr style=\"text-align: right;\">\n",
       "      <th></th>\n",
       "      <th>index</th>\n",
       "      <th>Package</th>\n",
       "      <th>Language</th>\n",
       "      <th>Section_ID</th>\n",
       "      <th>Section</th>\n",
       "      <th>SectionLink</th>\n",
       "      <th>Page_Name</th>\n",
       "      <th>Link</th>\n",
       "      <th>PageName</th>\n",
       "    </tr>\n",
       "  </thead>\n",
       "  <tbody>\n",
       "    <tr>\n",
       "      <th>150</th>\n",
       "      <td>163</td>\n",
       "      <td>sklearn</td>\n",
       "      <td>Python</td>\n",
       "      <td>sklearn_1_10_decision_trees</td>\n",
       "      <td>1.10. Decision Trees</td>\n",
       "      <td>modules/tree.html</td>\n",
       "      <td>1.10.1. Classification  DecisionTreeClassifier</td>\n",
       "      <td>https://scikit-learn.org/stable/modules/tree.html</td>\n",
       "      <td>sklearn - Modules/Tree, 1.10.1. Classification...</td>\n",
       "    </tr>\n",
       "    <tr>\n",
       "      <th>151</th>\n",
       "      <td>164</td>\n",
       "      <td>sklearn</td>\n",
       "      <td>Python</td>\n",
       "      <td>sklearn_1_10_decision_trees</td>\n",
       "      <td>1.10. Decision Trees</td>\n",
       "      <td>modules/tree.html</td>\n",
       "      <td>1.10.2. Regression  Decision</td>\n",
       "      <td>https://scikit-learn.org/stable/modules/tree.html</td>\n",
       "      <td>sklearn - Modules/Tree, 1.10.2. Regression  De...</td>\n",
       "    </tr>\n",
       "    <tr>\n",
       "      <th>152</th>\n",
       "      <td>165</td>\n",
       "      <td>sklearn</td>\n",
       "      <td>Python</td>\n",
       "      <td>sklearn_1_10_decision_trees</td>\n",
       "      <td>1.10. Decision Trees</td>\n",
       "      <td>modules/tree.html</td>\n",
       "      <td>1.10.3. Multi-output</td>\n",
       "      <td>https://scikit-learn.org/stable/modules/tree.html</td>\n",
       "      <td>sklearn - Modules/Tree, 1.10.3. Multi-output</td>\n",
       "    </tr>\n",
       "    <tr>\n",
       "      <th>153</th>\n",
       "      <td>166</td>\n",
       "      <td>sklearn</td>\n",
       "      <td>Python</td>\n",
       "      <td>sklearn_1_10_decision_trees</td>\n",
       "      <td>1.10. Decision Trees</td>\n",
       "      <td>modules/tree.html</td>\n",
       "      <td>1.10.4. Complexity  In</td>\n",
       "      <td>https://scikit-learn.org/stable/modules/tree.html</td>\n",
       "      <td>sklearn - Modules/Tree, 1.10.4. Complexity  In</td>\n",
       "    </tr>\n",
       "    <tr>\n",
       "      <th>154</th>\n",
       "      <td>167</td>\n",
       "      <td>sklearn</td>\n",
       "      <td>Python</td>\n",
       "      <td>sklearn_1_10_decision_trees</td>\n",
       "      <td>1.10. Decision Trees</td>\n",
       "      <td>modules/tree.html</td>\n",
       "      <td>1.10.5. Tips</td>\n",
       "      <td>https://scikit-learn.org/stable/modules/tree.html</td>\n",
       "      <td>sklearn - Modules/Tree, 1.10.5. Tips</td>\n",
       "    </tr>\n",
       "    <tr>\n",
       "      <th>...</th>\n",
       "      <td>...</td>\n",
       "      <td>...</td>\n",
       "      <td>...</td>\n",
       "      <td>...</td>\n",
       "      <td>...</td>\n",
       "      <td>...</td>\n",
       "      <td>...</td>\n",
       "      <td>...</td>\n",
       "      <td>...</td>\n",
       "    </tr>\n",
       "    <tr>\n",
       "      <th>386</th>\n",
       "      <td>400</td>\n",
       "      <td>sklearn</td>\n",
       "      <td>Python</td>\n",
       "      <td>sklearn_8_2_computational_performance</td>\n",
       "      <td>8.2. Computational Performance</td>\n",
       "      <td>modules/computing.html#computational-performance</td>\n",
       "      <td>8.2. Computational Performance</td>\n",
       "      <td>https://scikit-learn.org/stable/modules/comput...</td>\n",
       "      <td>sklearn - Modules/Computing#Computational Perf...</td>\n",
       "    </tr>\n",
       "    <tr>\n",
       "      <th>387</th>\n",
       "      <td>401</td>\n",
       "      <td>sklearn</td>\n",
       "      <td>Python</td>\n",
       "      <td>sklearn_8_2_computational_performance</td>\n",
       "      <td>8.2. Computational Performance</td>\n",
       "      <td>modules/computing.html#computational-performance</td>\n",
       "      <td>8.3. Parallelism</td>\n",
       "      <td>https://scikit-learn.org/stable/modules/comput...</td>\n",
       "      <td>sklearn - Modules/Computing#Computational Perf...</td>\n",
       "    </tr>\n",
       "    <tr>\n",
       "      <th>388</th>\n",
       "      <td>402</td>\n",
       "      <td>sklearn</td>\n",
       "      <td>Python</td>\n",
       "      <td>sklearn_8_3_parallelism_resource_management_an...</td>\n",
       "      <td>8.3. Parallelism, resource management, and con...</td>\n",
       "      <td>modules/computing.html#parallelism-resource-ma...</td>\n",
       "      <td>8.1. Strategies</td>\n",
       "      <td>https://scikit-learn.org/stable/modules/comput...</td>\n",
       "      <td>sklearn - Modules/Computing#Parallelism Resour...</td>\n",
       "    </tr>\n",
       "    <tr>\n",
       "      <th>389</th>\n",
       "      <td>403</td>\n",
       "      <td>sklearn</td>\n",
       "      <td>Python</td>\n",
       "      <td>sklearn_8_3_parallelism_resource_management_an...</td>\n",
       "      <td>8.3. Parallelism, resource management, and con...</td>\n",
       "      <td>modules/computing.html#parallelism-resource-ma...</td>\n",
       "      <td>8.2. Computational Performance</td>\n",
       "      <td>https://scikit-learn.org/stable/modules/comput...</td>\n",
       "      <td>sklearn - Modules/Computing#Parallelism Resour...</td>\n",
       "    </tr>\n",
       "    <tr>\n",
       "      <th>390</th>\n",
       "      <td>404</td>\n",
       "      <td>sklearn</td>\n",
       "      <td>Python</td>\n",
       "      <td>sklearn_8_3_parallelism_resource_management_an...</td>\n",
       "      <td>8.3. Parallelism, resource management, and con...</td>\n",
       "      <td>modules/computing.html#parallelism-resource-ma...</td>\n",
       "      <td>8.3. Parallelism</td>\n",
       "      <td>https://scikit-learn.org/stable/modules/comput...</td>\n",
       "      <td>sklearn - Modules/Computing#Parallelism Resour...</td>\n",
       "    </tr>\n",
       "  </tbody>\n",
       "</table>\n",
       "<p>241 rows × 9 columns</p>\n",
       "</div>"
      ],
      "text/plain": [
       "     index  Package Language  \\\n",
       "150    163  sklearn   Python   \n",
       "151    164  sklearn   Python   \n",
       "152    165  sklearn   Python   \n",
       "153    166  sklearn   Python   \n",
       "154    167  sklearn   Python   \n",
       "..     ...      ...      ...   \n",
       "386    400  sklearn   Python   \n",
       "387    401  sklearn   Python   \n",
       "388    402  sklearn   Python   \n",
       "389    403  sklearn   Python   \n",
       "390    404  sklearn   Python   \n",
       "\n",
       "                                            Section_ID  \\\n",
       "150                        sklearn_1_10_decision_trees   \n",
       "151                        sklearn_1_10_decision_trees   \n",
       "152                        sklearn_1_10_decision_trees   \n",
       "153                        sklearn_1_10_decision_trees   \n",
       "154                        sklearn_1_10_decision_trees   \n",
       "..                                                 ...   \n",
       "386              sklearn_8_2_computational_performance   \n",
       "387              sklearn_8_2_computational_performance   \n",
       "388  sklearn_8_3_parallelism_resource_management_an...   \n",
       "389  sklearn_8_3_parallelism_resource_management_an...   \n",
       "390  sklearn_8_3_parallelism_resource_management_an...   \n",
       "\n",
       "                                               Section  \\\n",
       "150                               1.10. Decision Trees   \n",
       "151                               1.10. Decision Trees   \n",
       "152                               1.10. Decision Trees   \n",
       "153                               1.10. Decision Trees   \n",
       "154                               1.10. Decision Trees   \n",
       "..                                                 ...   \n",
       "386                     8.2. Computational Performance   \n",
       "387                     8.2. Computational Performance   \n",
       "388  8.3. Parallelism, resource management, and con...   \n",
       "389  8.3. Parallelism, resource management, and con...   \n",
       "390  8.3. Parallelism, resource management, and con...   \n",
       "\n",
       "                                           SectionLink  \\\n",
       "150                                  modules/tree.html   \n",
       "151                                  modules/tree.html   \n",
       "152                                  modules/tree.html   \n",
       "153                                  modules/tree.html   \n",
       "154                                  modules/tree.html   \n",
       "..                                                 ...   \n",
       "386   modules/computing.html#computational-performance   \n",
       "387   modules/computing.html#computational-performance   \n",
       "388  modules/computing.html#parallelism-resource-ma...   \n",
       "389  modules/computing.html#parallelism-resource-ma...   \n",
       "390  modules/computing.html#parallelism-resource-ma...   \n",
       "\n",
       "                                          Page_Name  \\\n",
       "150  1.10.1. Classification  DecisionTreeClassifier   \n",
       "151                    1.10.2. Regression  Decision   \n",
       "152                            1.10.3. Multi-output   \n",
       "153                          1.10.4. Complexity  In   \n",
       "154                                    1.10.5. Tips   \n",
       "..                                              ...   \n",
       "386                  8.2. Computational Performance   \n",
       "387                                8.3. Parallelism   \n",
       "388                                 8.1. Strategies   \n",
       "389                  8.2. Computational Performance   \n",
       "390                                8.3. Parallelism   \n",
       "\n",
       "                                                  Link  \\\n",
       "150  https://scikit-learn.org/stable/modules/tree.html   \n",
       "151  https://scikit-learn.org/stable/modules/tree.html   \n",
       "152  https://scikit-learn.org/stable/modules/tree.html   \n",
       "153  https://scikit-learn.org/stable/modules/tree.html   \n",
       "154  https://scikit-learn.org/stable/modules/tree.html   \n",
       "..                                                 ...   \n",
       "386  https://scikit-learn.org/stable/modules/comput...   \n",
       "387  https://scikit-learn.org/stable/modules/comput...   \n",
       "388  https://scikit-learn.org/stable/modules/comput...   \n",
       "389  https://scikit-learn.org/stable/modules/comput...   \n",
       "390  https://scikit-learn.org/stable/modules/comput...   \n",
       "\n",
       "                                              PageName  \n",
       "150  sklearn - Modules/Tree, 1.10.1. Classification...  \n",
       "151  sklearn - Modules/Tree, 1.10.2. Regression  De...  \n",
       "152       sklearn - Modules/Tree, 1.10.3. Multi-output  \n",
       "153     sklearn - Modules/Tree, 1.10.4. Complexity  In  \n",
       "154               sklearn - Modules/Tree, 1.10.5. Tips  \n",
       "..                                                 ...  \n",
       "386  sklearn - Modules/Computing#Computational Perf...  \n",
       "387  sklearn - Modules/Computing#Computational Perf...  \n",
       "388  sklearn - Modules/Computing#Parallelism Resour...  \n",
       "389  sklearn - Modules/Computing#Parallelism Resour...  \n",
       "390  sklearn - Modules/Computing#Parallelism Resour...  \n",
       "\n",
       "[241 rows x 9 columns]"
      ]
     },
     "execution_count": 374,
     "metadata": {},
     "output_type": "execute_result"
    }
   ],
   "source": [
    "labels.loc[labels.Package == 'sklearn']"
   ]
  },
  {
   "cell_type": "code",
   "execution_count": 375,
   "metadata": {},
   "outputs": [],
   "source": [
    "labels['Link'] = labels.apply(lambda x: base_links.get(x.Package) + x.SectionLink,axis=1)"
   ]
  },
  {
   "cell_type": "code",
   "execution_count": 376,
   "metadata": {},
   "outputs": [],
   "source": [
    "ranking_df = pd.DataFrame(rankings).T\n",
    "ranking_df.columns = ['Rec_Probs', 'Rec_Index']"
   ]
  },
  {
   "cell_type": "code",
   "execution_count": 377,
   "metadata": {},
   "outputs": [],
   "source": [
    "combined = labels.join(ranking_df).drop(columns=\"index\")\n"
   ]
  },
  {
   "cell_type": "code",
   "execution_count": 378,
   "metadata": {},
   "outputs": [
    {
     "data": {
      "text/html": [
       "<div>\n",
       "<style scoped>\n",
       "    .dataframe tbody tr th:only-of-type {\n",
       "        vertical-align: middle;\n",
       "    }\n",
       "\n",
       "    .dataframe tbody tr th {\n",
       "        vertical-align: top;\n",
       "    }\n",
       "\n",
       "    .dataframe thead th {\n",
       "        text-align: right;\n",
       "    }\n",
       "</style>\n",
       "<table border=\"1\" class=\"dataframe\">\n",
       "  <thead>\n",
       "    <tr style=\"text-align: right;\">\n",
       "      <th></th>\n",
       "      <th>Package</th>\n",
       "      <th>Language</th>\n",
       "      <th>Section_ID</th>\n",
       "      <th>Section</th>\n",
       "      <th>SectionLink</th>\n",
       "      <th>Page_Name</th>\n",
       "      <th>Link</th>\n",
       "      <th>PageName</th>\n",
       "      <th>Rec_Probs</th>\n",
       "      <th>Rec_Index</th>\n",
       "    </tr>\n",
       "  </thead>\n",
       "  <tbody>\n",
       "    <tr>\n",
       "      <th>0</th>\n",
       "      <td>caret</td>\n",
       "      <td>R</td>\n",
       "      <td>caret_11_subsampling_for_class_imbalances</td>\n",
       "      <td>11 Subsampling For Class Imbalances</td>\n",
       "      <td>subsampling-for-class-imbalances.html</td>\n",
       "      <td>11.1 Subsampling Techniques To</td>\n",
       "      <td>https://topepo.github.io/caret/subsampling-for...</td>\n",
       "      <td>caret - Subsampling For Class Imbalances, 11.1...</td>\n",
       "      <td>[0.6759168026284725, 0.6503327111025291, 0.638...</td>\n",
       "      <td>[244, 4, 163, 375, 56]</td>\n",
       "    </tr>\n",
       "    <tr>\n",
       "      <th>1</th>\n",
       "      <td>caret</td>\n",
       "      <td>R</td>\n",
       "      <td>caret_11_subsampling_for_class_imbalances</td>\n",
       "      <td>11 Subsampling For Class Imbalances</td>\n",
       "      <td>subsampling-for-class-imbalances.html</td>\n",
       "      <td>11.3 Complications The</td>\n",
       "      <td>https://topepo.github.io/caret/subsampling-for...</td>\n",
       "      <td>caret - Subsampling For Class Imbalances, 11.3...</td>\n",
       "      <td>[0.6155791831060012, 0.6137299220946123, 0.607...</td>\n",
       "      <td>[292, 67, 233, 8, 391]</td>\n",
       "    </tr>\n",
       "    <tr>\n",
       "      <th>2</th>\n",
       "      <td>caret</td>\n",
       "      <td>R</td>\n",
       "      <td>caret_11_subsampling_for_class_imbalances</td>\n",
       "      <td>11 Subsampling For Class Imbalances</td>\n",
       "      <td>subsampling-for-class-imbalances.html</td>\n",
       "      <td>11.4 Using Custom Subsampling</td>\n",
       "      <td>https://topepo.github.io/caret/subsampling-for...</td>\n",
       "      <td>caret - Subsampling For Class Imbalances, 11.4...</td>\n",
       "      <td>[0.5818995670866465, 0.581233463769919, 0.5771...</td>\n",
       "      <td>[216, 32, 11, 151, 8]</td>\n",
       "    </tr>\n",
       "    <tr>\n",
       "      <th>3</th>\n",
       "      <td>caret</td>\n",
       "      <td>R</td>\n",
       "      <td>caret_12_using_recipes_with_train</td>\n",
       "      <td>12 Using Recipes with train</td>\n",
       "      <td>using-recipes-with-train.html</td>\n",
       "      <td>12.1 Why Should</td>\n",
       "      <td>https://topepo.github.io/caret/using-recipes-w...</td>\n",
       "      <td>caret - Using Recipes With Train, 12.1 Why Should</td>\n",
       "      <td>[0.6327495350333942, 0.6193120877616372, 0.617...</td>\n",
       "      <td>[272, 77, 385, 4, 298]</td>\n",
       "    </tr>\n",
       "    <tr>\n",
       "      <th>4</th>\n",
       "      <td>caret</td>\n",
       "      <td>R</td>\n",
       "      <td>caret_12_using_recipes_with_train</td>\n",
       "      <td>12 Using Recipes with train</td>\n",
       "      <td>using-recipes-with-train.html</td>\n",
       "      <td>12.2 An Example The QSARdata</td>\n",
       "      <td>https://topepo.github.io/caret/using-recipes-w...</td>\n",
       "      <td>caret - Using Recipes With Train, 12.2 An Exam...</td>\n",
       "      <td>[0.7013757694326713, 0.7004095972967935, 0.681...</td>\n",
       "      <td>[387, 385, 390, 384, 366]</td>\n",
       "    </tr>\n",
       "    <tr>\n",
       "      <th>...</th>\n",
       "      <td>...</td>\n",
       "      <td>...</td>\n",
       "      <td>...</td>\n",
       "      <td>...</td>\n",
       "      <td>...</td>\n",
       "      <td>...</td>\n",
       "      <td>...</td>\n",
       "      <td>...</td>\n",
       "      <td>...</td>\n",
       "      <td>...</td>\n",
       "    </tr>\n",
       "    <tr>\n",
       "      <th>456</th>\n",
       "      <td>scipy</td>\n",
       "      <td>Python</td>\n",
       "      <td>scipy_statistics_scipy_stats</td>\n",
       "      <td>Statistics (scipy.stats)</td>\n",
       "      <td>stats.html</td>\n",
       "      <td>Building specific distributions</td>\n",
       "      <td>https://docs.scipy.org/doc/scipy/reference/tut...</td>\n",
       "      <td>scipy - Stats, Building specific distributions</td>\n",
       "      <td>[0.6381339001314704, 0.6364477798297543, 0.634...</td>\n",
       "      <td>[366, 361, 460, 455, 385]</td>\n",
       "    </tr>\n",
       "    <tr>\n",
       "      <th>457</th>\n",
       "      <td>scipy</td>\n",
       "      <td>Python</td>\n",
       "      <td>scipy_statistics_scipy_stats</td>\n",
       "      <td>Statistics (scipy.stats)</td>\n",
       "      <td>stats.html</td>\n",
       "      <td>Comparing two samples</td>\n",
       "      <td>https://docs.scipy.org/doc/scipy/reference/tut...</td>\n",
       "      <td>scipy - Stats, Comparing two samples</td>\n",
       "      <td>[0.6312074607746629, 0.6109502254042097, 0.604...</td>\n",
       "      <td>[449, 399, 411, 174, 46]</td>\n",
       "    </tr>\n",
       "    <tr>\n",
       "      <th>458</th>\n",
       "      <td>scipy</td>\n",
       "      <td>Python</td>\n",
       "      <td>scipy_statistics_scipy_stats</td>\n",
       "      <td>Statistics (scipy.stats)</td>\n",
       "      <td>stats.html</td>\n",
       "      <td>Introduction  In this</td>\n",
       "      <td>https://docs.scipy.org/doc/scipy/reference/tut...</td>\n",
       "      <td>scipy - Stats, Introduction  In this</td>\n",
       "      <td>[0.607461532520102, 0.5994546764117346, 0.5969...</td>\n",
       "      <td>[67, 460, 414, 444, 434]</td>\n",
       "    </tr>\n",
       "    <tr>\n",
       "      <th>459</th>\n",
       "      <td>scipy</td>\n",
       "      <td>Python</td>\n",
       "      <td>scipy_statistics_scipy_stats</td>\n",
       "      <td>Statistics (scipy.stats)</td>\n",
       "      <td>stats.html</td>\n",
       "      <td>Kernel density estimation</td>\n",
       "      <td>https://docs.scipy.org/doc/scipy/reference/tut...</td>\n",
       "      <td>scipy - Stats, Kernel density estimation</td>\n",
       "      <td>[0.6568073802380295, 0.6562692986010782, 0.656...</td>\n",
       "      <td>[455, 386, 383, 389, 460]</td>\n",
       "    </tr>\n",
       "    <tr>\n",
       "      <th>460</th>\n",
       "      <td>scipy</td>\n",
       "      <td>Python</td>\n",
       "      <td>scipy_statistics_scipy_stats</td>\n",
       "      <td>Statistics (scipy.stats)</td>\n",
       "      <td>stats.html</td>\n",
       "      <td>Random variables  There</td>\n",
       "      <td>https://docs.scipy.org/doc/scipy/reference/tut...</td>\n",
       "      <td>scipy - Stats, Random variables  There</td>\n",
       "      <td>[0.7562182589192208, 0.7372049300364959, 0.735...</td>\n",
       "      <td>[391, 384, 390, 385, 441]</td>\n",
       "    </tr>\n",
       "  </tbody>\n",
       "</table>\n",
       "<p>461 rows × 10 columns</p>\n",
       "</div>"
      ],
      "text/plain": [
       "    Package Language                                 Section_ID  \\\n",
       "0     caret        R  caret_11_subsampling_for_class_imbalances   \n",
       "1     caret        R  caret_11_subsampling_for_class_imbalances   \n",
       "2     caret        R  caret_11_subsampling_for_class_imbalances   \n",
       "3     caret        R          caret_12_using_recipes_with_train   \n",
       "4     caret        R          caret_12_using_recipes_with_train   \n",
       "..      ...      ...                                        ...   \n",
       "456   scipy   Python               scipy_statistics_scipy_stats   \n",
       "457   scipy   Python               scipy_statistics_scipy_stats   \n",
       "458   scipy   Python               scipy_statistics_scipy_stats   \n",
       "459   scipy   Python               scipy_statistics_scipy_stats   \n",
       "460   scipy   Python               scipy_statistics_scipy_stats   \n",
       "\n",
       "                                 Section  \\\n",
       "0    11 Subsampling For Class Imbalances   \n",
       "1    11 Subsampling For Class Imbalances   \n",
       "2    11 Subsampling For Class Imbalances   \n",
       "3            12 Using Recipes with train   \n",
       "4            12 Using Recipes with train   \n",
       "..                                   ...   \n",
       "456             Statistics (scipy.stats)   \n",
       "457             Statistics (scipy.stats)   \n",
       "458             Statistics (scipy.stats)   \n",
       "459             Statistics (scipy.stats)   \n",
       "460             Statistics (scipy.stats)   \n",
       "\n",
       "                               SectionLink                        Page_Name  \\\n",
       "0    subsampling-for-class-imbalances.html   11.1 Subsampling Techniques To   \n",
       "1    subsampling-for-class-imbalances.html           11.3 Complications The   \n",
       "2    subsampling-for-class-imbalances.html    11.4 Using Custom Subsampling   \n",
       "3            using-recipes-with-train.html                  12.1 Why Should   \n",
       "4            using-recipes-with-train.html     12.2 An Example The QSARdata   \n",
       "..                                     ...                              ...   \n",
       "456                             stats.html  Building specific distributions   \n",
       "457                             stats.html            Comparing two samples   \n",
       "458                             stats.html            Introduction  In this   \n",
       "459                             stats.html        Kernel density estimation   \n",
       "460                             stats.html          Random variables  There   \n",
       "\n",
       "                                                  Link  \\\n",
       "0    https://topepo.github.io/caret/subsampling-for...   \n",
       "1    https://topepo.github.io/caret/subsampling-for...   \n",
       "2    https://topepo.github.io/caret/subsampling-for...   \n",
       "3    https://topepo.github.io/caret/using-recipes-w...   \n",
       "4    https://topepo.github.io/caret/using-recipes-w...   \n",
       "..                                                 ...   \n",
       "456  https://docs.scipy.org/doc/scipy/reference/tut...   \n",
       "457  https://docs.scipy.org/doc/scipy/reference/tut...   \n",
       "458  https://docs.scipy.org/doc/scipy/reference/tut...   \n",
       "459  https://docs.scipy.org/doc/scipy/reference/tut...   \n",
       "460  https://docs.scipy.org/doc/scipy/reference/tut...   \n",
       "\n",
       "                                              PageName  \\\n",
       "0    caret - Subsampling For Class Imbalances, 11.1...   \n",
       "1    caret - Subsampling For Class Imbalances, 11.3...   \n",
       "2    caret - Subsampling For Class Imbalances, 11.4...   \n",
       "3    caret - Using Recipes With Train, 12.1 Why Should   \n",
       "4    caret - Using Recipes With Train, 12.2 An Exam...   \n",
       "..                                                 ...   \n",
       "456     scipy - Stats, Building specific distributions   \n",
       "457               scipy - Stats, Comparing two samples   \n",
       "458               scipy - Stats, Introduction  In this   \n",
       "459           scipy - Stats, Kernel density estimation   \n",
       "460             scipy - Stats, Random variables  There   \n",
       "\n",
       "                                             Rec_Probs  \\\n",
       "0    [0.6759168026284725, 0.6503327111025291, 0.638...   \n",
       "1    [0.6155791831060012, 0.6137299220946123, 0.607...   \n",
       "2    [0.5818995670866465, 0.581233463769919, 0.5771...   \n",
       "3    [0.6327495350333942, 0.6193120877616372, 0.617...   \n",
       "4    [0.7013757694326713, 0.7004095972967935, 0.681...   \n",
       "..                                                 ...   \n",
       "456  [0.6381339001314704, 0.6364477798297543, 0.634...   \n",
       "457  [0.6312074607746629, 0.6109502254042097, 0.604...   \n",
       "458  [0.607461532520102, 0.5994546764117346, 0.5969...   \n",
       "459  [0.6568073802380295, 0.6562692986010782, 0.656...   \n",
       "460  [0.7562182589192208, 0.7372049300364959, 0.735...   \n",
       "\n",
       "                     Rec_Index  \n",
       "0       [244, 4, 163, 375, 56]  \n",
       "1       [292, 67, 233, 8, 391]  \n",
       "2        [216, 32, 11, 151, 8]  \n",
       "3       [272, 77, 385, 4, 298]  \n",
       "4    [387, 385, 390, 384, 366]  \n",
       "..                         ...  \n",
       "456  [366, 361, 460, 455, 385]  \n",
       "457   [449, 399, 411, 174, 46]  \n",
       "458   [67, 460, 414, 444, 434]  \n",
       "459  [455, 386, 383, 389, 460]  \n",
       "460  [391, 384, 390, 385, 441]  \n",
       "\n",
       "[461 rows x 10 columns]"
      ]
     },
     "execution_count": 378,
     "metadata": {},
     "output_type": "execute_result"
    }
   ],
   "source": [
    "combined"
   ]
  },
  {
   "cell_type": "code",
   "execution_count": 405,
   "metadata": {},
   "outputs": [],
   "source": [
    "with open(\"app/recommendation_table.pkl\", 'wb') as f:\n",
    "    pickle.dump(combined, f)"
   ]
  },
  {
   "cell_type": "code",
   "execution_count": 406,
   "metadata": {},
   "outputs": [],
   "source": [
    "with open(\"app/recommendation_table.pkl\", 'rb') as f:\n",
    "    table = pickle.load(f)"
   ]
  },
  {
   "cell_type": "code",
   "execution_count": 407,
   "metadata": {},
   "outputs": [],
   "source": [
    "idx = 5"
   ]
  },
  {
   "cell_type": "code",
   "execution_count": 408,
   "metadata": {},
   "outputs": [
    {
     "data": {
      "text/html": [
       "<div>\n",
       "<style scoped>\n",
       "    .dataframe tbody tr th:only-of-type {\n",
       "        vertical-align: middle;\n",
       "    }\n",
       "\n",
       "    .dataframe tbody tr th {\n",
       "        vertical-align: top;\n",
       "    }\n",
       "\n",
       "    .dataframe thead th {\n",
       "        text-align: right;\n",
       "    }\n",
       "</style>\n",
       "<table border=\"1\" class=\"dataframe\">\n",
       "  <thead>\n",
       "    <tr style=\"text-align: right;\">\n",
       "      <th></th>\n",
       "      <th>Package</th>\n",
       "      <th>Language</th>\n",
       "      <th>Section_ID</th>\n",
       "      <th>Section</th>\n",
       "      <th>SectionLink</th>\n",
       "      <th>Page_Name</th>\n",
       "      <th>Link</th>\n",
       "      <th>PageName</th>\n",
       "      <th>Rec_Probs</th>\n",
       "      <th>Rec_Index</th>\n",
       "    </tr>\n",
       "  </thead>\n",
       "  <tbody>\n",
       "    <tr>\n",
       "      <th>0</th>\n",
       "      <td>caret</td>\n",
       "      <td>R</td>\n",
       "      <td>caret_11_subsampling_for_class_imbalances</td>\n",
       "      <td>11 Subsampling For Class Imbalances</td>\n",
       "      <td>subsampling-for-class-imbalances.html</td>\n",
       "      <td>11.1 Subsampling Techniques To</td>\n",
       "      <td>https://topepo.github.io/caret/subsampling-for...</td>\n",
       "      <td>caret - Subsampling For Class Imbalances, 11.1...</td>\n",
       "      <td>[0.6759168026284725, 0.6503327111025291, 0.638...</td>\n",
       "      <td>[244, 4, 163, 375, 56]</td>\n",
       "    </tr>\n",
       "    <tr>\n",
       "      <th>1</th>\n",
       "      <td>caret</td>\n",
       "      <td>R</td>\n",
       "      <td>caret_11_subsampling_for_class_imbalances</td>\n",
       "      <td>11 Subsampling For Class Imbalances</td>\n",
       "      <td>subsampling-for-class-imbalances.html</td>\n",
       "      <td>11.3 Complications The</td>\n",
       "      <td>https://topepo.github.io/caret/subsampling-for...</td>\n",
       "      <td>caret - Subsampling For Class Imbalances, 11.3...</td>\n",
       "      <td>[0.6155791831060012, 0.6137299220946123, 0.607...</td>\n",
       "      <td>[292, 67, 233, 8, 391]</td>\n",
       "    </tr>\n",
       "    <tr>\n",
       "      <th>2</th>\n",
       "      <td>caret</td>\n",
       "      <td>R</td>\n",
       "      <td>caret_11_subsampling_for_class_imbalances</td>\n",
       "      <td>11 Subsampling For Class Imbalances</td>\n",
       "      <td>subsampling-for-class-imbalances.html</td>\n",
       "      <td>11.4 Using Custom Subsampling</td>\n",
       "      <td>https://topepo.github.io/caret/subsampling-for...</td>\n",
       "      <td>caret - Subsampling For Class Imbalances, 11.4...</td>\n",
       "      <td>[0.5818995670866465, 0.581233463769919, 0.5771...</td>\n",
       "      <td>[216, 32, 11, 151, 8]</td>\n",
       "    </tr>\n",
       "    <tr>\n",
       "      <th>3</th>\n",
       "      <td>caret</td>\n",
       "      <td>R</td>\n",
       "      <td>caret_12_using_recipes_with_train</td>\n",
       "      <td>12 Using Recipes with train</td>\n",
       "      <td>using-recipes-with-train.html</td>\n",
       "      <td>12.1 Why Should</td>\n",
       "      <td>https://topepo.github.io/caret/using-recipes-w...</td>\n",
       "      <td>caret - Using Recipes With Train, 12.1 Why Should</td>\n",
       "      <td>[0.6327495350333942, 0.6193120877616372, 0.617...</td>\n",
       "      <td>[272, 77, 385, 4, 298]</td>\n",
       "    </tr>\n",
       "    <tr>\n",
       "      <th>4</th>\n",
       "      <td>caret</td>\n",
       "      <td>R</td>\n",
       "      <td>caret_12_using_recipes_with_train</td>\n",
       "      <td>12 Using Recipes with train</td>\n",
       "      <td>using-recipes-with-train.html</td>\n",
       "      <td>12.2 An Example The QSARdata</td>\n",
       "      <td>https://topepo.github.io/caret/using-recipes-w...</td>\n",
       "      <td>caret - Using Recipes With Train, 12.2 An Exam...</td>\n",
       "      <td>[0.7013757694326713, 0.7004095972967935, 0.681...</td>\n",
       "      <td>[387, 385, 390, 384, 366]</td>\n",
       "    </tr>\n",
       "  </tbody>\n",
       "</table>\n",
       "</div>"
      ],
      "text/plain": [
       "  Package Language                                 Section_ID  \\\n",
       "0   caret        R  caret_11_subsampling_for_class_imbalances   \n",
       "1   caret        R  caret_11_subsampling_for_class_imbalances   \n",
       "2   caret        R  caret_11_subsampling_for_class_imbalances   \n",
       "3   caret        R          caret_12_using_recipes_with_train   \n",
       "4   caret        R          caret_12_using_recipes_with_train   \n",
       "\n",
       "                               Section                            SectionLink  \\\n",
       "0  11 Subsampling For Class Imbalances  subsampling-for-class-imbalances.html   \n",
       "1  11 Subsampling For Class Imbalances  subsampling-for-class-imbalances.html   \n",
       "2  11 Subsampling For Class Imbalances  subsampling-for-class-imbalances.html   \n",
       "3          12 Using Recipes with train          using-recipes-with-train.html   \n",
       "4          12 Using Recipes with train          using-recipes-with-train.html   \n",
       "\n",
       "                        Page_Name  \\\n",
       "0  11.1 Subsampling Techniques To   \n",
       "1          11.3 Complications The   \n",
       "2   11.4 Using Custom Subsampling   \n",
       "3                 12.1 Why Should   \n",
       "4    12.2 An Example The QSARdata   \n",
       "\n",
       "                                                Link  \\\n",
       "0  https://topepo.github.io/caret/subsampling-for...   \n",
       "1  https://topepo.github.io/caret/subsampling-for...   \n",
       "2  https://topepo.github.io/caret/subsampling-for...   \n",
       "3  https://topepo.github.io/caret/using-recipes-w...   \n",
       "4  https://topepo.github.io/caret/using-recipes-w...   \n",
       "\n",
       "                                            PageName  \\\n",
       "0  caret - Subsampling For Class Imbalances, 11.1...   \n",
       "1  caret - Subsampling For Class Imbalances, 11.3...   \n",
       "2  caret - Subsampling For Class Imbalances, 11.4...   \n",
       "3  caret - Using Recipes With Train, 12.1 Why Should   \n",
       "4  caret - Using Recipes With Train, 12.2 An Exam...   \n",
       "\n",
       "                                           Rec_Probs  \\\n",
       "0  [0.6759168026284725, 0.6503327111025291, 0.638...   \n",
       "1  [0.6155791831060012, 0.6137299220946123, 0.607...   \n",
       "2  [0.5818995670866465, 0.581233463769919, 0.5771...   \n",
       "3  [0.6327495350333942, 0.6193120877616372, 0.617...   \n",
       "4  [0.7013757694326713, 0.7004095972967935, 0.681...   \n",
       "\n",
       "                   Rec_Index  \n",
       "0     [244, 4, 163, 375, 56]  \n",
       "1     [292, 67, 233, 8, 391]  \n",
       "2      [216, 32, 11, 151, 8]  \n",
       "3     [272, 77, 385, 4, 298]  \n",
       "4  [387, 385, 390, 384, 366]  "
      ]
     },
     "execution_count": 408,
     "metadata": {},
     "output_type": "execute_result"
    }
   ],
   "source": [
    "table.head()"
   ]
  },
  {
   "cell_type": "code",
   "execution_count": 279,
   "metadata": {},
   "outputs": [
    {
     "data": {
      "text/plain": [
       "1"
      ]
     },
     "execution_count": 279,
     "metadata": {},
     "output_type": "execute_result"
    }
   ],
   "source": [
    "table.loc[table.Page_Name == '11.3 Complications The'].index[0]"
   ]
  },
  {
   "cell_type": "code",
   "execution_count": 285,
   "metadata": {},
   "outputs": [],
   "source": [
    "from decimal import Decimal"
   ]
  },
  {
   "cell_type": "code",
   "execution_count": 307,
   "metadata": {},
   "outputs": [
    {
     "data": {
      "text/plain": [
       "['63.00%', '60.81%', '60.76%', '59.96%', '58.45%']"
      ]
     },
     "execution_count": 307,
     "metadata": {},
     "output_type": "execute_result"
    }
   ],
   "source": [
    "[\"{:.2f}%\".format(x * 100) for x in table.iloc[idx].Rec_Probs]"
   ]
  },
  {
   "cell_type": "code",
   "execution_count": 383,
   "metadata": {},
   "outputs": [],
   "source": [
    "\n",
    "def processTable(table, idx):\n",
    "    probs = [\"{:.2f}\".format(x * 100) for x in table.iloc[idx].Rec_Probs]\n",
    "    locs = table.iloc[idx].Rec_Index\n",
    "\n",
    "    cols = [\n",
    "        'Package', \n",
    "        'Language', \n",
    "        'Section_ID', \n",
    "        'Section', \n",
    "        'Link', \n",
    "        'Page_Name',   \n",
    "    ]\n",
    "\n",
    "    outputTable = (\n",
    "        table\n",
    "        .loc[locs, cols]\n",
    "        .join(pd.DataFrame(probs, index=locs, columns=['Similarity Score']))\n",
    "    )\n",
    "\n",
    "    \n",
    "    return outputTable, outLinks"
   ]
  },
  {
   "cell_type": "code",
   "execution_count": 384,
   "metadata": {},
   "outputs": [
    {
     "data": {
      "text/html": [
       "<div>\n",
       "<style scoped>\n",
       "    .dataframe tbody tr th:only-of-type {\n",
       "        vertical-align: middle;\n",
       "    }\n",
       "\n",
       "    .dataframe tbody tr th {\n",
       "        vertical-align: top;\n",
       "    }\n",
       "\n",
       "    .dataframe thead th {\n",
       "        text-align: right;\n",
       "    }\n",
       "</style>\n",
       "<table border=\"1\" class=\"dataframe\">\n",
       "  <thead>\n",
       "    <tr style=\"text-align: right;\">\n",
       "      <th></th>\n",
       "      <th>Package</th>\n",
       "      <th>Language</th>\n",
       "      <th>Section_ID</th>\n",
       "      <th>Section</th>\n",
       "      <th>Link</th>\n",
       "      <th>Page_Name</th>\n",
       "      <th>Similarity Score</th>\n",
       "    </tr>\n",
       "  </thead>\n",
       "  <tbody>\n",
       "    <tr>\n",
       "      <th>117</th>\n",
       "      <td>caret</td>\n",
       "      <td>R</td>\n",
       "      <td>caret_7_train_models_by_tag</td>\n",
       "      <td>7 train Models By Tag</td>\n",
       "      <td>https://topepo.github.io/caret/train-models-by...</td>\n",
       "      <td>7.0.47 Support Vector Machines</td>\n",
       "      <td>63.00</td>\n",
       "    </tr>\n",
       "    <tr>\n",
       "      <th>114</th>\n",
       "      <td>caret</td>\n",
       "      <td>R</td>\n",
       "      <td>caret_7_train_models_by_tag</td>\n",
       "      <td>7 train Models By Tag</td>\n",
       "      <td>https://topepo.github.io/caret/train-models-by...</td>\n",
       "      <td>7.0.44 Rule-Based Model</td>\n",
       "      <td>60.81</td>\n",
       "    </tr>\n",
       "    <tr>\n",
       "      <th>85</th>\n",
       "      <td>caret</td>\n",
       "      <td>R</td>\n",
       "      <td>caret_7_train_models_by_tag</td>\n",
       "      <td>7 train Models By Tag</td>\n",
       "      <td>https://topepo.github.io/caret/train-models-by...</td>\n",
       "      <td>7.0.18 Kernel Method</td>\n",
       "      <td>60.76</td>\n",
       "    </tr>\n",
       "    <tr>\n",
       "      <th>328</th>\n",
       "      <td>sklearn</td>\n",
       "      <td>Python</td>\n",
       "      <td>sklearn_6_3_preprocessing_data</td>\n",
       "      <td>6.3. Preprocessing data</td>\n",
       "      <td>https://scikit-learn.org/stable/modules/prepro...</td>\n",
       "      <td>6.3.6. Imputation</td>\n",
       "      <td>59.96</td>\n",
       "    </tr>\n",
       "    <tr>\n",
       "      <th>105</th>\n",
       "      <td>caret</td>\n",
       "      <td>R</td>\n",
       "      <td>caret_7_train_models_by_tag</td>\n",
       "      <td>7 train Models By Tag</td>\n",
       "      <td>https://topepo.github.io/caret/train-models-by...</td>\n",
       "      <td>7.0.36 Radial Basis Function</td>\n",
       "      <td>58.45</td>\n",
       "    </tr>\n",
       "  </tbody>\n",
       "</table>\n",
       "</div>"
      ],
      "text/plain": [
       "     Package Language                      Section_ID  \\\n",
       "117    caret        R     caret_7_train_models_by_tag   \n",
       "114    caret        R     caret_7_train_models_by_tag   \n",
       "85     caret        R     caret_7_train_models_by_tag   \n",
       "328  sklearn   Python  sklearn_6_3_preprocessing_data   \n",
       "105    caret        R     caret_7_train_models_by_tag   \n",
       "\n",
       "                     Section  \\\n",
       "117    7 train Models By Tag   \n",
       "114    7 train Models By Tag   \n",
       "85     7 train Models By Tag   \n",
       "328  6.3. Preprocessing data   \n",
       "105    7 train Models By Tag   \n",
       "\n",
       "                                                  Link  \\\n",
       "117  https://topepo.github.io/caret/train-models-by...   \n",
       "114  https://topepo.github.io/caret/train-models-by...   \n",
       "85   https://topepo.github.io/caret/train-models-by...   \n",
       "328  https://scikit-learn.org/stable/modules/prepro...   \n",
       "105  https://topepo.github.io/caret/train-models-by...   \n",
       "\n",
       "                          Page_Name Similarity Score  \n",
       "117  7.0.47 Support Vector Machines            63.00  \n",
       "114         7.0.44 Rule-Based Model            60.81  \n",
       "85             7.0.18 Kernel Method            60.76  \n",
       "328               6.3.6. Imputation            59.96  \n",
       "105    7.0.36 Radial Basis Function            58.45  "
      ]
     },
     "execution_count": 384,
     "metadata": {},
     "output_type": "execute_result"
    }
   ],
   "source": [
    "x, _ = processTable(table, 5)\n",
    "x"
   ]
  },
  {
   "cell_type": "code",
   "execution_count": 398,
   "metadata": {},
   "outputs": [],
   "source": [
    "import re\n",
    "\n",
    "import numpy as np\n",
    "import pandas as pd\n",
    "\n",
    "from scipy.spatial import distance\n",
    "from sklearn.manifold import TSNE\n",
    "from sklearn.decomposition import PCA\n",
    "\n",
    "MODEL_PATH = 'app/all_data2_model.dbow_numnoisewords.2_vecdim.100_batchsize.32_lr.0.001000_epoch.95_loss.0.6850212.csv'\n",
    "\n",
    "\n",
    "def readDocMatrix(path):\n",
    "    input_lines = []\n",
    "    with open('app/all_data2.csv') as f:\n",
    "        for line in f:\n",
    "            input_lines.append(line)\n",
    "\n",
    "    output_lines = []\n",
    "    with open(path) as f:\n",
    "        for line in f:\n",
    "            output_lines.append(line)\n",
    "\n",
    "    matched = []\n",
    "    for line_idx in range(len(output_lines)):\n",
    "        matched.append((input_lines[line_idx], output_lines[line_idx]))\n",
    "        \n",
    "    matched_clean = [x for x in matched if not re.match(\".*[A-Z].*\", x[1])]\n",
    "\n",
    "    return matched_clean\n",
    "\n",
    "\n",
    "def toNumpyMatrix(matched):\n",
    "\n",
    "    matched_clean_vectors = [x[1].split(\",\") for x in matched[1:]]\n",
    "    vec_matrix = np.array(matched_clean_vectors)\n",
    "\n",
    "    return vec_matrix\n",
    "\n",
    "\n",
    "def topNMatches(idx, matched, n=5):\n",
    "    \n",
    "    matrix = toNumpyMatrix(matched)\n",
    "    distances = distance.cdist([matrix[idx]], matrix, \"cosine\")[0]\n",
    "\n",
    "    ind = np.argpartition(distances, n+1)[:(n+1)]\n",
    "    sorted_ind = ind[np.argsort(distances[ind])][1:]\n",
    "    min_distances = distances[sorted_ind]\n",
    "    max_similarity = [1 - x for x in min_distances]\n",
    "    \n",
    "    return (max_similarity, sorted_ind)\n",
    "\n",
    "\n",
    "def tsneMatrix(matched):\n",
    "\n",
    "    doc_matrix = toNumpyMatrix(matched)\n",
    "    doc_pca = PCA(n_components=5).fit_transform(doc_matrix)\n",
    "    tsne = TSNE(n_components=2, perplexity=5).fit_transform(doc_pca)\n",
    "    \n",
    "    return tsne\n",
    "\n",
    "docMatrix = readDocMatrix(MODEL_PATH)\n",
    "tsne = tsneMatrix(docMatrix)"
   ]
  },
  {
   "cell_type": "code",
   "execution_count": 386,
   "metadata": {},
   "outputs": [],
   "source": [
    "with open('app/tsne.pkl' ,'wb') as f:\n",
    "    pickle.dump(tsne, f)"
   ]
  },
  {
   "cell_type": "code",
   "execution_count": 387,
   "metadata": {},
   "outputs": [
    {
     "data": {
      "text/plain": [
       "(461, 2)"
      ]
     },
     "execution_count": 387,
     "metadata": {},
     "output_type": "execute_result"
    }
   ],
   "source": [
    "tsne.shape"
   ]
  },
  {
   "cell_type": "code",
   "execution_count": 388,
   "metadata": {},
   "outputs": [
    {
     "data": {
      "text/plain": [
       "(461, 10)"
      ]
     },
     "execution_count": 388,
     "metadata": {},
     "output_type": "execute_result"
    }
   ],
   "source": [
    "table.shape"
   ]
  },
  {
   "cell_type": "code",
   "execution_count": 389,
   "metadata": {},
   "outputs": [
    {
     "data": {
      "text/plain": [
       "Index(['Package', 'Language', 'Section_ID', 'Section', 'SectionLink',\n",
       "       'Page_Name', 'Link', 'PageName', 'Rec_Probs', 'Rec_Index'],\n",
       "      dtype='object')"
      ]
     },
     "execution_count": 389,
     "metadata": {},
     "output_type": "execute_result"
    }
   ],
   "source": [
    "table.columns"
   ]
  },
  {
   "cell_type": "code",
   "execution_count": 390,
   "metadata": {},
   "outputs": [],
   "source": [
    "with open('app/tsne_labeled.pkl', 'wb') as f:\n",
    "    pickle.dump(\n",
    "        table.join(pd.DataFrame(tsne, columns=['x', 'y']))[\n",
    "            [\n",
    "                'Package', 'PageName', 'x', 'y'\n",
    "            ]\n",
    "        ],\n",
    "        f\n",
    "    )"
   ]
  },
  {
   "cell_type": "code",
   "execution_count": 391,
   "metadata": {},
   "outputs": [],
   "source": [
    "with open(\"app/tsne_labeled.pkl\", 'rb') as f:\n",
    "    tsne_df = pickle.load(f)\n",
    "\n",
    "tsne_fig = px.scatter(\n",
    "    tsne_df, x=\"x\", y=\"y\",\n",
    "    color=\"Package\", hover_name=\"PageName\",\n",
    "    size_max=60)"
   ]
  },
  {
   "cell_type": "code",
   "execution_count": 392,
   "metadata": {},
   "outputs": [
    {
     "data": {
      "text/html": [
       "<div>\n",
       "<style scoped>\n",
       "    .dataframe tbody tr th:only-of-type {\n",
       "        vertical-align: middle;\n",
       "    }\n",
       "\n",
       "    .dataframe tbody tr th {\n",
       "        vertical-align: top;\n",
       "    }\n",
       "\n",
       "    .dataframe thead th {\n",
       "        text-align: right;\n",
       "    }\n",
       "</style>\n",
       "<table border=\"1\" class=\"dataframe\">\n",
       "  <thead>\n",
       "    <tr style=\"text-align: right;\">\n",
       "      <th></th>\n",
       "      <th>Package</th>\n",
       "      <th>PageName</th>\n",
       "      <th>x</th>\n",
       "      <th>y</th>\n",
       "    </tr>\n",
       "  </thead>\n",
       "  <tbody>\n",
       "    <tr>\n",
       "      <th>0</th>\n",
       "      <td>caret</td>\n",
       "      <td>caret - Subsampling For Class Imbalances, 11.1...</td>\n",
       "      <td>28.858669</td>\n",
       "      <td>2.292375</td>\n",
       "    </tr>\n",
       "    <tr>\n",
       "      <th>1</th>\n",
       "      <td>caret</td>\n",
       "      <td>caret - Subsampling For Class Imbalances, 11.3...</td>\n",
       "      <td>23.635252</td>\n",
       "      <td>31.878082</td>\n",
       "    </tr>\n",
       "    <tr>\n",
       "      <th>2</th>\n",
       "      <td>caret</td>\n",
       "      <td>caret - Subsampling For Class Imbalances, 11.4...</td>\n",
       "      <td>18.521011</td>\n",
       "      <td>-3.197673</td>\n",
       "    </tr>\n",
       "    <tr>\n",
       "      <th>3</th>\n",
       "      <td>caret</td>\n",
       "      <td>caret - Using Recipes With Train, 12.1 Why Should</td>\n",
       "      <td>29.004141</td>\n",
       "      <td>4.907549</td>\n",
       "    </tr>\n",
       "    <tr>\n",
       "      <th>4</th>\n",
       "      <td>caret</td>\n",
       "      <td>caret - Using Recipes With Train, 12.2 An Exam...</td>\n",
       "      <td>13.822483</td>\n",
       "      <td>45.501270</td>\n",
       "    </tr>\n",
       "    <tr>\n",
       "      <th>...</th>\n",
       "      <td>...</td>\n",
       "      <td>...</td>\n",
       "      <td>...</td>\n",
       "      <td>...</td>\n",
       "    </tr>\n",
       "    <tr>\n",
       "      <th>456</th>\n",
       "      <td>scipy</td>\n",
       "      <td>scipy - Stats, Building specific distributions</td>\n",
       "      <td>-9.514321</td>\n",
       "      <td>31.770945</td>\n",
       "    </tr>\n",
       "    <tr>\n",
       "      <th>457</th>\n",
       "      <td>scipy</td>\n",
       "      <td>scipy - Stats, Comparing two samples</td>\n",
       "      <td>34.026772</td>\n",
       "      <td>-5.900595</td>\n",
       "    </tr>\n",
       "    <tr>\n",
       "      <th>458</th>\n",
       "      <td>scipy</td>\n",
       "      <td>scipy - Stats, Introduction  In this</td>\n",
       "      <td>11.161287</td>\n",
       "      <td>7.302550</td>\n",
       "    </tr>\n",
       "    <tr>\n",
       "      <th>459</th>\n",
       "      <td>scipy</td>\n",
       "      <td>scipy - Stats, Kernel density estimation</td>\n",
       "      <td>-1.856697</td>\n",
       "      <td>37.731575</td>\n",
       "    </tr>\n",
       "    <tr>\n",
       "      <th>460</th>\n",
       "      <td>scipy</td>\n",
       "      <td>scipy - Stats, Random variables  There</td>\n",
       "      <td>-6.055157</td>\n",
       "      <td>48.377563</td>\n",
       "    </tr>\n",
       "  </tbody>\n",
       "</table>\n",
       "<p>461 rows × 4 columns</p>\n",
       "</div>"
      ],
      "text/plain": [
       "    Package                                           PageName          x  \\\n",
       "0     caret  caret - Subsampling For Class Imbalances, 11.1...  28.858669   \n",
       "1     caret  caret - Subsampling For Class Imbalances, 11.3...  23.635252   \n",
       "2     caret  caret - Subsampling For Class Imbalances, 11.4...  18.521011   \n",
       "3     caret  caret - Using Recipes With Train, 12.1 Why Should  29.004141   \n",
       "4     caret  caret - Using Recipes With Train, 12.2 An Exam...  13.822483   \n",
       "..      ...                                                ...        ...   \n",
       "456   scipy     scipy - Stats, Building specific distributions  -9.514321   \n",
       "457   scipy               scipy - Stats, Comparing two samples  34.026772   \n",
       "458   scipy               scipy - Stats, Introduction  In this  11.161287   \n",
       "459   scipy           scipy - Stats, Kernel density estimation  -1.856697   \n",
       "460   scipy             scipy - Stats, Random variables  There  -6.055157   \n",
       "\n",
       "             y  \n",
       "0     2.292375  \n",
       "1    31.878082  \n",
       "2    -3.197673  \n",
       "3     4.907549  \n",
       "4    45.501270  \n",
       "..         ...  \n",
       "456  31.770945  \n",
       "457  -5.900595  \n",
       "458   7.302550  \n",
       "459  37.731575  \n",
       "460  48.377563  \n",
       "\n",
       "[461 rows x 4 columns]"
      ]
     },
     "execution_count": 392,
     "metadata": {},
     "output_type": "execute_result"
    }
   ],
   "source": [
    "tsne_df"
   ]
  },
  {
   "cell_type": "code",
   "execution_count": null,
   "metadata": {},
   "outputs": [],
   "source": []
  }
 ],
 "metadata": {
  "kernelspec": {
   "display_name": ".venv3",
   "language": "python",
   "name": ".venv3"
  },
  "language_info": {
   "codemirror_mode": {
    "name": "ipython",
    "version": 3
   },
   "file_extension": ".py",
   "mimetype": "text/x-python",
   "name": "python",
   "nbconvert_exporter": "python",
   "pygments_lexer": "ipython3",
   "version": "3.8.5"
  }
 },
 "nbformat": 4,
 "nbformat_minor": 4
}
