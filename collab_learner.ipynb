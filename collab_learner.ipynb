{
 "cells": [
  {
   "cell_type": "code",
   "execution_count": 4,
   "metadata": {},
   "outputs": [],
   "source": [
    "from fastai.collab import *\n",
    "from fastai.tabular import *\n",
    "\n",
    "import matplotlib\n",
    "import matplotlib.pyplot as plt\n",
    "import random\n",
    "import numpy as np\n",
    "\n",
    "import re\n",
    "\n",
    "import torch\n",
    "import torch.nn as nn\n",
    "import torch.nn.functional as F\n",
    "import torch.optim as optim\n",
    "\n",
    "from torchtext.data import Field, TabularDataset\n",
    "from torchtext.data import Iterator, BucketIterator\n",
    "\n",
    "%matplotlib inline\n",
    "matplotlib.rcParams['figure.figsize'] = (10.0, 7.0)\n"
   ]
  },
  {
   "cell_type": "code",
   "execution_count": 38,
   "metadata": {},
   "outputs": [],
   "source": [
    "user,item,title = 'userId','movieId','title'\n",
    "path = untar_data(URLs.ML_SAMPLE)\n",
    "path\n",
    "ratings = pd.read_csv(path/'ratings.csv')\n",
    "ratings.head()\n",
    "y_range = [0,5.5]\n"
   ]
  },
  {
   "cell_type": "code",
   "execution_count": 109,
   "metadata": {},
   "outputs": [],
   "source": [
    "data = CollabDataBunch.from_df(ratings, seed=42, valid_pct=0.1, item_name = 'movieId')"
   ]
  },
  {
   "cell_type": "code",
   "execution_count": 110,
   "metadata": {},
   "outputs": [
    {
     "name": "stdout",
     "output_type": "stream",
     "text": [
      "userId 73; movieId 1097; \n"
     ]
    }
   ],
   "source": [
    "x,y = data.train_ds[0]\n",
    "print(x)"
   ]
  },
  {
   "cell_type": "code",
   "execution_count": 111,
   "metadata": {},
   "outputs": [],
   "source": [
    "xb,yb = data.one_batch()"
   ]
  },
  {
   "cell_type": "code",
   "execution_count": 112,
   "metadata": {},
   "outputs": [
    {
     "data": {
      "text/html": [
       "<table border=\"1\" class=\"dataframe\">\n",
       "  <thead>\n",
       "    <tr style=\"text-align: right;\">\n",
       "      <th>userId</th>\n",
       "      <th>movieId</th>\n",
       "      <th>target</th>\n",
       "    </tr>\n",
       "  </thead>\n",
       "  <tbody>\n",
       "    <tr>\n",
       "      <td>213</td>\n",
       "      <td>32</td>\n",
       "      <td>1.5</td>\n",
       "    </tr>\n",
       "    <tr>\n",
       "      <td>157</td>\n",
       "      <td>344</td>\n",
       "      <td>1.0</td>\n",
       "    </tr>\n",
       "    <tr>\n",
       "      <td>299</td>\n",
       "      <td>1732</td>\n",
       "      <td>5.0</td>\n",
       "    </tr>\n",
       "  </tbody>\n",
       "</table>"
      ],
      "text/plain": [
       "<IPython.core.display.HTML object>"
      ]
     },
     "metadata": {},
     "output_type": "display_data"
    }
   ],
   "source": [
    "data.show_batch(rows=3)"
   ]
  },
  {
   "cell_type": "code",
   "execution_count": 127,
   "metadata": {},
   "outputs": [],
   "source": [
    "learn = collab_learner(data, n_factors=40, y_range=y_range, wd=1e-1)"
   ]
  },
  {
   "cell_type": "code",
   "execution_count": 116,
   "metadata": {},
   "outputs": [],
   "source": [
    "# learn.lr_find()\n",
    "# learn.recorder.plot(skip_end=15)"
   ]
  },
  {
   "cell_type": "code",
   "execution_count": 117,
   "metadata": {},
   "outputs": [
    {
     "data": {
      "text/html": [
       "<table border=\"1\" class=\"dataframe\">\n",
       "  <thead>\n",
       "    <tr style=\"text-align: left;\">\n",
       "      <th>epoch</th>\n",
       "      <th>train_loss</th>\n",
       "      <th>valid_loss</th>\n",
       "      <th>time</th>\n",
       "    </tr>\n",
       "  </thead>\n",
       "  <tbody>\n",
       "    <tr>\n",
       "      <td>0</td>\n",
       "      <td>1.402211</td>\n",
       "      <td>1.157498</td>\n",
       "      <td>00:56</td>\n",
       "    </tr>\n",
       "  </tbody>\n",
       "</table>"
      ],
      "text/plain": [
       "<IPython.core.display.HTML object>"
      ]
     },
     "metadata": {},
     "output_type": "display_data"
    }
   ],
   "source": [
    "learn.fit_one_cycle(1, 5e-3)"
   ]
  },
  {
   "cell_type": "code",
   "execution_count": 96,
   "metadata": {},
   "outputs": [
    {
     "data": {
      "text/plain": [
       "EmbeddingDotBias(\n",
       "  (u_weight): Embedding(101, 50)\n",
       "  (i_weight): Embedding(101, 50)\n",
       "  (u_bias): Embedding(101, 1)\n",
       "  (i_bias): Embedding(101, 1)\n",
       ")"
      ]
     },
     "execution_count": 96,
     "metadata": {},
     "output_type": "execute_result"
    }
   ],
   "source": [
    "learn.model"
   ]
  },
  {
   "cell_type": "code",
   "execution_count": 58,
   "metadata": {},
   "outputs": [
    {
     "data": {
      "text/html": [
       "<div>\n",
       "<style scoped>\n",
       "    .dataframe tbody tr th:only-of-type {\n",
       "        vertical-align: middle;\n",
       "    }\n",
       "\n",
       "    .dataframe tbody tr th {\n",
       "        vertical-align: top;\n",
       "    }\n",
       "\n",
       "    .dataframe thead th {\n",
       "        text-align: right;\n",
       "    }\n",
       "</style>\n",
       "<table border=\"1\" class=\"dataframe\">\n",
       "  <thead>\n",
       "    <tr style=\"text-align: right;\">\n",
       "      <th></th>\n",
       "      <th>userId</th>\n",
       "      <th>movieId</th>\n",
       "      <th>rating</th>\n",
       "      <th>timestamp</th>\n",
       "    </tr>\n",
       "  </thead>\n",
       "  <tbody>\n",
       "    <tr>\n",
       "      <th>0</th>\n",
       "      <td>73</td>\n",
       "      <td>1097</td>\n",
       "      <td>4.0</td>\n",
       "      <td>1255504951</td>\n",
       "    </tr>\n",
       "    <tr>\n",
       "      <th>1</th>\n",
       "      <td>561</td>\n",
       "      <td>924</td>\n",
       "      <td>3.5</td>\n",
       "      <td>1172695223</td>\n",
       "    </tr>\n",
       "    <tr>\n",
       "      <th>2</th>\n",
       "      <td>157</td>\n",
       "      <td>260</td>\n",
       "      <td>3.5</td>\n",
       "      <td>1291598691</td>\n",
       "    </tr>\n",
       "    <tr>\n",
       "      <th>3</th>\n",
       "      <td>358</td>\n",
       "      <td>1210</td>\n",
       "      <td>5.0</td>\n",
       "      <td>957481884</td>\n",
       "    </tr>\n",
       "    <tr>\n",
       "      <th>4</th>\n",
       "      <td>130</td>\n",
       "      <td>316</td>\n",
       "      <td>2.0</td>\n",
       "      <td>1138999234</td>\n",
       "    </tr>\n",
       "    <tr>\n",
       "      <th>...</th>\n",
       "      <td>...</td>\n",
       "      <td>...</td>\n",
       "      <td>...</td>\n",
       "      <td>...</td>\n",
       "    </tr>\n",
       "    <tr>\n",
       "      <th>6026</th>\n",
       "      <td>384</td>\n",
       "      <td>377</td>\n",
       "      <td>4.0</td>\n",
       "      <td>1153501701</td>\n",
       "    </tr>\n",
       "    <tr>\n",
       "      <th>6027</th>\n",
       "      <td>262</td>\n",
       "      <td>587</td>\n",
       "      <td>1.5</td>\n",
       "      <td>1434024940</td>\n",
       "    </tr>\n",
       "    <tr>\n",
       "      <th>6028</th>\n",
       "      <td>580</td>\n",
       "      <td>153</td>\n",
       "      <td>2.0</td>\n",
       "      <td>1165899265</td>\n",
       "    </tr>\n",
       "    <tr>\n",
       "      <th>6029</th>\n",
       "      <td>585</td>\n",
       "      <td>1</td>\n",
       "      <td>4.0</td>\n",
       "      <td>974607482</td>\n",
       "    </tr>\n",
       "    <tr>\n",
       "      <th>6030</th>\n",
       "      <td>388</td>\n",
       "      <td>527</td>\n",
       "      <td>5.0</td>\n",
       "      <td>946509889</td>\n",
       "    </tr>\n",
       "  </tbody>\n",
       "</table>\n",
       "<p>6031 rows × 4 columns</p>\n",
       "</div>"
      ],
      "text/plain": [
       "      userId  movieId  rating   timestamp\n",
       "0         73     1097     4.0  1255504951\n",
       "1        561      924     3.5  1172695223\n",
       "2        157      260     3.5  1291598691\n",
       "3        358     1210     5.0   957481884\n",
       "4        130      316     2.0  1138999234\n",
       "...      ...      ...     ...         ...\n",
       "6026     384      377     4.0  1153501701\n",
       "6027     262      587     1.5  1434024940\n",
       "6028     580      153     2.0  1165899265\n",
       "6029     585        1     4.0   974607482\n",
       "6030     388      527     5.0   946509889\n",
       "\n",
       "[6031 rows x 4 columns]"
      ]
     },
     "execution_count": 58,
     "metadata": {},
     "output_type": "execute_result"
    }
   ],
   "source": [
    "movies"
   ]
  },
  {
   "cell_type": "code",
   "execution_count": 63,
   "metadata": {},
   "outputs": [
    {
     "data": {
      "text/plain": [
       "array([585,   1])"
      ]
     },
     "execution_count": 63,
     "metadata": {},
     "output_type": "execute_result"
    }
   ],
   "source": [
    "np.array([585,1])"
   ]
  },
  {
   "cell_type": "code",
   "execution_count": 62,
   "metadata": {},
   "outputs": [
    {
     "name": "stdout",
     "output_type": "stream",
     "text": [
      "You're trying to access an item that isn't in the training data.\n",
      "                  If it was in your original data, it may have been split such that it's only in the validation set now.\n"
     ]
    }
   ],
   "source": [
    "learn.get_idx(np.array([585,1]))"
   ]
  },
  {
   "cell_type": "code",
   "execution_count": 17,
   "metadata": {},
   "outputs": [
    {
     "data": {
      "text/plain": [
       "PosixPath('/Users/spencerbraun/.fastai/data/movie_lens_sample')"
      ]
     },
     "execution_count": 17,
     "metadata": {},
     "output_type": "execute_result"
    }
   ],
   "source": [
    "path"
   ]
  },
  {
   "cell_type": "code",
   "execution_count": 22,
   "metadata": {},
   "outputs": [
    {
     "name": "stdout",
     "output_type": "stream",
     "text": [
      "userId,movieId,rating,timestamp\r",
      "\r\n",
      "73,1097,4.0,1255504951\r",
      "\r\n",
      "561,924,3.5,1172695223\r",
      "\r\n",
      "157,260,3.5,1291598691\r",
      "\r\n",
      "358,1210,5.0,957481884\r",
      "\r\n",
      "130,316,2.0,1138999234\r",
      "\r\n",
      "580,1196,4.0,1220561546\r",
      "\r\n",
      "544,2918,5.0,1435787004\r",
      "\r\n",
      "213,1200,3.0,1462634054\r",
      "\r\n",
      "176,2571,4.5,1340714691\r",
      "\r\n",
      "cat: stdout: Broken pipe\r\n"
     ]
    }
   ],
   "source": [
    "! cat /Users/spencerbraun/.fastai/data/movie_lens_sample/ratings.csv | head"
   ]
  },
  {
   "cell_type": "code",
   "execution_count": null,
   "metadata": {},
   "outputs": [],
   "source": []
  },
  {
   "cell_type": "code",
   "execution_count": 118,
   "metadata": {},
   "outputs": [],
   "source": [
    "movies = pd.read_csv(path/'ratings.csv',  delimiter=',', encoding='latin-1')\n",
    "movies.head()\n",
    "rating_movie = movies#ratings.merge(movies[[item, title]])\n",
    "# rating_movie.head()"
   ]
  },
  {
   "cell_type": "code",
   "execution_count": 121,
   "metadata": {},
   "outputs": [
    {
     "data": {
      "text/html": [
       "<div>\n",
       "<style scoped>\n",
       "    .dataframe tbody tr th:only-of-type {\n",
       "        vertical-align: middle;\n",
       "    }\n",
       "\n",
       "    .dataframe tbody tr th {\n",
       "        vertical-align: top;\n",
       "    }\n",
       "\n",
       "    .dataframe thead th {\n",
       "        text-align: right;\n",
       "    }\n",
       "</style>\n",
       "<table border=\"1\" class=\"dataframe\">\n",
       "  <thead>\n",
       "    <tr style=\"text-align: right;\">\n",
       "      <th></th>\n",
       "      <th>userId</th>\n",
       "      <th>movieId</th>\n",
       "      <th>rating</th>\n",
       "      <th>timestamp</th>\n",
       "    </tr>\n",
       "  </thead>\n",
       "  <tbody>\n",
       "    <tr>\n",
       "      <th>0</th>\n",
       "      <td>73</td>\n",
       "      <td>1097</td>\n",
       "      <td>4.0</td>\n",
       "      <td>1255504951</td>\n",
       "    </tr>\n",
       "    <tr>\n",
       "      <th>1</th>\n",
       "      <td>561</td>\n",
       "      <td>924</td>\n",
       "      <td>3.5</td>\n",
       "      <td>1172695223</td>\n",
       "    </tr>\n",
       "    <tr>\n",
       "      <th>2</th>\n",
       "      <td>157</td>\n",
       "      <td>260</td>\n",
       "      <td>3.5</td>\n",
       "      <td>1291598691</td>\n",
       "    </tr>\n",
       "    <tr>\n",
       "      <th>3</th>\n",
       "      <td>358</td>\n",
       "      <td>1210</td>\n",
       "      <td>5.0</td>\n",
       "      <td>957481884</td>\n",
       "    </tr>\n",
       "    <tr>\n",
       "      <th>4</th>\n",
       "      <td>130</td>\n",
       "      <td>316</td>\n",
       "      <td>2.0</td>\n",
       "      <td>1138999234</td>\n",
       "    </tr>\n",
       "    <tr>\n",
       "      <th>...</th>\n",
       "      <td>...</td>\n",
       "      <td>...</td>\n",
       "      <td>...</td>\n",
       "      <td>...</td>\n",
       "    </tr>\n",
       "    <tr>\n",
       "      <th>6026</th>\n",
       "      <td>384</td>\n",
       "      <td>377</td>\n",
       "      <td>4.0</td>\n",
       "      <td>1153501701</td>\n",
       "    </tr>\n",
       "    <tr>\n",
       "      <th>6027</th>\n",
       "      <td>262</td>\n",
       "      <td>587</td>\n",
       "      <td>1.5</td>\n",
       "      <td>1434024940</td>\n",
       "    </tr>\n",
       "    <tr>\n",
       "      <th>6028</th>\n",
       "      <td>580</td>\n",
       "      <td>153</td>\n",
       "      <td>2.0</td>\n",
       "      <td>1165899265</td>\n",
       "    </tr>\n",
       "    <tr>\n",
       "      <th>6029</th>\n",
       "      <td>585</td>\n",
       "      <td>1</td>\n",
       "      <td>4.0</td>\n",
       "      <td>974607482</td>\n",
       "    </tr>\n",
       "    <tr>\n",
       "      <th>6030</th>\n",
       "      <td>388</td>\n",
       "      <td>527</td>\n",
       "      <td>5.0</td>\n",
       "      <td>946509889</td>\n",
       "    </tr>\n",
       "  </tbody>\n",
       "</table>\n",
       "<p>6031 rows × 4 columns</p>\n",
       "</div>"
      ],
      "text/plain": [
       "      userId  movieId  rating   timestamp\n",
       "0         73     1097     4.0  1255504951\n",
       "1        561      924     3.5  1172695223\n",
       "2        157      260     3.5  1291598691\n",
       "3        358     1210     5.0   957481884\n",
       "4        130      316     2.0  1138999234\n",
       "...      ...      ...     ...         ...\n",
       "6026     384      377     4.0  1153501701\n",
       "6027     262      587     1.5  1434024940\n",
       "6028     580      153     2.0  1165899265\n",
       "6029     585        1     4.0   974607482\n",
       "6030     388      527     5.0   946509889\n",
       "\n",
       "[6031 rows x 4 columns]"
      ]
     },
     "execution_count": 121,
     "metadata": {},
     "output_type": "execute_result"
    }
   ],
   "source": [
    "rating_movie"
   ]
  },
  {
   "cell_type": "code",
   "execution_count": 120,
   "metadata": {},
   "outputs": [],
   "source": [
    "doc(learn.bias)"
   ]
  },
  {
   "cell_type": "code",
   "execution_count": 99,
   "metadata": {},
   "outputs": [
    {
     "data": {
      "text/plain": [
       "array([  356,  1270,   296,   260, ...,  4973,   316,    10, 58559])"
      ]
     },
     "execution_count": 99,
     "metadata": {},
     "output_type": "execute_result"
    }
   ],
   "source": [
    "top_movies"
   ]
  },
  {
   "cell_type": "code",
   "execution_count": 128,
   "metadata": {},
   "outputs": [
    {
     "data": {
      "text/plain": [
       "array([ 356, 1270,  296,  260,  480,  593, 1580, 1265, 1196, 2571])"
      ]
     },
     "execution_count": 128,
     "metadata": {},
     "output_type": "execute_result"
    }
   ],
   "source": [
    "g = movies.groupby('movieId')['rating'].count()\n",
    "top_movies = g.sort_values(ascending=False).index.values[:1000]\n",
    "top_movies[:10]\n"
   ]
  },
  {
   "cell_type": "code",
   "execution_count": 133,
   "metadata": {},
   "outputs": [
    {
     "data": {
      "text/plain": [
       "<bound method model_summary of CollabLearner(data=TabularDataBunch;\n",
       "\n",
       "Train: LabelList (5428 items)\n",
       "x: CollabList\n",
       "userId 73; movieId 1097; ,userId 561; movieId 924; ,userId 157; movieId 260; ,userId 358; movieId 1210; ,userId 130; movieId 316; \n",
       "y: FloatList\n",
       "4.0,3.5,3.5,5.0,2.0\n",
       "Path: .;\n",
       "\n",
       "Valid: LabelList (603 items)\n",
       "x: CollabList\n",
       "userId 306; movieId 2628; ,userId 605; movieId 3793; ,userId 313; movieId 4886; ,userId 468; movieId 1136; ,userId 380; movieId 539; \n",
       "y: FloatList\n",
       "3.0,2.0,4.5,4.0,1.5\n",
       "Path: .;\n",
       "\n",
       "Test: None, model=EmbeddingDotBias(\n",
       "  (u_weight): Embedding(101, 40)\n",
       "  (i_weight): Embedding(101, 40)\n",
       "  (u_bias): Embedding(101, 1)\n",
       "  (i_bias): Embedding(101, 1)\n",
       "), opt_func=functools.partial(<class 'torch.optim.adam.Adam'>, betas=(0.9, 0.99)), loss_func=FlattenedLoss of MSELoss(), metrics=[], true_wd=True, bn_wd=True, wd=0.1, train_bn=True, path=PosixPath('.'), model_dir='models', callback_fns=[functools.partial(<class 'fastai.basic_train.Recorder'>, add_time=True, silent=False)], callbacks=[], layer_groups=[Sequential(\n",
       "  (0): Embedding(101, 40)\n",
       "  (1): Embedding(101, 40)\n",
       "  (2): Embedding(101, 1)\n",
       "  (3): Embedding(101, 1)\n",
       ")], add_time=True, silent=False)>"
      ]
     },
     "execution_count": 133,
     "metadata": {},
     "output_type": "execute_result"
    }
   ],
   "source": [
    "    \n",
    "learn.summary\n",
    "# movie_bias.shape"
   ]
  },
  {
   "cell_type": "code",
   "execution_count": 100,
   "metadata": {},
   "outputs": [
    {
     "data": {
      "text/plain": [
       "movieId\n",
       "1        3.760274\n",
       "10       3.285714\n",
       "32       3.855932\n",
       "34       3.443396\n",
       "39       3.406250\n",
       "           ...   \n",
       "6377     3.740000\n",
       "6539     3.907407\n",
       "7153     4.034483\n",
       "8961     3.944444\n",
       "58559    4.062500\n",
       "Name: rating, Length: 100, dtype: float64"
      ]
     },
     "execution_count": 100,
     "metadata": {},
     "output_type": "execute_result"
    }
   ],
   "source": [
    "mean_ratings"
   ]
  },
  {
   "cell_type": "code",
   "execution_count": 53,
   "metadata": {},
   "outputs": [],
   "source": [
    "mean_ratings = rating_movie.groupby('movieId')['rating'].mean()\n",
    "movie_ratings = [(i, mean_ratings.loc[i]) for i in top_movies]"
   ]
  },
  {
   "cell_type": "code",
   "execution_count": 101,
   "metadata": {},
   "outputs": [
    {
     "data": {
      "text/plain": [
       "[(356, 3.8850574712643677),\n",
       " (1270, 3.9879518072289155),\n",
       " (296, 4.475609756097561),\n",
       " (260, 4.25625),\n",
       " (480, 3.537974683544304),\n",
       " (593, 4.177215189873418),\n",
       " (1580, 3.4358974358974357),\n",
       " (1265, 3.7467532467532467),\n",
       " (1196, 4.2727272727272725),\n",
       " (2571, 4.1558441558441555),\n",
       " (2858, 4.1866666666666665),\n",
       " (1198, 4.20945945945946),\n",
       " (318, 4.331081081081081),\n",
       " (1, 3.76027397260274),\n",
       " (2762, 3.9794520547945207),\n",
       " (780, 3.2708333333333335),\n",
       " (1210, 4.176056338028169),\n",
       " (377, 3.3840579710144927),\n",
       " (4993, 4.125),\n",
       " (457, 3.860294117647059),\n",
       " (47, 4.125),\n",
       " (2628, 3.0522388059701493),\n",
       " (608, 4.1716417910447765),\n",
       " (1097, 3.873134328358209),\n",
       " (1721, 3.1343283582089554),\n",
       " (1240, 3.8507462686567164),\n",
       " (2716, 3.7954545454545454),\n",
       " (589, 3.962121212121212),\n",
       " (110, 3.8257575757575757),\n",
       " (858, 4.484848484848484),\n",
       " (2028, 4.0606060606060606),\n",
       " (1291, 3.8615384615384616),\n",
       " (5952, 3.9615384615384617),\n",
       " (2959, 4.276923076923077),\n",
       " (2918, 3.9307692307692306),\n",
       " (588, 3.640625),\n",
       " (527, 4.2890625),\n",
       " (1923, 3.484375),\n",
       " (2997, 3.859375),\n",
       " (1682, 3.6666666666666665),\n",
       " (1704, 3.9603174603174605),\n",
       " (1036, 3.9285714285714284),\n",
       " (4963, 3.7777777777777777),\n",
       " (1136, 4.2063492063492065),\n",
       " (3578, 3.9516129032258065),\n",
       " (5349, 3.442622950819672),\n",
       " (364, 3.5901639344262297),\n",
       " (1197, 4.241666666666666),\n",
       " (1213, 4.241666666666666),\n",
       " (541, 3.9661016949152543),\n",
       " (32, 3.8559322033898304),\n",
       " (1214, 4.043103448275862),\n",
       " (924, 3.7758620689655173),\n",
       " (500, 3.189655172413793),\n",
       " (380, 3.4224137931034484),\n",
       " (1732, 3.9741379310344827),\n",
       " (7153, 4.0344827586206895),\n",
       " (648, 3.3706896551724137),\n",
       " (4306, 3.7844827586206895),\n",
       " (592, 3.5775862068965516),\n",
       " (50, 4.359649122807017),\n",
       " (586, 3.0357142857142856),\n",
       " (344, 2.6160714285714284),\n",
       " (1073, 3.7410714285714284),\n",
       " (1089, 4.133928571428571),\n",
       " (590, 3.5636363636363635),\n",
       " (597, 3.309090909090909),\n",
       " (3793, 3.4),\n",
       " (1193, 4.236363636363636),\n",
       " (2396, 3.8636363636363638),\n",
       " (367, 2.9545454545454546),\n",
       " (6539, 3.9074074074074074),\n",
       " (4226, 4.25),\n",
       " (1617, 4.169811320754717),\n",
       " (34, 3.443396226415094),\n",
       " (736, 3.0673076923076925),\n",
       " (150, 3.7788461538461537),\n",
       " (1200, 3.9326923076923075),\n",
       " (3114, 3.7745098039215685),\n",
       " (587, 3.0980392156862746),\n",
       " (595, 3.92),\n",
       " (293, 4.07),\n",
       " (733, 3.56),\n",
       " (6377, 3.74),\n",
       " (1206, 4.010204081632653),\n",
       " (778, 4.285714285714286),\n",
       " (231, 2.836734693877551),\n",
       " (539, 3.295918367346939),\n",
       " (39, 3.40625),\n",
       " (1221, 4.458333333333333),\n",
       " (357, 3.5760869565217392),\n",
       " (253, 3.380434782608696),\n",
       " (4886, 3.880434782608696),\n",
       " (8961, 3.9444444444444446),\n",
       " (153, 2.411111111111111),\n",
       " (165, 3.409090909090909),\n",
       " (4973, 4.3023255813953485),\n",
       " (316, 3.3488372093023258),\n",
       " (10, 3.2857142857142856),\n",
       " (58559, 4.0625)]"
      ]
     },
     "execution_count": 101,
     "metadata": {},
     "output_type": "execute_result"
    }
   ],
   "source": [
    "movie_ratings"
   ]
  },
  {
   "cell_type": "code",
   "execution_count": null,
   "metadata": {},
   "outputs": [],
   "source": [
    "item0 = lambda o:o[0]"
   ]
  },
  {
   "cell_type": "code",
   "execution_count": null,
   "metadata": {},
   "outputs": [],
   "source": [
    "sorted(movie_ratings, key=item0)[:15]"
   ]
  },
  {
   "cell_type": "code",
   "execution_count": null,
   "metadata": {},
   "outputs": [],
   "source": [
    "sorted(movie_ratings, key=lambda o: o[0], reverse=True)[:15]"
   ]
  },
  {
   "cell_type": "code",
   "execution_count": null,
   "metadata": {},
   "outputs": [],
   "source": [
    "movie_w = learn.weight(top_movies, is_item=True)\n",
    "movie_w.shape"
   ]
  },
  {
   "cell_type": "code",
   "execution_count": null,
   "metadata": {},
   "outputs": [],
   "source": [
    "movie_pca = movie_w.pca(3)\n",
    "movie_pca.shape"
   ]
  },
  {
   "cell_type": "code",
   "execution_count": null,
   "metadata": {},
   "outputs": [],
   "source": [
    "fac0,fac1,fac2 = movie_pca.t()\n",
    "movie_comp = [(f, i) for f,i in zip(fac0, top_movies)]"
   ]
  },
  {
   "cell_type": "code",
   "execution_count": null,
   "metadata": {},
   "outputs": [],
   "source": [
    "idxs = np.random.choice(len(top_movies), 50, replace=False)\n",
    "idxs = list(range(50))\n",
    "X = fac0[idxs]\n",
    "Y = fac2[idxs]\n",
    "plt.figure(figsize=(15,15))\n",
    "plt.scatter(X, Y)\n",
    "for i, x, y in zip(top_movies[idxs], X, Y):\n",
    "    plt.text(x,y,i, color=np.random.rand(3)*0.7, fontsize=11)\n",
    "plt.show()"
   ]
  }
 ],
 "metadata": {
  "kernelspec": {
   "display_name": "Python 3",
   "language": "python",
   "name": "python3"
  },
  "language_info": {
   "codemirror_mode": {
    "name": "ipython",
    "version": 3
   },
   "file_extension": ".py",
   "mimetype": "text/x-python",
   "name": "python",
   "nbconvert_exporter": "python",
   "pygments_lexer": "ipython3",
   "version": "3.8.5"
  }
 },
 "nbformat": 4,
 "nbformat_minor": 4
}
